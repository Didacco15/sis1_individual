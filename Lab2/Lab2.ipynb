{
 "cells": [
  {
   "cell_type": "markdown",
   "metadata": {},
   "source": [
    "Dídac Costa Gargallo - u252353\n",
    "\n",
    "Senyals i Sistemes I\n",
    "\n",
    "24/10"
   ]
  },
  {
   "cell_type": "markdown",
   "metadata": {
    "id": "7FEkSsqqPhe2"
   },
   "source": [
    "### **Lab 2: Introduction to Complex Exponentials**\n",
    "\n",
    "The goal of this laboratory is to gain familiarity with complex numbers and their use in representing sinusoidal signals as complex exponentials.\n",
    "\n",
    "**Complex Numbers in Python**\n",
    "\n",
    "\n",
    "Python can be used to compute complex-valued formulas and also to display the results as a vector or “phasor” diagrams.\n",
    "\n",
    "Here are some of numpy package complex number functions (remember to import package):\n",
    "\n",
    "*conj ()*       Complex conjugate\n",
    "\n",
    "*abs ()*        Magnitude\n",
    "\n",
    "*angle ()*      Angle (or phase) in radians\n",
    "\n",
    "*real ()*       Real part\n",
    "\n",
    "*imag ()*       Imaginary part\n",
    "*j *        pre-defined as <math>&radic;-1</math>\n",
    "\n",
    "*x = 3 + 4j*    j sufix defines imaginary constant\n",
    "\n",
    "exp(1j<math>*</math>theta)  Function for the complex exponential\n",
    "\n",
    "Each of these functions takes a vector (or matrix) as its input argument and operates on each element of the vector.\n",
    "\n",
    "To display a complex number as a point in the complex plane you can directly use the provided function `plot_complex`. It can take a single number or a list of complex numbers as input. For instance, to display the complex number 2+1j:"
   ]
  },
  {
   "cell_type": "code",
   "execution_count": 55,
   "metadata": {
    "colab": {
     "base_uri": "https://localhost:8080/"
    },
    "executionInfo": {
     "elapsed": 3415,
     "status": "ok",
     "timestamp": 1702317970077,
     "user": {
      "displayName": "PEDRO RAMONEDA FRANCO",
      "userId": "10653804143244385715"
     },
     "user_tz": -60
    },
    "id": "uvmioytcPgyZ",
    "outputId": "1fce312e-20b9-4609-df57-1a92ba465e41"
   },
   "outputs": [],
   "source": [
    "import numpy as np\n",
    "from IPython.display import Audio\n",
    "\n",
    "from util import load_audio, save_audio, plot_signals, plot_complex"
   ]
  },
  {
   "cell_type": "code",
   "execution_count": 56,
   "metadata": {
    "colab": {
     "base_uri": "https://localhost:8080/",
     "height": 542
    },
    "executionInfo": {
     "elapsed": 17,
     "status": "ok",
     "timestamp": 1702317970078,
     "user": {
      "displayName": "PEDRO RAMONEDA FRANCO",
      "userId": "10653804143244385715"
     },
     "user_tz": -60
    },
    "id": "t_Yo8e9yPvT6",
    "outputId": "2c45e158-029d-4451-b750-96607dd5e655"
   },
   "outputs": [
    {
     "data": {
      "application/vnd.plotly.v1+json": {
       "config": {
        "plotlyServerURL": "https://plot.ly"
       },
       "data": [
        {
         "line": {
          "color": "rgb(150,150,150)",
          "dash": "dash",
          "shape": "linear"
         },
         "mode": "lines",
         "name": "unit circle",
         "type": "scatter",
         "x": {
          "bdata": "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",
          "dtype": "f8"
         },
         "y": {
          "bdata": "AAAAAAAAAABONnLm8sJ5Pw1f+IHRwok/5EINZPNRkz+dtRTxS8KZP/GmbNswGaA/GHhnAhJRoz/K8aAVwYimP+QJwb01wKk/VigHpGf3rD+p4i85JxewP+ECvelwsrE/3qpuuYxNsz9pgH9+dui0P/rjqw8qg7Y/ULo8RKMduD+sNBL03be5P3uXrvfVUbs/Xv9AKIfrvD9qJLBf7YS+P82NUjwCD8A/IgtLJ2TbwD+5j+hemqfBP4lrw9Gic8I/cJXqbns/wz9xBuklIgvEP68Ty+aU1sQ/HccjotGhxT/LNhJJ1mzGP9HaRs2gN8c/ueEIIS8CyD9hgzs3f8zIP1VSYwOPlsk/doureVxgyj/8Y+uO5SnLP7pVqzgo88s/jWkqbSK8zD//f2Mj0oTNP/uXElM1Tc4/iRO69EkVzz+R+qcBDt3PP8ad/bk/UtA/BXVUI8610D+UvcA6MRnRP9f/mv5nfNE//62ubXHf0T/SvjyHTELSP0ZH/kr4pNI/3hInuXMH0z/UOmjSvWnTP+278pfVy9M/Gwt6C7ot1D+tqDYvao/UP0Wy6AXl8NQ/WHPakilS1T9O9OLZNrPVP0OIaN8LFNY/PFljqKd01j/y8l86CdXWPyDMgZsvNdc/N86F0hmV1z+a28TmxvTXPzZUNuA1VNg/hphyx2Wz2D/1irWlVRLZP5UP4YQEcdk/Lop/b3HP2T+QWsZwmy3aPzBXmJSBi9o/BEaI5yLp2j+NU9t2fkbbPx6Ii1CTo9s/TztKg2AA3D+EhYIe5VzcP6WvWzIgudw/66C7zxAV3T+xSkkItnDdP2ISb+4OzN0/YzldlRon3j/8QgwR2IHeP0BYP3ZG3N4/3amG2mQ23z/mz0FUMpDfP3Qnovqt6d8/HZfWcmsh4D/wbR8X1k3gP5z8BXcWeuA/qTrSHyym4D8d3DqfFtLgP8R5ZoPV/eA/XLjsWmgp4T+Qbte0zlThP9DJoyAIgOE/AHJDLhSr4T/5qx1u8tXhP9R6EHGiAOI/BsBxyCMr4j9GWhAGdlXiPzRDNbyYf+I/yKukfYup4j+CF5/dTdPiP1R24m/f/OI/RT2ryD8m4z/afbV8bk/jPyH8PSFreOM/ekMDTDWh4z8NukaTzMnjP+6yzY0w8uM/6X7i0mAa5D/ze1X6XELkP0YjfpwkauQ/HBY8UreR5D8DKfi0FLnkP9ZtpV484OQ/TTzC6S0H5T8hOVnx6C3lP8ZbAhFtVOU/uvLj5Ll65T9cprMJz6DlP1Z6txysxuU/jc3Gu1Ds5T+YWEuFvBHmP8EqQhjvNuY/gKU8FOhb5j96dmEZp4DmP/2PbcgrpeY/9R+1wnXJ5j9ehSSqhO3mPx5EQSFYEec/Y/cqy+805z9qQpxLS1jnP6y/60Zqe+c/h+4MYkye5z9EH5FC8cDnP4VdqI5Y4+c/IVki7YEF6D9STW8FbSfoP1bmoH8ZSeg/XCVrBIdq6D/UQiU9tYvoPx6PytOjrOg/gVH7clLN6D+Gpf3FwO3oP5ZWvnjuDek/9LnRN9st6T8Ch3Swhk3pP8qtjJDwbOk/2SuqhhiM6T9f3wdC/qrpP5JYjHKhyek/U6nKyAHo6T8YMwP2HgbqPxVzJKz4I+o/l8zLnY5B6j+qUUZ+4F7qP+qJkQHue+o/lDdc3LaY6j/CGgfEOrXqP+SypW550eo/Yv7+knLt6j9sOI7oJQnrPwKVgyeTJOs/GPvECLo/6z/rvO5FmlrrP35OVJkzdes/NvoAvoWP6z+hk7hvkKnrP1wo+GpTw+s/E6/2bM7c6z+otKUzAfbrP3MHsn3rDuw/k2CECo0n7D9uC0Ka5T/sPzGLze30V+w/cz7Hxrpv7D/lAI7nNofsPxzLPxNpnuw/YVC6DVG17D+cmpub7svsPz+kQoJB4uw/SvDPh0n47D9QICZzBg7tP4iI6gt4I+0/5sGFGp447T85OiRoeE3tP0vCtr4GYu0/Chrz6Eh27T+telSyPortP9geHOfnne0/x8hRVESx7T9nRsTHU8TtP4LzCRAW1+0/zTmB/Irp7T8BD1FdsvvtP+FwaQOMDe4/Qt+DwBcf7j/90yNnVTDuP9o4l8pEQe4/ddv2vuVR7j8H3yYZOGLuPy8s1647cu4/n96DVvCB7j+8sHXnVZHuPy1lwjlsoO4/Vi5NJjOv7j+8E8eGqr3uP1VVrzXSy+4/wcxTDqrZ7j9uTNHsMefuP538E65p9O4/VbbXL1EB7z84XKhQ6A3vPzox4u8uGu8/RC2y7SQm7z+uTxYryjHvP6jv3YkePe8/dwqq7CFI7z+jj+021FLvP/Gq7Uw1Xe8/TwzCE0Vn7z+PLVVxA3HvPwmWZExweu8/FxyBjIuD7z9tJA8aVYzvP0vfRt7MlO8/joM0w/Kc7z+Wh7izxqTvPwzYh5tIrO8/fAwsZ3iz7z/JmQMEVrrvP3oCQmDhwO8/4gTwahrH7z8Ux+sTAc3vP70A6UuV0u8/yCJxBNfX7z/ffOMvxtzvP75gdcFi4e8/XUMyrazl7z/u2/vno+nvP65AimdI7e8/kQFsIprw7z+2QAYQmfPvP77IlChF9u8/5iAqZZ747z8En6+/pPrvP0h35TJY/O8/4cliurj97z9irpVSxv7vPws9w/iA/+8/15UHq+j/7z9o5VVo/f/vP7lneDC//+8/smgQBC7/7z99QpbkSf7vP7xZWdQS/e8/ixeA1oj77z9V4Qfvq/nvP3sOxSJ89+8/z9tid/n07z/jXGPzI/LvPyxrH5777u8/75LGf4Dr7z8R/l6hsufvP6pcxQyS4+8/esuszB7f7z8puJ7sWNrvP2HD+nhA1e8/tqD2ftXP7z9q9J0MGMrvPwUv0jAIxO8/vmZK+6W97z++LpN88bbvPztsDsbqr+8/Zinz6ZGo7z81Zk375qDvP/7m/Q3qmO8/8wC6NpuQ7z9vZAuL+ofvPyPlTyEIf+8/GkC5EMR17z+W30xxLmzvP8uc41tHYu8/dH8p6g5Y7z9Ke502hU3vP0srkVyqQu8/8YooeH437z83rVmmASzvP4px7AQ0IO8/jzZ6shUU7z/Vim3OpgfvP1/bAXnn+u4/GCBD09ft7j8jhg3/d+DuPxkYDR/I0u4/I2S9VsjE7j/8H2nKeLbuP97KKZ/Zp+4/Vk3n+uqY7j/4llcErYnuPxA6/uIfeu4/JgUsv0Nq7j+Cmv7BGFruP5EFYBWfSe4/Pk4G5NY47j82CnNZwCfuPybs8qFbFu4/1lCd6qgE7j9QylNhqPLtP+aowTRa4O0/PIJblL7N7T87tl6w1brtPwjy0Lmfp+0/7LB/4hyU7T80u/9cTYDtPxWjrFwxbO0/iD+oFclX7T8eJdq8FEPtP+Ac74cULu0/J5lYrcgY7T90KExkMQPtP1bmwuRO7ew/Sep4ZyHX7D+otOwlqcDsP5iZXlrmqew/CyrQP9mS7D/ImgMSgnvsP3opew3hY+w/1n94b/ZL7D/TFPx1wjPsP+OLxF9FG+w/UBJObH8C7D+lutHbcOnrPzXWRO8Z0Os/q0xY6Hq26z/I8XcJlJzrPyrZyZVlgus/Oagt0e9n6z835jsAM03rP2ZKRWgvMus/VghST+UW6z9cGiH8VPvqPyiKJ7Z+3+o/hbePxWLD6j9CnThzAafqP0wUtQhbiuo/7hRL0G9t6j9J9vIUQFDqP/arViLMMuo/3gHRRBQV6j9M1mzJGPfpPzBS5P3Z2Ok/nR+gMFi66T+Hnrawk5vpP8AX682MfOk/I+6s2ENd6T8azhYiuT3pP1nb7fvsHek/4NyguN/96D9KZ0erkd3oP2QFoScDveg/EF8UgjSc6D91Xq4PJnvoP4RTISbYWeg/0RXEG0s46D+6JJFHfxboP+zFJQF19Oc/SCLBoCzS5z8RYUN/pq/nP4rBLPbijOc/87KcX+Jp5z/f6lAWpUbnP/55pHUrI+c/Qt+O2XX/5j92GaOehNvmP0K3DiJYt+Y/luWYwfCS5j+XfKHbTm7mP+wKIM9ySeY/j9+i+1wk5j8gEk7BDf/lP5SJ2oCF2eU/ggGVm8Sz5T/iDV1zy43lP1QdpGqaZ+U/6Hls5DFB5T91SEhEkhrlP3WGWO678+Q/cQZMR6/M5D/+al60bKXkP08gV5v0feQ/WFSIYkdW5D+F7c1wZS7kPyWAjC1PBuQ/S0KwAAXe4z9u/qtSh7XjP6MEeIzWjOM/fBqRF/Nj4z+Mafdd3TrjP6FsLcqVEeM/ods2xxzo4j8blpfAcr7iP5OMUiKYlOI/eqjoWI1q4j/mslfRUkDiPwE6GfnoFeI/SHUhPlDr4T9rKN4OicDhPxKFNdqTleE/WguFD3Fq4T8kaaAeIT/hPyZY0HekE+E/3HrRi/vn4D9AONPLJrzgP1+WdqkmkOA/xhPNlvtj4D/Kf1cGpjfgP7HRBGsmC+A/df1hcPq83z84nkfDVWPfP45jH7dfCd8/ch4hNRmv3j9bNlUng1TeP4NKknie+d0/GNF6FGye3T9gtHrn7ELdP9LtxN4h59w/Jh9R6AuL3D9xKdnyqy7cPzzC1u0C0ts/sAaByRF12z/yDMp22RfbP1hzXOdauto/Ae6YDZdc2j930pPcjv7ZP4ShEkhDoNk/PY+JRLVB2T9FCRnH5eLYP1U7i8XVg9g/CpJRNoYk2D8EPIIQ+MTXP1ap1UssZdc/UQmk4CMF1z+xxuLH36TWP04CIvtgRNY/+AuKdKjj1T8P2tgut4LVP3Z/XyWOIdU/CaD/Uy7A1D+m4yi3mF7UP79n1kvO/NM/gC+MD9Ca0z+dklQAnzjTP7iqvRw81tI/d7/WY6hz0j9NsS3V5BDSP+5izHDyrdE/qyE2N9JK0T9IDGUphefQP+Z4x0gMhNA/m1k9l2gg0D/nPysuNnnPP4U+F5ZJsc4/1tuIbA3pzT8Zi5i4gyDNP0zEJ4KuV8w/bsDb0Y+Oyz+/MxixKcXKPxkG+il++8k/UwlSR48xyT8jrp8UX2fIP6C2C57vnMc/pOdi8ELSxj8/uBAZWwfGP5b/GSY6PMU/O6EXJuJwxD/+NzEoVaXDP1W/FzyV2cI/WDsAcqQNwj9tX57ahEHBP6IzH4c4dcA/lXFHEoNRvz9nF3flQ7i9P0ENv6y3Hrw/qMTYjeKEuj+MqzqvyOq4P+1pDThuULc/sB0hUNe1tT/DlOIfCBu0P6eFUNAEgLI/h8bwitHksD/VBYvz5JKuP1DghI7XW6s/YAGEPIMkqD9hLPVT8OykP85m5ysntaE/ga/sN2D6nD8YUWn4JoqWP7DFLEqzGZA/JDhtvStSgz/jvZQ/+8JpP663lD/7wmm/lzZtvStSg7/pxCxKsxmQv1FQafgmipa/u67sN2D6nL9rZucrJ7Whvz4s9VPw7KS//QCEPIMkqL/t34SO11urv3IFi/Pkkq6/VcbwitHksL91hVDQBICyv5GU4h8IG7S/fx0hUNe1tb+8aQ04blC3v1urOq/I6ri/d8TYjeKEur8QDb+stx68vzYXd+VDuL2/g3FHEoNRv7+JMx+HOHXAv1RfntqEQcG/QDsAcqQNwr88vxc8ldnCv+U3MShVpcO/IqEXJuJwxL9+/xkmOjzFvye4EBlbB8a/jOdi8ELSxr+Htgue75zHvwuunxRfZ8i/OglSR48xyb8ABvopfvvJv6YzGLEpxcq/VcDb0Y+Oy780xCeCrlfMvwGLmLiDIM2/vtuIbA3pzb9tPheWSbHOv88/Ky42ec+/j1k9l2gg0L/aeMdIDITQvzwMZSmF59C/nyE2N9JK0b/iYsxw8q3Rv0GxLdXkENK/a7/WY6hz0r+sqr0cPNbSv5GSVACfONO/dC+MD9Ca07+zZ9ZLzvzTv5vjKLeYXtS//Z//Uy7A1L9qf18ljiHVvwTa2C63gtW/7AuKdKjj1b9CAiL7YETWv63G4sffpNa/RQmk4CMF179KqdVLLGXXv/k7ghD4xNe//5FRNoYk2L9JO4vF1YPYvzkJGcfl4ti/Mo+JRLVB2b95oRJIQ6DZv2zSk9yO/tm/9u2YDZdc2r9Nc1znWrrav+cMynbZF9u/rAaByRF1278wwtbtAtLbv2Yp2fKrLty/Gx9R6AuL3L/H7cTeIefcv1W0eufsQt2/DdF6FGye3b94SpJ4nvndv1A2VSeDVN6/Zx4hNRmv3r+DYx+3Xwnfvy6eR8NVY9+/av1hcPq837+s0QRrJgvgv8V/VwamN+C/wRPNlvtj4L9alnapJpDgvzo408smvOC/1nrRi/vn4L8gWNB3pBPhvx5poB4hP+G/VQuFD3Fq4b8MhTXak5Xhv2Yo3g6JwOG/Q3UhPlDr4b/8ORn56BXiv+GyV9FSQOK/dajoWI1q4r+OjFIimJTivxaWl8ByvuK/nNs2xxzo4r+cbC3KlRHjv4dp913dOuO/dxqRF/Nj47+eBHiM1ozjv2n+q1KHteO/RkKwAAXe478hgIwtTwbkv4PtzXBlLuS/U1SIYkdW5L9LIFeb9H3kv/lqXrRspeS/bAZMR6/M5L9whljuu/Pkv3FISESSGuW/5Hls5DFB5b9PHaRqmmflv90NXXPLjeW/fQGVm8Sz5b+QidqAhdnlvxwSTsEN/+W/jt+i+1wk5r/nCiDPcknmv5J8odtObua/kuWYwfCS5r89tw4iWLfmv3IZo56E2+a/Pt+O2XX/5r/6eaR1KyPnv9vqUBalRue/7rKcX+Jp57+GwSz24oznvw1hQ3+mr+e/RCLBoCzS57/rxSUBdfTnv7YkkUd/Fui/zRXEG0s46L99UyEm2Fnov3Berg8me+i/CV8UgjSc6L9hBaEnA73ov0lnR6uR3ei/3NyguN/96L9X2+377B3pvxbOFiK5Pem/Iu6s2ENd6b+8F+vNjHzpv4aetrCTm+m/lx+gMFi66b8sUuT92djpv0bWbMkY9+m/2gHRRBQV6r/wq1YizDLqv0X28hRAUOq/7RRL0G9t6r9IFLUIW4rqv0GdOHMBp+q/grePxWLD6r8niie2ft/qv1gaIfxU++q/UwhST+UW679gSkVoLzLrvzTmOwAzTeu/NKgt0e9n678n2cmVZYLrv8PxdwmUnOu/qUxY6Hq267801kTvGdDrv6K60dtw6eu/ThJObH8C7L/gi8RfRRvsv9IU/HXCM+y/0394b/ZL7L93KXsN4WPsv8OaAxKCe+y/CSrQP9mS7L+TmV5a5qnsv6W07CWpwOy/Rep4ZyHX7L9T5sLkTu3sv3MoTGQxA+2/JJlYrcgY7b/fHO+HFC7tvxsl2rwUQ+2/hj+oFclX7b8So6xcMWztvzK7/1xNgO2/6bB/4hyU7b8H8tC5n6ftvze2XrDVuu2/OYJblL7N7b/iqME0WuDtv03KU2Go8u2/1VCd6qgE7r8k7PKhWxbuvzYKc1nAJ+6/O04G5NY47r+PBWAVn0nuv3+a/sEYWu6/JQUsv0Nq7r8NOv7iH3ruv/eWVwStie6/U03n+uqY7r/dyimf2afuv/sfacp4tu6/IWS9VsjE7r8ZGA0fyNLuvyGGDf934O6/FiBD09ft7r9d2wF55/ruv9SKbc6mB++/jTZ6shUU77+JcewENCDvvzWtWaYBLO+/8IooeH43779JK5FcqkLvv0h7nTaFTe+/dH8p6g5Y77/JnONbR2Lvv5bfTHEubO+/GUC5EMR1778j5U8hCH/vv21kC4v6h++/8gC6NpuQ77/95v0N6pjvvzRmTfvmoO+/ZSnz6ZGo7786bA7G6q/vv7wuk3zxtu+/vWZK+6W9778FL9IwCMTvv2r0nQwYyu+/taD2ftXP779gw/p4QNXvvym4nuxY2u+/ecuszB7f77+pXMUMkuPvvxD+XqGy5++/75LGf4Dr778rax+e++7vv+NcY/Mj8u+/zttid/n07796DsUifPfvv1XhB++r+e+/ixeA1oj777+8WVnUEv3vv3xCluRJ/u+/smgQBC7/77+5Z3gwv//vv2jlVWj9/++/15UHq+j/778LPcP4gP/vv2KulVLG/u+/4cliurj9779Jd+UyWPzvvwSfr7+k+u+/5yAqZZ7477++yJQoRfbvv7ZABhCZ8++/kQFsIprw77+uQIpnSO3vv+7b++ej6e+/XkMyrazl77+/YHXBYuHvv+B84y/G3O+/ySJxBNfX77+9AOlLldLvvxXH6xMBze+/4gTwahrH7797AkJg4cDvv8qZAwRWuu+/fAwsZ3iz778N2IebSKzvv5aHuLPGpO+/j4M0w/Kc779M30bezJTvv24kDxpVjO+/GByBjIuD778LlmRMcHrvv5AtVXEDce+/UQzCE0Vn77/zqu1MNV3vv6OP7TbUUu+/eQqq7CFI77+o792JHj3vv7BPFivKMe+/RS2y7SQm7788MeLvLhrvvzlcqFDoDe+/V7bXL1EB77+e/BOuafTuv3FM0ewx5+6/w8xTDqrZ7r9YVa810svuv74Tx4aqve6/Vy5NJjOv7r8vZcI5bKDuv7ywdedVke6/od6DVvCB7r8wLNeuO3LuvwrfJhk4Yu6/dtv2vuVR7r/dOJfKREHuv/7TI2dVMO6/Rt+DwBcf7r/kcGkDjA3uvwQPUV2y++2/zzmB/Irp7b+D8wkQFtftv2pGxMdTxO2/yMhRVESx7b/cHhzn553tv696VLI+iu2/Dhrz6Eh27b9Nwra+BmLtvzw6JGh4Te2/6MGFGp447b+MiOoLeCPtv1IgJnMGDu2/TvDPh0n47L9CpEKCQeLsv52am5vuy+y/ZFC6DVG17L8dyz8TaZ7sv+kAjuc2h+y/dT7Hxrpv7L81i83t9Ffsv3ALQprlP+y/l2CECo0n7L91B7J96w7sv620pTMB9uu/Fq/2bM7c679hKPhqU8Prv6STuG+Qqeu/N/oAvoWP67+BTlSZM3Xrv+287kWaWuu/HPvECLo/678FlYMnkyTrv3E4juglCeu/ZP7+knLt6r/psqVuedHqv8UaB8Q6teq/mTdc3LaY6r/tiZEB7nvqv6tRRn7gXuq/mszLnY5B6r8WcySs+CPqvxwzA/YeBuq/VanKyAHo6b+WWIxyocnpv2HfB0L+qum/3SuqhhiM6b/MrYyQ8GzpvweHdLCGTem/97nRN9st6b+bVr547g3pv4ql/cXA7ei/g1H7clLN6L8ij8rTo6zov9ZCJT21i+i/YCVrBIdq6L9Z5qB/GUnov1hNbwVtJ+i/I1ki7YEF6L+LXaiOWOPnv0cfkULxwOe/je4MYkye57+vv+tGanvnv3BCnEtLWOe/aPcqy+80578fREEhWBHnv2KFJKqE7ea/+B+1wnXJ5r8CkG3IK6Xmv3x2YRmngOa/hqU8FOhb5r/EKkIY7zbmv55YS4W8Eea/kM3Gu1Ds5b9cerccrMblv2CmswnPoOW/wfLj5Ll65b/KWwIRbVTlvyI5WfHoLeW/UjzC6S0H5b/YbaVePODkvwgp+LQUueS/HxY8UreR5L9NI36cJGrkv/Z7VfpcQuS/8H7i0mAa5L/yss2NMPLjvxS6RpPMyeO/fkMDTDWh478p/D0ha3jjv999tXxuT+O/Rz2ryD8m479ZduJv3/ziv4UXn91N0+K/zqukfYup4r83QzW8mH/iv0xaEAZ2VeK/CcBxyCMr4r/behBxogDiv/2rHW7y1eG/CHJDLhSr4b/VyaMgCIDhv5hu17TOVOG/YrjsWmgp4b/GeWaD1f3gvyLcOp8W0uC/rDrSHyym4L+i/AV3Fnrgv/JtHxfWTeC/JJfWcmsh4L97J6L6renfv/TPQVQykN+/5qmG2mQ2379QWD92RtzevwZDDBHYgd6/dTldlRon3r9tEm/uDszdv7VKSQi2cN2/96C7zxAV3b+rr1syILncv5CFgh7lXNy/VTtKg2AA3L8tiItQk6Pbv5RT23Z+Rtu/FEaI5yLp2r86V5iUgYvav6FaxnCbLdq/OIp/b3HP2b+nD+GEBHHZvwCLtaVVEtm/i5hyx2Wz2L9DVDbgNVTYv6DbxObG9Ne/Rc6F0hmV178nzIGbLzXXvwLzXzoJ1da/RFljqKd01r9UiGjfCxTWv1j04tk2s9W/aXPakilS1b9QsugF5fDUv8CoNi9qj9S/Jwt6C7ot1L/yu/KX1cvTv+A6aNK9adO/5BInuXMH079UR/5K+KTSv9q+PIdMQtK/Dq6ubXHf0b/f/5r+Z3zRv6W9wDoxGdG/D3VUI8610L/Ynf25P1LQv6f6pwEO3c+/kBO69EkVz78UmBJTNU3OvwqAYyPShM2/qGkqbSK8zL/GVas4KPPLvxpk647lKcu/hYureVxgyr91UmMDj5bJv3ODOzd/zMi/2+EIIS8CyL/l2kbNoDfHv/A2EknWbMa/M8cjotGhxb+4E8vmlNbEv4sG6SUiC8S/e5Xqbns/w7+la8PRonPCv8aP6F6ap8G/QQtLJ2TbwL/djVI8Ag/Av6sksF/thL6/gv9AKIfrvL/Cl6731VG7v9U0EvTdt7m/m7o8RKMduL8o5KsPKoO2v3uAf3526LS/EatuuYxNs7/3Ar3pcLKxv+LiLzknF7C/jSgHpGf3rL9gCsG9NcCpvwryoBXBiKa/nXhnAhJRo787p2zbMBmgv7u2FPFLwpm/jUMNZPNRk79yYfiB0cKJv0A5cubywnm/B1wUMyamsbw=",
          "dtype": "f8"
         }
        },
        {
         "marker": {
          "color": "#1f77b4"
         },
         "mode": "markers",
         "name": "z_0",
         "type": "scatter",
         "x": [
          2
         ],
         "y": [
          1
         ]
        }
       ],
       "layout": {
        "annotations": [
         {
          "arrowcolor": "#1f77b4",
          "arrowhead": 3,
          "arrowwidth": 1.5,
          "ax": 0,
          "axref": "x",
          "ay": 0,
          "ayref": "y",
          "showarrow": true,
          "text": "",
          "x": 2,
          "y": 1
         }
        ],
        "template": {
         "data": {
          "bar": [
           {
            "error_x": {
             "color": "#2a3f5f"
            },
            "error_y": {
             "color": "#2a3f5f"
            },
            "marker": {
             "line": {
              "color": "#E5ECF6",
              "width": 0.5
             },
             "pattern": {
              "fillmode": "overlay",
              "size": 10,
              "solidity": 0.2
             }
            },
            "type": "bar"
           }
          ],
          "barpolar": [
           {
            "marker": {
             "line": {
              "color": "#E5ECF6",
              "width": 0.5
             },
             "pattern": {
              "fillmode": "overlay",
              "size": 10,
              "solidity": 0.2
             }
            },
            "type": "barpolar"
           }
          ],
          "carpet": [
           {
            "aaxis": {
             "endlinecolor": "#2a3f5f",
             "gridcolor": "white",
             "linecolor": "white",
             "minorgridcolor": "white",
             "startlinecolor": "#2a3f5f"
            },
            "baxis": {
             "endlinecolor": "#2a3f5f",
             "gridcolor": "white",
             "linecolor": "white",
             "minorgridcolor": "white",
             "startlinecolor": "#2a3f5f"
            },
            "type": "carpet"
           }
          ],
          "choropleth": [
           {
            "colorbar": {
             "outlinewidth": 0,
             "ticks": ""
            },
            "type": "choropleth"
           }
          ],
          "contour": [
           {
            "colorbar": {
             "outlinewidth": 0,
             "ticks": ""
            },
            "colorscale": [
             [
              0,
              "#0d0887"
             ],
             [
              0.1111111111111111,
              "#46039f"
             ],
             [
              0.2222222222222222,
              "#7201a8"
             ],
             [
              0.3333333333333333,
              "#9c179e"
             ],
             [
              0.4444444444444444,
              "#bd3786"
             ],
             [
              0.5555555555555556,
              "#d8576b"
             ],
             [
              0.6666666666666666,
              "#ed7953"
             ],
             [
              0.7777777777777778,
              "#fb9f3a"
             ],
             [
              0.8888888888888888,
              "#fdca26"
             ],
             [
              1,
              "#f0f921"
             ]
            ],
            "type": "contour"
           }
          ],
          "contourcarpet": [
           {
            "colorbar": {
             "outlinewidth": 0,
             "ticks": ""
            },
            "type": "contourcarpet"
           }
          ],
          "heatmap": [
           {
            "colorbar": {
             "outlinewidth": 0,
             "ticks": ""
            },
            "colorscale": [
             [
              0,
              "#0d0887"
             ],
             [
              0.1111111111111111,
              "#46039f"
             ],
             [
              0.2222222222222222,
              "#7201a8"
             ],
             [
              0.3333333333333333,
              "#9c179e"
             ],
             [
              0.4444444444444444,
              "#bd3786"
             ],
             [
              0.5555555555555556,
              "#d8576b"
             ],
             [
              0.6666666666666666,
              "#ed7953"
             ],
             [
              0.7777777777777778,
              "#fb9f3a"
             ],
             [
              0.8888888888888888,
              "#fdca26"
             ],
             [
              1,
              "#f0f921"
             ]
            ],
            "type": "heatmap"
           }
          ],
          "histogram": [
           {
            "marker": {
             "pattern": {
              "fillmode": "overlay",
              "size": 10,
              "solidity": 0.2
             }
            },
            "type": "histogram"
           }
          ],
          "histogram2d": [
           {
            "colorbar": {
             "outlinewidth": 0,
             "ticks": ""
            },
            "colorscale": [
             [
              0,
              "#0d0887"
             ],
             [
              0.1111111111111111,
              "#46039f"
             ],
             [
              0.2222222222222222,
              "#7201a8"
             ],
             [
              0.3333333333333333,
              "#9c179e"
             ],
             [
              0.4444444444444444,
              "#bd3786"
             ],
             [
              0.5555555555555556,
              "#d8576b"
             ],
             [
              0.6666666666666666,
              "#ed7953"
             ],
             [
              0.7777777777777778,
              "#fb9f3a"
             ],
             [
              0.8888888888888888,
              "#fdca26"
             ],
             [
              1,
              "#f0f921"
             ]
            ],
            "type": "histogram2d"
           }
          ],
          "histogram2dcontour": [
           {
            "colorbar": {
             "outlinewidth": 0,
             "ticks": ""
            },
            "colorscale": [
             [
              0,
              "#0d0887"
             ],
             [
              0.1111111111111111,
              "#46039f"
             ],
             [
              0.2222222222222222,
              "#7201a8"
             ],
             [
              0.3333333333333333,
              "#9c179e"
             ],
             [
              0.4444444444444444,
              "#bd3786"
             ],
             [
              0.5555555555555556,
              "#d8576b"
             ],
             [
              0.6666666666666666,
              "#ed7953"
             ],
             [
              0.7777777777777778,
              "#fb9f3a"
             ],
             [
              0.8888888888888888,
              "#fdca26"
             ],
             [
              1,
              "#f0f921"
             ]
            ],
            "type": "histogram2dcontour"
           }
          ],
          "mesh3d": [
           {
            "colorbar": {
             "outlinewidth": 0,
             "ticks": ""
            },
            "type": "mesh3d"
           }
          ],
          "parcoords": [
           {
            "line": {
             "colorbar": {
              "outlinewidth": 0,
              "ticks": ""
             }
            },
            "type": "parcoords"
           }
          ],
          "pie": [
           {
            "automargin": true,
            "type": "pie"
           }
          ],
          "scatter": [
           {
            "fillpattern": {
             "fillmode": "overlay",
             "size": 10,
             "solidity": 0.2
            },
            "type": "scatter"
           }
          ],
          "scatter3d": [
           {
            "line": {
             "colorbar": {
              "outlinewidth": 0,
              "ticks": ""
             }
            },
            "marker": {
             "colorbar": {
              "outlinewidth": 0,
              "ticks": ""
             }
            },
            "type": "scatter3d"
           }
          ],
          "scattercarpet": [
           {
            "marker": {
             "colorbar": {
              "outlinewidth": 0,
              "ticks": ""
             }
            },
            "type": "scattercarpet"
           }
          ],
          "scattergeo": [
           {
            "marker": {
             "colorbar": {
              "outlinewidth": 0,
              "ticks": ""
             }
            },
            "type": "scattergeo"
           }
          ],
          "scattergl": [
           {
            "marker": {
             "colorbar": {
              "outlinewidth": 0,
              "ticks": ""
             }
            },
            "type": "scattergl"
           }
          ],
          "scattermap": [
           {
            "marker": {
             "colorbar": {
              "outlinewidth": 0,
              "ticks": ""
             }
            },
            "type": "scattermap"
           }
          ],
          "scattermapbox": [
           {
            "marker": {
             "colorbar": {
              "outlinewidth": 0,
              "ticks": ""
             }
            },
            "type": "scattermapbox"
           }
          ],
          "scatterpolar": [
           {
            "marker": {
             "colorbar": {
              "outlinewidth": 0,
              "ticks": ""
             }
            },
            "type": "scatterpolar"
           }
          ],
          "scatterpolargl": [
           {
            "marker": {
             "colorbar": {
              "outlinewidth": 0,
              "ticks": ""
             }
            },
            "type": "scatterpolargl"
           }
          ],
          "scatterternary": [
           {
            "marker": {
             "colorbar": {
              "outlinewidth": 0,
              "ticks": ""
             }
            },
            "type": "scatterternary"
           }
          ],
          "surface": [
           {
            "colorbar": {
             "outlinewidth": 0,
             "ticks": ""
            },
            "colorscale": [
             [
              0,
              "#0d0887"
             ],
             [
              0.1111111111111111,
              "#46039f"
             ],
             [
              0.2222222222222222,
              "#7201a8"
             ],
             [
              0.3333333333333333,
              "#9c179e"
             ],
             [
              0.4444444444444444,
              "#bd3786"
             ],
             [
              0.5555555555555556,
              "#d8576b"
             ],
             [
              0.6666666666666666,
              "#ed7953"
             ],
             [
              0.7777777777777778,
              "#fb9f3a"
             ],
             [
              0.8888888888888888,
              "#fdca26"
             ],
             [
              1,
              "#f0f921"
             ]
            ],
            "type": "surface"
           }
          ],
          "table": [
           {
            "cells": {
             "fill": {
              "color": "#EBF0F8"
             },
             "line": {
              "color": "white"
             }
            },
            "header": {
             "fill": {
              "color": "#C8D4E3"
             },
             "line": {
              "color": "white"
             }
            },
            "type": "table"
           }
          ]
         },
         "layout": {
          "annotationdefaults": {
           "arrowcolor": "#2a3f5f",
           "arrowhead": 0,
           "arrowwidth": 1
          },
          "autotypenumbers": "strict",
          "coloraxis": {
           "colorbar": {
            "outlinewidth": 0,
            "ticks": ""
           }
          },
          "colorscale": {
           "diverging": [
            [
             0,
             "#8e0152"
            ],
            [
             0.1,
             "#c51b7d"
            ],
            [
             0.2,
             "#de77ae"
            ],
            [
             0.3,
             "#f1b6da"
            ],
            [
             0.4,
             "#fde0ef"
            ],
            [
             0.5,
             "#f7f7f7"
            ],
            [
             0.6,
             "#e6f5d0"
            ],
            [
             0.7,
             "#b8e186"
            ],
            [
             0.8,
             "#7fbc41"
            ],
            [
             0.9,
             "#4d9221"
            ],
            [
             1,
             "#276419"
            ]
           ],
           "sequential": [
            [
             0,
             "#0d0887"
            ],
            [
             0.1111111111111111,
             "#46039f"
            ],
            [
             0.2222222222222222,
             "#7201a8"
            ],
            [
             0.3333333333333333,
             "#9c179e"
            ],
            [
             0.4444444444444444,
             "#bd3786"
            ],
            [
             0.5555555555555556,
             "#d8576b"
            ],
            [
             0.6666666666666666,
             "#ed7953"
            ],
            [
             0.7777777777777778,
             "#fb9f3a"
            ],
            [
             0.8888888888888888,
             "#fdca26"
            ],
            [
             1,
             "#f0f921"
            ]
           ],
           "sequentialminus": [
            [
             0,
             "#0d0887"
            ],
            [
             0.1111111111111111,
             "#46039f"
            ],
            [
             0.2222222222222222,
             "#7201a8"
            ],
            [
             0.3333333333333333,
             "#9c179e"
            ],
            [
             0.4444444444444444,
             "#bd3786"
            ],
            [
             0.5555555555555556,
             "#d8576b"
            ],
            [
             0.6666666666666666,
             "#ed7953"
            ],
            [
             0.7777777777777778,
             "#fb9f3a"
            ],
            [
             0.8888888888888888,
             "#fdca26"
            ],
            [
             1,
             "#f0f921"
            ]
           ]
          },
          "colorway": [
           "#636efa",
           "#EF553B",
           "#00cc96",
           "#ab63fa",
           "#FFA15A",
           "#19d3f3",
           "#FF6692",
           "#B6E880",
           "#FF97FF",
           "#FECB52"
          ],
          "font": {
           "color": "#2a3f5f"
          },
          "geo": {
           "bgcolor": "white",
           "lakecolor": "white",
           "landcolor": "#E5ECF6",
           "showlakes": true,
           "showland": true,
           "subunitcolor": "white"
          },
          "hoverlabel": {
           "align": "left"
          },
          "hovermode": "closest",
          "mapbox": {
           "style": "light"
          },
          "paper_bgcolor": "white",
          "plot_bgcolor": "#E5ECF6",
          "polar": {
           "angularaxis": {
            "gridcolor": "white",
            "linecolor": "white",
            "ticks": ""
           },
           "bgcolor": "#E5ECF6",
           "radialaxis": {
            "gridcolor": "white",
            "linecolor": "white",
            "ticks": ""
           }
          },
          "scene": {
           "xaxis": {
            "backgroundcolor": "#E5ECF6",
            "gridcolor": "white",
            "gridwidth": 2,
            "linecolor": "white",
            "showbackground": true,
            "ticks": "",
            "zerolinecolor": "white"
           },
           "yaxis": {
            "backgroundcolor": "#E5ECF6",
            "gridcolor": "white",
            "gridwidth": 2,
            "linecolor": "white",
            "showbackground": true,
            "ticks": "",
            "zerolinecolor": "white"
           },
           "zaxis": {
            "backgroundcolor": "#E5ECF6",
            "gridcolor": "white",
            "gridwidth": 2,
            "linecolor": "white",
            "showbackground": true,
            "ticks": "",
            "zerolinecolor": "white"
           }
          },
          "shapedefaults": {
           "line": {
            "color": "#2a3f5f"
           }
          },
          "ternary": {
           "aaxis": {
            "gridcolor": "white",
            "linecolor": "white",
            "ticks": ""
           },
           "baxis": {
            "gridcolor": "white",
            "linecolor": "white",
            "ticks": ""
           },
           "bgcolor": "#E5ECF6",
           "caxis": {
            "gridcolor": "white",
            "linecolor": "white",
            "ticks": ""
           }
          },
          "title": {
           "x": 0.05
          },
          "xaxis": {
           "automargin": true,
           "gridcolor": "white",
           "linecolor": "white",
           "ticks": "",
           "title": {
            "standoff": 15
           },
           "zerolinecolor": "white",
           "zerolinewidth": 2
          },
          "yaxis": {
           "automargin": true,
           "gridcolor": "white",
           "linecolor": "white",
           "ticks": "",
           "title": {
            "standoff": 15
           },
           "zerolinecolor": "white",
           "zerolinewidth": 2
          }
         }
        },
        "xaxis": {
         "title": {
          "text": "Real"
         }
        },
        "yaxis": {
         "scaleanchor": "x",
         "scaleratio": 1,
         "title": {
          "text": "Imaginary"
         }
        }
       }
      }
     },
     "metadata": {},
     "output_type": "display_data"
    }
   ],
   "source": [
    "z = 2 + 1j\n",
    "plot_complex(z)"
   ]
  },
  {
   "cell_type": "markdown",
   "metadata": {
    "id": "spPME9dPQcnu"
   },
   "source": [
    "And for displaying several complex numbers:"
   ]
  },
  {
   "cell_type": "code",
   "execution_count": 57,
   "metadata": {
    "colab": {
     "base_uri": "https://localhost:8080/",
     "height": 542
    },
    "executionInfo": {
     "elapsed": 14,
     "status": "ok",
     "timestamp": 1702317970078,
     "user": {
      "displayName": "PEDRO RAMONEDA FRANCO",
      "userId": "10653804143244385715"
     },
     "user_tz": -60
    },
    "id": "kCCRfQrhQhGU",
    "outputId": "dc3f16fe-5ec1-402e-eeab-1d019fcdbce6"
   },
   "outputs": [
    {
     "data": {
      "application/vnd.plotly.v1+json": {
       "config": {
        "plotlyServerURL": "https://plot.ly"
       },
       "data": [
        {
         "line": {
          "color": "rgb(150,150,150)",
          "dash": "dash",
          "shape": "linear"
         },
         "mode": "lines",
         "name": "unit circle",
         "type": "scatter",
         "x": {
          "bdata": "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",
          "dtype": "f8"
         },
         "y": {
          "bdata": "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",
          "dtype": "f8"
         }
        },
        {
         "marker": {
          "color": "#1f77b4"
         },
         "mode": "markers",
         "name": "z1",
         "type": "scatter",
         "x": [
          2
         ],
         "y": [
          1
         ]
        },
        {
         "marker": {
          "color": "#ff7f0e"
         },
         "mode": "markers",
         "name": "z2",
         "type": "scatter",
         "x": [
          0
         ],
         "y": [
          1
         ]
        },
        {
         "marker": {
          "color": "#2ca02c"
         },
         "mode": "markers",
         "name": "z3",
         "type": "scatter",
         "x": [
          0
         ],
         "y": [
          -0.5
         ]
        }
       ],
       "layout": {
        "annotations": [
         {
          "arrowcolor": "#1f77b4",
          "arrowhead": 3,
          "arrowwidth": 1.5,
          "ax": 0,
          "axref": "x",
          "ay": 0,
          "ayref": "y",
          "showarrow": true,
          "text": "",
          "x": 2,
          "y": 1
         },
         {
          "arrowcolor": "#ff7f0e",
          "arrowhead": 3,
          "arrowwidth": 1.5,
          "ax": 0,
          "axref": "x",
          "ay": 0,
          "ayref": "y",
          "showarrow": true,
          "text": "",
          "x": 0,
          "y": 1
         },
         {
          "arrowcolor": "#2ca02c",
          "arrowhead": 3,
          "arrowwidth": 1.5,
          "ax": 0,
          "axref": "x",
          "ay": 0,
          "ayref": "y",
          "showarrow": true,
          "text": "",
          "x": 0,
          "y": -0.5
         }
        ],
        "template": {
         "data": {
          "bar": [
           {
            "error_x": {
             "color": "#2a3f5f"
            },
            "error_y": {
             "color": "#2a3f5f"
            },
            "marker": {
             "line": {
              "color": "#E5ECF6",
              "width": 0.5
             },
             "pattern": {
              "fillmode": "overlay",
              "size": 10,
              "solidity": 0.2
             }
            },
            "type": "bar"
           }
          ],
          "barpolar": [
           {
            "marker": {
             "line": {
              "color": "#E5ECF6",
              "width": 0.5
             },
             "pattern": {
              "fillmode": "overlay",
              "size": 10,
              "solidity": 0.2
             }
            },
            "type": "barpolar"
           }
          ],
          "carpet": [
           {
            "aaxis": {
             "endlinecolor": "#2a3f5f",
             "gridcolor": "white",
             "linecolor": "white",
             "minorgridcolor": "white",
             "startlinecolor": "#2a3f5f"
            },
            "baxis": {
             "endlinecolor": "#2a3f5f",
             "gridcolor": "white",
             "linecolor": "white",
             "minorgridcolor": "white",
             "startlinecolor": "#2a3f5f"
            },
            "type": "carpet"
           }
          ],
          "choropleth": [
           {
            "colorbar": {
             "outlinewidth": 0,
             "ticks": ""
            },
            "type": "choropleth"
           }
          ],
          "contour": [
           {
            "colorbar": {
             "outlinewidth": 0,
             "ticks": ""
            },
            "colorscale": [
             [
              0,
              "#0d0887"
             ],
             [
              0.1111111111111111,
              "#46039f"
             ],
             [
              0.2222222222222222,
              "#7201a8"
             ],
             [
              0.3333333333333333,
              "#9c179e"
             ],
             [
              0.4444444444444444,
              "#bd3786"
             ],
             [
              0.5555555555555556,
              "#d8576b"
             ],
             [
              0.6666666666666666,
              "#ed7953"
             ],
             [
              0.7777777777777778,
              "#fb9f3a"
             ],
             [
              0.8888888888888888,
              "#fdca26"
             ],
             [
              1,
              "#f0f921"
             ]
            ],
            "type": "contour"
           }
          ],
          "contourcarpet": [
           {
            "colorbar": {
             "outlinewidth": 0,
             "ticks": ""
            },
            "type": "contourcarpet"
           }
          ],
          "heatmap": [
           {
            "colorbar": {
             "outlinewidth": 0,
             "ticks": ""
            },
            "colorscale": [
             [
              0,
              "#0d0887"
             ],
             [
              0.1111111111111111,
              "#46039f"
             ],
             [
              0.2222222222222222,
              "#7201a8"
             ],
             [
              0.3333333333333333,
              "#9c179e"
             ],
             [
              0.4444444444444444,
              "#bd3786"
             ],
             [
              0.5555555555555556,
              "#d8576b"
             ],
             [
              0.6666666666666666,
              "#ed7953"
             ],
             [
              0.7777777777777778,
              "#fb9f3a"
             ],
             [
              0.8888888888888888,
              "#fdca26"
             ],
             [
              1,
              "#f0f921"
             ]
            ],
            "type": "heatmap"
           }
          ],
          "histogram": [
           {
            "marker": {
             "pattern": {
              "fillmode": "overlay",
              "size": 10,
              "solidity": 0.2
             }
            },
            "type": "histogram"
           }
          ],
          "histogram2d": [
           {
            "colorbar": {
             "outlinewidth": 0,
             "ticks": ""
            },
            "colorscale": [
             [
              0,
              "#0d0887"
             ],
             [
              0.1111111111111111,
              "#46039f"
             ],
             [
              0.2222222222222222,
              "#7201a8"
             ],
             [
              0.3333333333333333,
              "#9c179e"
             ],
             [
              0.4444444444444444,
              "#bd3786"
             ],
             [
              0.5555555555555556,
              "#d8576b"
             ],
             [
              0.6666666666666666,
              "#ed7953"
             ],
             [
              0.7777777777777778,
              "#fb9f3a"
             ],
             [
              0.8888888888888888,
              "#fdca26"
             ],
             [
              1,
              "#f0f921"
             ]
            ],
            "type": "histogram2d"
           }
          ],
          "histogram2dcontour": [
           {
            "colorbar": {
             "outlinewidth": 0,
             "ticks": ""
            },
            "colorscale": [
             [
              0,
              "#0d0887"
             ],
             [
              0.1111111111111111,
              "#46039f"
             ],
             [
              0.2222222222222222,
              "#7201a8"
             ],
             [
              0.3333333333333333,
              "#9c179e"
             ],
             [
              0.4444444444444444,
              "#bd3786"
             ],
             [
              0.5555555555555556,
              "#d8576b"
             ],
             [
              0.6666666666666666,
              "#ed7953"
             ],
             [
              0.7777777777777778,
              "#fb9f3a"
             ],
             [
              0.8888888888888888,
              "#fdca26"
             ],
             [
              1,
              "#f0f921"
             ]
            ],
            "type": "histogram2dcontour"
           }
          ],
          "mesh3d": [
           {
            "colorbar": {
             "outlinewidth": 0,
             "ticks": ""
            },
            "type": "mesh3d"
           }
          ],
          "parcoords": [
           {
            "line": {
             "colorbar": {
              "outlinewidth": 0,
              "ticks": ""
             }
            },
            "type": "parcoords"
           }
          ],
          "pie": [
           {
            "automargin": true,
            "type": "pie"
           }
          ],
          "scatter": [
           {
            "fillpattern": {
             "fillmode": "overlay",
             "size": 10,
             "solidity": 0.2
            },
            "type": "scatter"
           }
          ],
          "scatter3d": [
           {
            "line": {
             "colorbar": {
              "outlinewidth": 0,
              "ticks": ""
             }
            },
            "marker": {
             "colorbar": {
              "outlinewidth": 0,
              "ticks": ""
             }
            },
            "type": "scatter3d"
           }
          ],
          "scattercarpet": [
           {
            "marker": {
             "colorbar": {
              "outlinewidth": 0,
              "ticks": ""
             }
            },
            "type": "scattercarpet"
           }
          ],
          "scattergeo": [
           {
            "marker": {
             "colorbar": {
              "outlinewidth": 0,
              "ticks": ""
             }
            },
            "type": "scattergeo"
           }
          ],
          "scattergl": [
           {
            "marker": {
             "colorbar": {
              "outlinewidth": 0,
              "ticks": ""
             }
            },
            "type": "scattergl"
           }
          ],
          "scattermap": [
           {
            "marker": {
             "colorbar": {
              "outlinewidth": 0,
              "ticks": ""
             }
            },
            "type": "scattermap"
           }
          ],
          "scattermapbox": [
           {
            "marker": {
             "colorbar": {
              "outlinewidth": 0,
              "ticks": ""
             }
            },
            "type": "scattermapbox"
           }
          ],
          "scatterpolar": [
           {
            "marker": {
             "colorbar": {
              "outlinewidth": 0,
              "ticks": ""
             }
            },
            "type": "scatterpolar"
           }
          ],
          "scatterpolargl": [
           {
            "marker": {
             "colorbar": {
              "outlinewidth": 0,
              "ticks": ""
             }
            },
            "type": "scatterpolargl"
           }
          ],
          "scatterternary": [
           {
            "marker": {
             "colorbar": {
              "outlinewidth": 0,
              "ticks": ""
             }
            },
            "type": "scatterternary"
           }
          ],
          "surface": [
           {
            "colorbar": {
             "outlinewidth": 0,
             "ticks": ""
            },
            "colorscale": [
             [
              0,
              "#0d0887"
             ],
             [
              0.1111111111111111,
              "#46039f"
             ],
             [
              0.2222222222222222,
              "#7201a8"
             ],
             [
              0.3333333333333333,
              "#9c179e"
             ],
             [
              0.4444444444444444,
              "#bd3786"
             ],
             [
              0.5555555555555556,
              "#d8576b"
             ],
             [
              0.6666666666666666,
              "#ed7953"
             ],
             [
              0.7777777777777778,
              "#fb9f3a"
             ],
             [
              0.8888888888888888,
              "#fdca26"
             ],
             [
              1,
              "#f0f921"
             ]
            ],
            "type": "surface"
           }
          ],
          "table": [
           {
            "cells": {
             "fill": {
              "color": "#EBF0F8"
             },
             "line": {
              "color": "white"
             }
            },
            "header": {
             "fill": {
              "color": "#C8D4E3"
             },
             "line": {
              "color": "white"
             }
            },
            "type": "table"
           }
          ]
         },
         "layout": {
          "annotationdefaults": {
           "arrowcolor": "#2a3f5f",
           "arrowhead": 0,
           "arrowwidth": 1
          },
          "autotypenumbers": "strict",
          "coloraxis": {
           "colorbar": {
            "outlinewidth": 0,
            "ticks": ""
           }
          },
          "colorscale": {
           "diverging": [
            [
             0,
             "#8e0152"
            ],
            [
             0.1,
             "#c51b7d"
            ],
            [
             0.2,
             "#de77ae"
            ],
            [
             0.3,
             "#f1b6da"
            ],
            [
             0.4,
             "#fde0ef"
            ],
            [
             0.5,
             "#f7f7f7"
            ],
            [
             0.6,
             "#e6f5d0"
            ],
            [
             0.7,
             "#b8e186"
            ],
            [
             0.8,
             "#7fbc41"
            ],
            [
             0.9,
             "#4d9221"
            ],
            [
             1,
             "#276419"
            ]
           ],
           "sequential": [
            [
             0,
             "#0d0887"
            ],
            [
             0.1111111111111111,
             "#46039f"
            ],
            [
             0.2222222222222222,
             "#7201a8"
            ],
            [
             0.3333333333333333,
             "#9c179e"
            ],
            [
             0.4444444444444444,
             "#bd3786"
            ],
            [
             0.5555555555555556,
             "#d8576b"
            ],
            [
             0.6666666666666666,
             "#ed7953"
            ],
            [
             0.7777777777777778,
             "#fb9f3a"
            ],
            [
             0.8888888888888888,
             "#fdca26"
            ],
            [
             1,
             "#f0f921"
            ]
           ],
           "sequentialminus": [
            [
             0,
             "#0d0887"
            ],
            [
             0.1111111111111111,
             "#46039f"
            ],
            [
             0.2222222222222222,
             "#7201a8"
            ],
            [
             0.3333333333333333,
             "#9c179e"
            ],
            [
             0.4444444444444444,
             "#bd3786"
            ],
            [
             0.5555555555555556,
             "#d8576b"
            ],
            [
             0.6666666666666666,
             "#ed7953"
            ],
            [
             0.7777777777777778,
             "#fb9f3a"
            ],
            [
             0.8888888888888888,
             "#fdca26"
            ],
            [
             1,
             "#f0f921"
            ]
           ]
          },
          "colorway": [
           "#636efa",
           "#EF553B",
           "#00cc96",
           "#ab63fa",
           "#FFA15A",
           "#19d3f3",
           "#FF6692",
           "#B6E880",
           "#FF97FF",
           "#FECB52"
          ],
          "font": {
           "color": "#2a3f5f"
          },
          "geo": {
           "bgcolor": "white",
           "lakecolor": "white",
           "landcolor": "#E5ECF6",
           "showlakes": true,
           "showland": true,
           "subunitcolor": "white"
          },
          "hoverlabel": {
           "align": "left"
          },
          "hovermode": "closest",
          "mapbox": {
           "style": "light"
          },
          "paper_bgcolor": "white",
          "plot_bgcolor": "#E5ECF6",
          "polar": {
           "angularaxis": {
            "gridcolor": "white",
            "linecolor": "white",
            "ticks": ""
           },
           "bgcolor": "#E5ECF6",
           "radialaxis": {
            "gridcolor": "white",
            "linecolor": "white",
            "ticks": ""
           }
          },
          "scene": {
           "xaxis": {
            "backgroundcolor": "#E5ECF6",
            "gridcolor": "white",
            "gridwidth": 2,
            "linecolor": "white",
            "showbackground": true,
            "ticks": "",
            "zerolinecolor": "white"
           },
           "yaxis": {
            "backgroundcolor": "#E5ECF6",
            "gridcolor": "white",
            "gridwidth": 2,
            "linecolor": "white",
            "showbackground": true,
            "ticks": "",
            "zerolinecolor": "white"
           },
           "zaxis": {
            "backgroundcolor": "#E5ECF6",
            "gridcolor": "white",
            "gridwidth": 2,
            "linecolor": "white",
            "showbackground": true,
            "ticks": "",
            "zerolinecolor": "white"
           }
          },
          "shapedefaults": {
           "line": {
            "color": "#2a3f5f"
           }
          },
          "ternary": {
           "aaxis": {
            "gridcolor": "white",
            "linecolor": "white",
            "ticks": ""
           },
           "baxis": {
            "gridcolor": "white",
            "linecolor": "white",
            "ticks": ""
           },
           "bgcolor": "#E5ECF6",
           "caxis": {
            "gridcolor": "white",
            "linecolor": "white",
            "ticks": ""
           }
          },
          "title": {
           "x": 0.05
          },
          "xaxis": {
           "automargin": true,
           "gridcolor": "white",
           "linecolor": "white",
           "ticks": "",
           "title": {
            "standoff": 15
           },
           "zerolinecolor": "white",
           "zerolinewidth": 2
          },
          "yaxis": {
           "automargin": true,
           "gridcolor": "white",
           "linecolor": "white",
           "ticks": "",
           "title": {
            "standoff": 15
           },
           "zerolinecolor": "white",
           "zerolinewidth": 2
          }
         }
        },
        "xaxis": {
         "title": {
          "text": "Real"
         }
        },
        "yaxis": {
         "scaleanchor": "x",
         "scaleratio": 1,
         "title": {
          "text": "Imaginary"
         }
        }
       }
      }
     },
     "metadata": {},
     "output_type": "display_data"
    }
   ],
   "source": [
    "z1 = 2 + 1j\n",
    "z2 = 1j\n",
    "z3 = -0.5j\n",
    "plot_complex([z1, z2, z3], name=['z1', 'z2', 'z3'])"
   ]
  },
  {
   "cell_type": "markdown",
   "metadata": {
    "id": "aOfR7uusRA13"
   },
   "source": [
    "# **Exercises**\n",
    "\n",
    "**1. Complex Numbers**\n",
    "\n",
    "To exercise your understanding of complex numbers, do the following:\n",
    "\n",
    "1.1. Define $z_1 = -1+j0.3$ and $z_2 = 0.8+j0.7$. Enter these in Python and plot them as points and vectors in the complex plane."
   ]
  },
  {
   "cell_type": "code",
   "execution_count": 58,
   "metadata": {
    "executionInfo": {
     "elapsed": 13,
     "status": "ok",
     "timestamp": 1702317970078,
     "user": {
      "displayName": "PEDRO RAMONEDA FRANCO",
      "userId": "10653804143244385715"
     },
     "user_tz": -60
    },
    "id": "oGUfC_09QFHN"
   },
   "outputs": [
    {
     "data": {
      "application/vnd.plotly.v1+json": {
       "config": {
        "plotlyServerURL": "https://plot.ly"
       },
       "data": [
        {
         "line": {
          "color": "rgb(150,150,150)",
          "dash": "dash",
          "shape": "linear"
         },
         "mode": "lines",
         "name": "unit circle",
         "type": "scatter",
         "x": {
          "bdata": "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",
          "dtype": "f8"
         },
         "y": {
          "bdata": "AAAAAAAAAABONnLm8sJ5Pw1f+IHRwok/5EINZPNRkz+dtRTxS8KZP/GmbNswGaA/GHhnAhJRoz/K8aAVwYimP+QJwb01wKk/VigHpGf3rD+p4i85JxewP+ECvelwsrE/3qpuuYxNsz9pgH9+dui0P/rjqw8qg7Y/ULo8RKMduD+sNBL03be5P3uXrvfVUbs/Xv9AKIfrvD9qJLBf7YS+P82NUjwCD8A/IgtLJ2TbwD+5j+hemqfBP4lrw9Gic8I/cJXqbns/wz9xBuklIgvEP68Ty+aU1sQ/HccjotGhxT/LNhJJ1mzGP9HaRs2gN8c/ueEIIS8CyD9hgzs3f8zIP1VSYwOPlsk/doureVxgyj/8Y+uO5SnLP7pVqzgo88s/jWkqbSK8zD//f2Mj0oTNP/uXElM1Tc4/iRO69EkVzz+R+qcBDt3PP8ad/bk/UtA/BXVUI8610D+UvcA6MRnRP9f/mv5nfNE//62ubXHf0T/SvjyHTELSP0ZH/kr4pNI/3hInuXMH0z/UOmjSvWnTP+278pfVy9M/Gwt6C7ot1D+tqDYvao/UP0Wy6AXl8NQ/WHPakilS1T9O9OLZNrPVP0OIaN8LFNY/PFljqKd01j/y8l86CdXWPyDMgZsvNdc/N86F0hmV1z+a28TmxvTXPzZUNuA1VNg/hphyx2Wz2D/1irWlVRLZP5UP4YQEcdk/Lop/b3HP2T+QWsZwmy3aPzBXmJSBi9o/BEaI5yLp2j+NU9t2fkbbPx6Ii1CTo9s/TztKg2AA3D+EhYIe5VzcP6WvWzIgudw/66C7zxAV3T+xSkkItnDdP2ISb+4OzN0/YzldlRon3j/8QgwR2IHeP0BYP3ZG3N4/3amG2mQ23z/mz0FUMpDfP3Qnovqt6d8/HZfWcmsh4D/wbR8X1k3gP5z8BXcWeuA/qTrSHyym4D8d3DqfFtLgP8R5ZoPV/eA/XLjsWmgp4T+Qbte0zlThP9DJoyAIgOE/AHJDLhSr4T/5qx1u8tXhP9R6EHGiAOI/BsBxyCMr4j9GWhAGdlXiPzRDNbyYf+I/yKukfYup4j+CF5/dTdPiP1R24m/f/OI/RT2ryD8m4z/afbV8bk/jPyH8PSFreOM/ekMDTDWh4z8NukaTzMnjP+6yzY0w8uM/6X7i0mAa5D/ze1X6XELkP0YjfpwkauQ/HBY8UreR5D8DKfi0FLnkP9ZtpV484OQ/TTzC6S0H5T8hOVnx6C3lP8ZbAhFtVOU/uvLj5Ll65T9cprMJz6DlP1Z6txysxuU/jc3Gu1Ds5T+YWEuFvBHmP8EqQhjvNuY/gKU8FOhb5j96dmEZp4DmP/2PbcgrpeY/9R+1wnXJ5j9ehSSqhO3mPx5EQSFYEec/Y/cqy+805z9qQpxLS1jnP6y/60Zqe+c/h+4MYkye5z9EH5FC8cDnP4VdqI5Y4+c/IVki7YEF6D9STW8FbSfoP1bmoH8ZSeg/XCVrBIdq6D/UQiU9tYvoPx6PytOjrOg/gVH7clLN6D+Gpf3FwO3oP5ZWvnjuDek/9LnRN9st6T8Ch3Swhk3pP8qtjJDwbOk/2SuqhhiM6T9f3wdC/qrpP5JYjHKhyek/U6nKyAHo6T8YMwP2HgbqPxVzJKz4I+o/l8zLnY5B6j+qUUZ+4F7qP+qJkQHue+o/lDdc3LaY6j/CGgfEOrXqP+SypW550eo/Yv7+knLt6j9sOI7oJQnrPwKVgyeTJOs/GPvECLo/6z/rvO5FmlrrP35OVJkzdes/NvoAvoWP6z+hk7hvkKnrP1wo+GpTw+s/E6/2bM7c6z+otKUzAfbrP3MHsn3rDuw/k2CECo0n7D9uC0Ka5T/sPzGLze30V+w/cz7Hxrpv7D/lAI7nNofsPxzLPxNpnuw/YVC6DVG17D+cmpub7svsPz+kQoJB4uw/SvDPh0n47D9QICZzBg7tP4iI6gt4I+0/5sGFGp447T85OiRoeE3tP0vCtr4GYu0/Chrz6Eh27T+telSyPortP9geHOfnne0/x8hRVESx7T9nRsTHU8TtP4LzCRAW1+0/zTmB/Irp7T8BD1FdsvvtP+FwaQOMDe4/Qt+DwBcf7j/90yNnVTDuP9o4l8pEQe4/ddv2vuVR7j8H3yYZOGLuPy8s1647cu4/n96DVvCB7j+8sHXnVZHuPy1lwjlsoO4/Vi5NJjOv7j+8E8eGqr3uP1VVrzXSy+4/wcxTDqrZ7j9uTNHsMefuP538E65p9O4/VbbXL1EB7z84XKhQ6A3vPzox4u8uGu8/RC2y7SQm7z+uTxYryjHvP6jv3YkePe8/dwqq7CFI7z+jj+021FLvP/Gq7Uw1Xe8/TwzCE0Vn7z+PLVVxA3HvPwmWZExweu8/FxyBjIuD7z9tJA8aVYzvP0vfRt7MlO8/joM0w/Kc7z+Wh7izxqTvPwzYh5tIrO8/fAwsZ3iz7z/JmQMEVrrvP3oCQmDhwO8/4gTwahrH7z8Ux+sTAc3vP70A6UuV0u8/yCJxBNfX7z/ffOMvxtzvP75gdcFi4e8/XUMyrazl7z/u2/vno+nvP65AimdI7e8/kQFsIprw7z+2QAYQmfPvP77IlChF9u8/5iAqZZ747z8En6+/pPrvP0h35TJY/O8/4cliurj97z9irpVSxv7vPws9w/iA/+8/15UHq+j/7z9o5VVo/f/vP7lneDC//+8/smgQBC7/7z99QpbkSf7vP7xZWdQS/e8/ixeA1oj77z9V4Qfvq/nvP3sOxSJ89+8/z9tid/n07z/jXGPzI/LvPyxrH5777u8/75LGf4Dr7z8R/l6hsufvP6pcxQyS4+8/esuszB7f7z8puJ7sWNrvP2HD+nhA1e8/tqD2ftXP7z9q9J0MGMrvPwUv0jAIxO8/vmZK+6W97z++LpN88bbvPztsDsbqr+8/Zinz6ZGo7z81Zk375qDvP/7m/Q3qmO8/8wC6NpuQ7z9vZAuL+ofvPyPlTyEIf+8/GkC5EMR17z+W30xxLmzvP8uc41tHYu8/dH8p6g5Y7z9Ke502hU3vP0srkVyqQu8/8YooeH437z83rVmmASzvP4px7AQ0IO8/jzZ6shUU7z/Vim3OpgfvP1/bAXnn+u4/GCBD09ft7j8jhg3/d+DuPxkYDR/I0u4/I2S9VsjE7j/8H2nKeLbuP97KKZ/Zp+4/Vk3n+uqY7j/4llcErYnuPxA6/uIfeu4/JgUsv0Nq7j+Cmv7BGFruP5EFYBWfSe4/Pk4G5NY47j82CnNZwCfuPybs8qFbFu4/1lCd6qgE7j9QylNhqPLtP+aowTRa4O0/PIJblL7N7T87tl6w1brtPwjy0Lmfp+0/7LB/4hyU7T80u/9cTYDtPxWjrFwxbO0/iD+oFclX7T8eJdq8FEPtP+Ac74cULu0/J5lYrcgY7T90KExkMQPtP1bmwuRO7ew/Sep4ZyHX7D+otOwlqcDsP5iZXlrmqew/CyrQP9mS7D/ImgMSgnvsP3opew3hY+w/1n94b/ZL7D/TFPx1wjPsP+OLxF9FG+w/UBJObH8C7D+lutHbcOnrPzXWRO8Z0Os/q0xY6Hq26z/I8XcJlJzrPyrZyZVlgus/Oagt0e9n6z835jsAM03rP2ZKRWgvMus/VghST+UW6z9cGiH8VPvqPyiKJ7Z+3+o/hbePxWLD6j9CnThzAafqP0wUtQhbiuo/7hRL0G9t6j9J9vIUQFDqP/arViLMMuo/3gHRRBQV6j9M1mzJGPfpPzBS5P3Z2Ok/nR+gMFi66T+Hnrawk5vpP8AX682MfOk/I+6s2ENd6T8azhYiuT3pP1nb7fvsHek/4NyguN/96D9KZ0erkd3oP2QFoScDveg/EF8UgjSc6D91Xq4PJnvoP4RTISbYWeg/0RXEG0s46D+6JJFHfxboP+zFJQF19Oc/SCLBoCzS5z8RYUN/pq/nP4rBLPbijOc/87KcX+Jp5z/f6lAWpUbnP/55pHUrI+c/Qt+O2XX/5j92GaOehNvmP0K3DiJYt+Y/luWYwfCS5j+XfKHbTm7mP+wKIM9ySeY/j9+i+1wk5j8gEk7BDf/lP5SJ2oCF2eU/ggGVm8Sz5T/iDV1zy43lP1QdpGqaZ+U/6Hls5DFB5T91SEhEkhrlP3WGWO678+Q/cQZMR6/M5D/+al60bKXkP08gV5v0feQ/WFSIYkdW5D+F7c1wZS7kPyWAjC1PBuQ/S0KwAAXe4z9u/qtSh7XjP6MEeIzWjOM/fBqRF/Nj4z+Mafdd3TrjP6FsLcqVEeM/ods2xxzo4j8blpfAcr7iP5OMUiKYlOI/eqjoWI1q4j/mslfRUkDiPwE6GfnoFeI/SHUhPlDr4T9rKN4OicDhPxKFNdqTleE/WguFD3Fq4T8kaaAeIT/hPyZY0HekE+E/3HrRi/vn4D9AONPLJrzgP1+WdqkmkOA/xhPNlvtj4D/Kf1cGpjfgP7HRBGsmC+A/df1hcPq83z84nkfDVWPfP45jH7dfCd8/ch4hNRmv3j9bNlUng1TeP4NKknie+d0/GNF6FGye3T9gtHrn7ELdP9LtxN4h59w/Jh9R6AuL3D9xKdnyqy7cPzzC1u0C0ts/sAaByRF12z/yDMp22RfbP1hzXOdauto/Ae6YDZdc2j930pPcjv7ZP4ShEkhDoNk/PY+JRLVB2T9FCRnH5eLYP1U7i8XVg9g/CpJRNoYk2D8EPIIQ+MTXP1ap1UssZdc/UQmk4CMF1z+xxuLH36TWP04CIvtgRNY/+AuKdKjj1T8P2tgut4LVP3Z/XyWOIdU/CaD/Uy7A1D+m4yi3mF7UP79n1kvO/NM/gC+MD9Ca0z+dklQAnzjTP7iqvRw81tI/d7/WY6hz0j9NsS3V5BDSP+5izHDyrdE/qyE2N9JK0T9IDGUphefQP+Z4x0gMhNA/m1k9l2gg0D/nPysuNnnPP4U+F5ZJsc4/1tuIbA3pzT8Zi5i4gyDNP0zEJ4KuV8w/bsDb0Y+Oyz+/MxixKcXKPxkG+il++8k/UwlSR48xyT8jrp8UX2fIP6C2C57vnMc/pOdi8ELSxj8/uBAZWwfGP5b/GSY6PMU/O6EXJuJwxD/+NzEoVaXDP1W/FzyV2cI/WDsAcqQNwj9tX57ahEHBP6IzH4c4dcA/lXFHEoNRvz9nF3flQ7i9P0ENv6y3Hrw/qMTYjeKEuj+MqzqvyOq4P+1pDThuULc/sB0hUNe1tT/DlOIfCBu0P6eFUNAEgLI/h8bwitHksD/VBYvz5JKuP1DghI7XW6s/YAGEPIMkqD9hLPVT8OykP85m5ysntaE/ga/sN2D6nD8YUWn4JoqWP7DFLEqzGZA/JDhtvStSgz/jvZQ/+8JpP663lD/7wmm/lzZtvStSg7/pxCxKsxmQv1FQafgmipa/u67sN2D6nL9rZucrJ7Whvz4s9VPw7KS//QCEPIMkqL/t34SO11urv3IFi/Pkkq6/VcbwitHksL91hVDQBICyv5GU4h8IG7S/fx0hUNe1tb+8aQ04blC3v1urOq/I6ri/d8TYjeKEur8QDb+stx68vzYXd+VDuL2/g3FHEoNRv7+JMx+HOHXAv1RfntqEQcG/QDsAcqQNwr88vxc8ldnCv+U3MShVpcO/IqEXJuJwxL9+/xkmOjzFvye4EBlbB8a/jOdi8ELSxr+Htgue75zHvwuunxRfZ8i/OglSR48xyb8ABvopfvvJv6YzGLEpxcq/VcDb0Y+Oy780xCeCrlfMvwGLmLiDIM2/vtuIbA3pzb9tPheWSbHOv88/Ky42ec+/j1k9l2gg0L/aeMdIDITQvzwMZSmF59C/nyE2N9JK0b/iYsxw8q3Rv0GxLdXkENK/a7/WY6hz0r+sqr0cPNbSv5GSVACfONO/dC+MD9Ca07+zZ9ZLzvzTv5vjKLeYXtS//Z//Uy7A1L9qf18ljiHVvwTa2C63gtW/7AuKdKjj1b9CAiL7YETWv63G4sffpNa/RQmk4CMF179KqdVLLGXXv/k7ghD4xNe//5FRNoYk2L9JO4vF1YPYvzkJGcfl4ti/Mo+JRLVB2b95oRJIQ6DZv2zSk9yO/tm/9u2YDZdc2r9Nc1znWrrav+cMynbZF9u/rAaByRF1278wwtbtAtLbv2Yp2fKrLty/Gx9R6AuL3L/H7cTeIefcv1W0eufsQt2/DdF6FGye3b94SpJ4nvndv1A2VSeDVN6/Zx4hNRmv3r+DYx+3Xwnfvy6eR8NVY9+/av1hcPq837+s0QRrJgvgv8V/VwamN+C/wRPNlvtj4L9alnapJpDgvzo408smvOC/1nrRi/vn4L8gWNB3pBPhvx5poB4hP+G/VQuFD3Fq4b8MhTXak5Xhv2Yo3g6JwOG/Q3UhPlDr4b/8ORn56BXiv+GyV9FSQOK/dajoWI1q4r+OjFIimJTivxaWl8ByvuK/nNs2xxzo4r+cbC3KlRHjv4dp913dOuO/dxqRF/Nj47+eBHiM1ozjv2n+q1KHteO/RkKwAAXe478hgIwtTwbkv4PtzXBlLuS/U1SIYkdW5L9LIFeb9H3kv/lqXrRspeS/bAZMR6/M5L9whljuu/Pkv3FISESSGuW/5Hls5DFB5b9PHaRqmmflv90NXXPLjeW/fQGVm8Sz5b+QidqAhdnlvxwSTsEN/+W/jt+i+1wk5r/nCiDPcknmv5J8odtObua/kuWYwfCS5r89tw4iWLfmv3IZo56E2+a/Pt+O2XX/5r/6eaR1KyPnv9vqUBalRue/7rKcX+Jp57+GwSz24oznvw1hQ3+mr+e/RCLBoCzS57/rxSUBdfTnv7YkkUd/Fui/zRXEG0s46L99UyEm2Fnov3Berg8me+i/CV8UgjSc6L9hBaEnA73ov0lnR6uR3ei/3NyguN/96L9X2+377B3pvxbOFiK5Pem/Iu6s2ENd6b+8F+vNjHzpv4aetrCTm+m/lx+gMFi66b8sUuT92djpv0bWbMkY9+m/2gHRRBQV6r/wq1YizDLqv0X28hRAUOq/7RRL0G9t6r9IFLUIW4rqv0GdOHMBp+q/grePxWLD6r8niie2ft/qv1gaIfxU++q/UwhST+UW679gSkVoLzLrvzTmOwAzTeu/NKgt0e9n678n2cmVZYLrv8PxdwmUnOu/qUxY6Hq267801kTvGdDrv6K60dtw6eu/ThJObH8C7L/gi8RfRRvsv9IU/HXCM+y/0394b/ZL7L93KXsN4WPsv8OaAxKCe+y/CSrQP9mS7L+TmV5a5qnsv6W07CWpwOy/Rep4ZyHX7L9T5sLkTu3sv3MoTGQxA+2/JJlYrcgY7b/fHO+HFC7tvxsl2rwUQ+2/hj+oFclX7b8So6xcMWztvzK7/1xNgO2/6bB/4hyU7b8H8tC5n6ftvze2XrDVuu2/OYJblL7N7b/iqME0WuDtv03KU2Go8u2/1VCd6qgE7r8k7PKhWxbuvzYKc1nAJ+6/O04G5NY47r+PBWAVn0nuv3+a/sEYWu6/JQUsv0Nq7r8NOv7iH3ruv/eWVwStie6/U03n+uqY7r/dyimf2afuv/sfacp4tu6/IWS9VsjE7r8ZGA0fyNLuvyGGDf934O6/FiBD09ft7r9d2wF55/ruv9SKbc6mB++/jTZ6shUU77+JcewENCDvvzWtWaYBLO+/8IooeH43779JK5FcqkLvv0h7nTaFTe+/dH8p6g5Y77/JnONbR2Lvv5bfTHEubO+/GUC5EMR1778j5U8hCH/vv21kC4v6h++/8gC6NpuQ77/95v0N6pjvvzRmTfvmoO+/ZSnz6ZGo7786bA7G6q/vv7wuk3zxtu+/vWZK+6W9778FL9IwCMTvv2r0nQwYyu+/taD2ftXP779gw/p4QNXvvym4nuxY2u+/ecuszB7f77+pXMUMkuPvvxD+XqGy5++/75LGf4Dr778rax+e++7vv+NcY/Mj8u+/zttid/n07796DsUifPfvv1XhB++r+e+/ixeA1oj777+8WVnUEv3vv3xCluRJ/u+/smgQBC7/77+5Z3gwv//vv2jlVWj9/++/15UHq+j/778LPcP4gP/vv2KulVLG/u+/4cliurj9779Jd+UyWPzvvwSfr7+k+u+/5yAqZZ7477++yJQoRfbvv7ZABhCZ8++/kQFsIprw77+uQIpnSO3vv+7b++ej6e+/XkMyrazl77+/YHXBYuHvv+B84y/G3O+/ySJxBNfX77+9AOlLldLvvxXH6xMBze+/4gTwahrH7797AkJg4cDvv8qZAwRWuu+/fAwsZ3iz778N2IebSKzvv5aHuLPGpO+/j4M0w/Kc779M30bezJTvv24kDxpVjO+/GByBjIuD778LlmRMcHrvv5AtVXEDce+/UQzCE0Vn77/zqu1MNV3vv6OP7TbUUu+/eQqq7CFI77+o792JHj3vv7BPFivKMe+/RS2y7SQm7788MeLvLhrvvzlcqFDoDe+/V7bXL1EB77+e/BOuafTuv3FM0ewx5+6/w8xTDqrZ7r9YVa810svuv74Tx4aqve6/Vy5NJjOv7r8vZcI5bKDuv7ywdedVke6/od6DVvCB7r8wLNeuO3LuvwrfJhk4Yu6/dtv2vuVR7r/dOJfKREHuv/7TI2dVMO6/Rt+DwBcf7r/kcGkDjA3uvwQPUV2y++2/zzmB/Irp7b+D8wkQFtftv2pGxMdTxO2/yMhRVESx7b/cHhzn553tv696VLI+iu2/Dhrz6Eh27b9Nwra+BmLtvzw6JGh4Te2/6MGFGp447b+MiOoLeCPtv1IgJnMGDu2/TvDPh0n47L9CpEKCQeLsv52am5vuy+y/ZFC6DVG17L8dyz8TaZ7sv+kAjuc2h+y/dT7Hxrpv7L81i83t9Ffsv3ALQprlP+y/l2CECo0n7L91B7J96w7sv620pTMB9uu/Fq/2bM7c679hKPhqU8Prv6STuG+Qqeu/N/oAvoWP67+BTlSZM3Xrv+287kWaWuu/HPvECLo/678FlYMnkyTrv3E4juglCeu/ZP7+knLt6r/psqVuedHqv8UaB8Q6teq/mTdc3LaY6r/tiZEB7nvqv6tRRn7gXuq/mszLnY5B6r8WcySs+CPqvxwzA/YeBuq/VanKyAHo6b+WWIxyocnpv2HfB0L+qum/3SuqhhiM6b/MrYyQ8GzpvweHdLCGTem/97nRN9st6b+bVr547g3pv4ql/cXA7ei/g1H7clLN6L8ij8rTo6zov9ZCJT21i+i/YCVrBIdq6L9Z5qB/GUnov1hNbwVtJ+i/I1ki7YEF6L+LXaiOWOPnv0cfkULxwOe/je4MYkye57+vv+tGanvnv3BCnEtLWOe/aPcqy+80578fREEhWBHnv2KFJKqE7ea/+B+1wnXJ5r8CkG3IK6Xmv3x2YRmngOa/hqU8FOhb5r/EKkIY7zbmv55YS4W8Eea/kM3Gu1Ds5b9cerccrMblv2CmswnPoOW/wfLj5Ll65b/KWwIRbVTlvyI5WfHoLeW/UjzC6S0H5b/YbaVePODkvwgp+LQUueS/HxY8UreR5L9NI36cJGrkv/Z7VfpcQuS/8H7i0mAa5L/yss2NMPLjvxS6RpPMyeO/fkMDTDWh478p/D0ha3jjv999tXxuT+O/Rz2ryD8m479ZduJv3/ziv4UXn91N0+K/zqukfYup4r83QzW8mH/iv0xaEAZ2VeK/CcBxyCMr4r/behBxogDiv/2rHW7y1eG/CHJDLhSr4b/VyaMgCIDhv5hu17TOVOG/YrjsWmgp4b/GeWaD1f3gvyLcOp8W0uC/rDrSHyym4L+i/AV3Fnrgv/JtHxfWTeC/JJfWcmsh4L97J6L6renfv/TPQVQykN+/5qmG2mQ2379QWD92RtzevwZDDBHYgd6/dTldlRon3r9tEm/uDszdv7VKSQi2cN2/96C7zxAV3b+rr1syILncv5CFgh7lXNy/VTtKg2AA3L8tiItQk6Pbv5RT23Z+Rtu/FEaI5yLp2r86V5iUgYvav6FaxnCbLdq/OIp/b3HP2b+nD+GEBHHZvwCLtaVVEtm/i5hyx2Wz2L9DVDbgNVTYv6DbxObG9Ne/Rc6F0hmV178nzIGbLzXXvwLzXzoJ1da/RFljqKd01r9UiGjfCxTWv1j04tk2s9W/aXPakilS1b9QsugF5fDUv8CoNi9qj9S/Jwt6C7ot1L/yu/KX1cvTv+A6aNK9adO/5BInuXMH079UR/5K+KTSv9q+PIdMQtK/Dq6ubXHf0b/f/5r+Z3zRv6W9wDoxGdG/D3VUI8610L/Ynf25P1LQv6f6pwEO3c+/kBO69EkVz78UmBJTNU3OvwqAYyPShM2/qGkqbSK8zL/GVas4KPPLvxpk647lKcu/hYureVxgyr91UmMDj5bJv3ODOzd/zMi/2+EIIS8CyL/l2kbNoDfHv/A2EknWbMa/M8cjotGhxb+4E8vmlNbEv4sG6SUiC8S/e5Xqbns/w7+la8PRonPCv8aP6F6ap8G/QQtLJ2TbwL/djVI8Ag/Av6sksF/thL6/gv9AKIfrvL/Cl6731VG7v9U0EvTdt7m/m7o8RKMduL8o5KsPKoO2v3uAf3526LS/EatuuYxNs7/3Ar3pcLKxv+LiLzknF7C/jSgHpGf3rL9gCsG9NcCpvwryoBXBiKa/nXhnAhJRo787p2zbMBmgv7u2FPFLwpm/jUMNZPNRk79yYfiB0cKJv0A5cubywnm/B1wUMyamsbw=",
          "dtype": "f8"
         }
        },
        {
         "marker": {
          "color": "#1f77b4"
         },
         "mode": "markers",
         "name": "z1",
         "type": "scatter",
         "x": [
          -1
         ],
         "y": [
          0.3
         ]
        },
        {
         "marker": {
          "color": "#ff7f0e"
         },
         "mode": "markers",
         "name": "z2",
         "type": "scatter",
         "x": [
          0.8
         ],
         "y": [
          0.7
         ]
        }
       ],
       "layout": {
        "annotations": [
         {
          "arrowcolor": "#1f77b4",
          "arrowhead": 3,
          "arrowwidth": 1.5,
          "ax": 0,
          "axref": "x",
          "ay": 0,
          "ayref": "y",
          "showarrow": true,
          "text": "",
          "x": -1,
          "y": 0.3
         },
         {
          "arrowcolor": "#ff7f0e",
          "arrowhead": 3,
          "arrowwidth": 1.5,
          "ax": 0,
          "axref": "x",
          "ay": 0,
          "ayref": "y",
          "showarrow": true,
          "text": "",
          "x": 0.8,
          "y": 0.7
         }
        ],
        "template": {
         "data": {
          "bar": [
           {
            "error_x": {
             "color": "#2a3f5f"
            },
            "error_y": {
             "color": "#2a3f5f"
            },
            "marker": {
             "line": {
              "color": "#E5ECF6",
              "width": 0.5
             },
             "pattern": {
              "fillmode": "overlay",
              "size": 10,
              "solidity": 0.2
             }
            },
            "type": "bar"
           }
          ],
          "barpolar": [
           {
            "marker": {
             "line": {
              "color": "#E5ECF6",
              "width": 0.5
             },
             "pattern": {
              "fillmode": "overlay",
              "size": 10,
              "solidity": 0.2
             }
            },
            "type": "barpolar"
           }
          ],
          "carpet": [
           {
            "aaxis": {
             "endlinecolor": "#2a3f5f",
             "gridcolor": "white",
             "linecolor": "white",
             "minorgridcolor": "white",
             "startlinecolor": "#2a3f5f"
            },
            "baxis": {
             "endlinecolor": "#2a3f5f",
             "gridcolor": "white",
             "linecolor": "white",
             "minorgridcolor": "white",
             "startlinecolor": "#2a3f5f"
            },
            "type": "carpet"
           }
          ],
          "choropleth": [
           {
            "colorbar": {
             "outlinewidth": 0,
             "ticks": ""
            },
            "type": "choropleth"
           }
          ],
          "contour": [
           {
            "colorbar": {
             "outlinewidth": 0,
             "ticks": ""
            },
            "colorscale": [
             [
              0,
              "#0d0887"
             ],
             [
              0.1111111111111111,
              "#46039f"
             ],
             [
              0.2222222222222222,
              "#7201a8"
             ],
             [
              0.3333333333333333,
              "#9c179e"
             ],
             [
              0.4444444444444444,
              "#bd3786"
             ],
             [
              0.5555555555555556,
              "#d8576b"
             ],
             [
              0.6666666666666666,
              "#ed7953"
             ],
             [
              0.7777777777777778,
              "#fb9f3a"
             ],
             [
              0.8888888888888888,
              "#fdca26"
             ],
             [
              1,
              "#f0f921"
             ]
            ],
            "type": "contour"
           }
          ],
          "contourcarpet": [
           {
            "colorbar": {
             "outlinewidth": 0,
             "ticks": ""
            },
            "type": "contourcarpet"
           }
          ],
          "heatmap": [
           {
            "colorbar": {
             "outlinewidth": 0,
             "ticks": ""
            },
            "colorscale": [
             [
              0,
              "#0d0887"
             ],
             [
              0.1111111111111111,
              "#46039f"
             ],
             [
              0.2222222222222222,
              "#7201a8"
             ],
             [
              0.3333333333333333,
              "#9c179e"
             ],
             [
              0.4444444444444444,
              "#bd3786"
             ],
             [
              0.5555555555555556,
              "#d8576b"
             ],
             [
              0.6666666666666666,
              "#ed7953"
             ],
             [
              0.7777777777777778,
              "#fb9f3a"
             ],
             [
              0.8888888888888888,
              "#fdca26"
             ],
             [
              1,
              "#f0f921"
             ]
            ],
            "type": "heatmap"
           }
          ],
          "histogram": [
           {
            "marker": {
             "pattern": {
              "fillmode": "overlay",
              "size": 10,
              "solidity": 0.2
             }
            },
            "type": "histogram"
           }
          ],
          "histogram2d": [
           {
            "colorbar": {
             "outlinewidth": 0,
             "ticks": ""
            },
            "colorscale": [
             [
              0,
              "#0d0887"
             ],
             [
              0.1111111111111111,
              "#46039f"
             ],
             [
              0.2222222222222222,
              "#7201a8"
             ],
             [
              0.3333333333333333,
              "#9c179e"
             ],
             [
              0.4444444444444444,
              "#bd3786"
             ],
             [
              0.5555555555555556,
              "#d8576b"
             ],
             [
              0.6666666666666666,
              "#ed7953"
             ],
             [
              0.7777777777777778,
              "#fb9f3a"
             ],
             [
              0.8888888888888888,
              "#fdca26"
             ],
             [
              1,
              "#f0f921"
             ]
            ],
            "type": "histogram2d"
           }
          ],
          "histogram2dcontour": [
           {
            "colorbar": {
             "outlinewidth": 0,
             "ticks": ""
            },
            "colorscale": [
             [
              0,
              "#0d0887"
             ],
             [
              0.1111111111111111,
              "#46039f"
             ],
             [
              0.2222222222222222,
              "#7201a8"
             ],
             [
              0.3333333333333333,
              "#9c179e"
             ],
             [
              0.4444444444444444,
              "#bd3786"
             ],
             [
              0.5555555555555556,
              "#d8576b"
             ],
             [
              0.6666666666666666,
              "#ed7953"
             ],
             [
              0.7777777777777778,
              "#fb9f3a"
             ],
             [
              0.8888888888888888,
              "#fdca26"
             ],
             [
              1,
              "#f0f921"
             ]
            ],
            "type": "histogram2dcontour"
           }
          ],
          "mesh3d": [
           {
            "colorbar": {
             "outlinewidth": 0,
             "ticks": ""
            },
            "type": "mesh3d"
           }
          ],
          "parcoords": [
           {
            "line": {
             "colorbar": {
              "outlinewidth": 0,
              "ticks": ""
             }
            },
            "type": "parcoords"
           }
          ],
          "pie": [
           {
            "automargin": true,
            "type": "pie"
           }
          ],
          "scatter": [
           {
            "fillpattern": {
             "fillmode": "overlay",
             "size": 10,
             "solidity": 0.2
            },
            "type": "scatter"
           }
          ],
          "scatter3d": [
           {
            "line": {
             "colorbar": {
              "outlinewidth": 0,
              "ticks": ""
             }
            },
            "marker": {
             "colorbar": {
              "outlinewidth": 0,
              "ticks": ""
             }
            },
            "type": "scatter3d"
           }
          ],
          "scattercarpet": [
           {
            "marker": {
             "colorbar": {
              "outlinewidth": 0,
              "ticks": ""
             }
            },
            "type": "scattercarpet"
           }
          ],
          "scattergeo": [
           {
            "marker": {
             "colorbar": {
              "outlinewidth": 0,
              "ticks": ""
             }
            },
            "type": "scattergeo"
           }
          ],
          "scattergl": [
           {
            "marker": {
             "colorbar": {
              "outlinewidth": 0,
              "ticks": ""
             }
            },
            "type": "scattergl"
           }
          ],
          "scattermap": [
           {
            "marker": {
             "colorbar": {
              "outlinewidth": 0,
              "ticks": ""
             }
            },
            "type": "scattermap"
           }
          ],
          "scattermapbox": [
           {
            "marker": {
             "colorbar": {
              "outlinewidth": 0,
              "ticks": ""
             }
            },
            "type": "scattermapbox"
           }
          ],
          "scatterpolar": [
           {
            "marker": {
             "colorbar": {
              "outlinewidth": 0,
              "ticks": ""
             }
            },
            "type": "scatterpolar"
           }
          ],
          "scatterpolargl": [
           {
            "marker": {
             "colorbar": {
              "outlinewidth": 0,
              "ticks": ""
             }
            },
            "type": "scatterpolargl"
           }
          ],
          "scatterternary": [
           {
            "marker": {
             "colorbar": {
              "outlinewidth": 0,
              "ticks": ""
             }
            },
            "type": "scatterternary"
           }
          ],
          "surface": [
           {
            "colorbar": {
             "outlinewidth": 0,
             "ticks": ""
            },
            "colorscale": [
             [
              0,
              "#0d0887"
             ],
             [
              0.1111111111111111,
              "#46039f"
             ],
             [
              0.2222222222222222,
              "#7201a8"
             ],
             [
              0.3333333333333333,
              "#9c179e"
             ],
             [
              0.4444444444444444,
              "#bd3786"
             ],
             [
              0.5555555555555556,
              "#d8576b"
             ],
             [
              0.6666666666666666,
              "#ed7953"
             ],
             [
              0.7777777777777778,
              "#fb9f3a"
             ],
             [
              0.8888888888888888,
              "#fdca26"
             ],
             [
              1,
              "#f0f921"
             ]
            ],
            "type": "surface"
           }
          ],
          "table": [
           {
            "cells": {
             "fill": {
              "color": "#EBF0F8"
             },
             "line": {
              "color": "white"
             }
            },
            "header": {
             "fill": {
              "color": "#C8D4E3"
             },
             "line": {
              "color": "white"
             }
            },
            "type": "table"
           }
          ]
         },
         "layout": {
          "annotationdefaults": {
           "arrowcolor": "#2a3f5f",
           "arrowhead": 0,
           "arrowwidth": 1
          },
          "autotypenumbers": "strict",
          "coloraxis": {
           "colorbar": {
            "outlinewidth": 0,
            "ticks": ""
           }
          },
          "colorscale": {
           "diverging": [
            [
             0,
             "#8e0152"
            ],
            [
             0.1,
             "#c51b7d"
            ],
            [
             0.2,
             "#de77ae"
            ],
            [
             0.3,
             "#f1b6da"
            ],
            [
             0.4,
             "#fde0ef"
            ],
            [
             0.5,
             "#f7f7f7"
            ],
            [
             0.6,
             "#e6f5d0"
            ],
            [
             0.7,
             "#b8e186"
            ],
            [
             0.8,
             "#7fbc41"
            ],
            [
             0.9,
             "#4d9221"
            ],
            [
             1,
             "#276419"
            ]
           ],
           "sequential": [
            [
             0,
             "#0d0887"
            ],
            [
             0.1111111111111111,
             "#46039f"
            ],
            [
             0.2222222222222222,
             "#7201a8"
            ],
            [
             0.3333333333333333,
             "#9c179e"
            ],
            [
             0.4444444444444444,
             "#bd3786"
            ],
            [
             0.5555555555555556,
             "#d8576b"
            ],
            [
             0.6666666666666666,
             "#ed7953"
            ],
            [
             0.7777777777777778,
             "#fb9f3a"
            ],
            [
             0.8888888888888888,
             "#fdca26"
            ],
            [
             1,
             "#f0f921"
            ]
           ],
           "sequentialminus": [
            [
             0,
             "#0d0887"
            ],
            [
             0.1111111111111111,
             "#46039f"
            ],
            [
             0.2222222222222222,
             "#7201a8"
            ],
            [
             0.3333333333333333,
             "#9c179e"
            ],
            [
             0.4444444444444444,
             "#bd3786"
            ],
            [
             0.5555555555555556,
             "#d8576b"
            ],
            [
             0.6666666666666666,
             "#ed7953"
            ],
            [
             0.7777777777777778,
             "#fb9f3a"
            ],
            [
             0.8888888888888888,
             "#fdca26"
            ],
            [
             1,
             "#f0f921"
            ]
           ]
          },
          "colorway": [
           "#636efa",
           "#EF553B",
           "#00cc96",
           "#ab63fa",
           "#FFA15A",
           "#19d3f3",
           "#FF6692",
           "#B6E880",
           "#FF97FF",
           "#FECB52"
          ],
          "font": {
           "color": "#2a3f5f"
          },
          "geo": {
           "bgcolor": "white",
           "lakecolor": "white",
           "landcolor": "#E5ECF6",
           "showlakes": true,
           "showland": true,
           "subunitcolor": "white"
          },
          "hoverlabel": {
           "align": "left"
          },
          "hovermode": "closest",
          "mapbox": {
           "style": "light"
          },
          "paper_bgcolor": "white",
          "plot_bgcolor": "#E5ECF6",
          "polar": {
           "angularaxis": {
            "gridcolor": "white",
            "linecolor": "white",
            "ticks": ""
           },
           "bgcolor": "#E5ECF6",
           "radialaxis": {
            "gridcolor": "white",
            "linecolor": "white",
            "ticks": ""
           }
          },
          "scene": {
           "xaxis": {
            "backgroundcolor": "#E5ECF6",
            "gridcolor": "white",
            "gridwidth": 2,
            "linecolor": "white",
            "showbackground": true,
            "ticks": "",
            "zerolinecolor": "white"
           },
           "yaxis": {
            "backgroundcolor": "#E5ECF6",
            "gridcolor": "white",
            "gridwidth": 2,
            "linecolor": "white",
            "showbackground": true,
            "ticks": "",
            "zerolinecolor": "white"
           },
           "zaxis": {
            "backgroundcolor": "#E5ECF6",
            "gridcolor": "white",
            "gridwidth": 2,
            "linecolor": "white",
            "showbackground": true,
            "ticks": "",
            "zerolinecolor": "white"
           }
          },
          "shapedefaults": {
           "line": {
            "color": "#2a3f5f"
           }
          },
          "ternary": {
           "aaxis": {
            "gridcolor": "white",
            "linecolor": "white",
            "ticks": ""
           },
           "baxis": {
            "gridcolor": "white",
            "linecolor": "white",
            "ticks": ""
           },
           "bgcolor": "#E5ECF6",
           "caxis": {
            "gridcolor": "white",
            "linecolor": "white",
            "ticks": ""
           }
          },
          "title": {
           "x": 0.05
          },
          "xaxis": {
           "automargin": true,
           "gridcolor": "white",
           "linecolor": "white",
           "ticks": "",
           "title": {
            "standoff": 15
           },
           "zerolinecolor": "white",
           "zerolinewidth": 2
          },
          "yaxis": {
           "automargin": true,
           "gridcolor": "white",
           "linecolor": "white",
           "ticks": "",
           "title": {
            "standoff": 15
           },
           "zerolinecolor": "white",
           "zerolinewidth": 2
          }
         }
        },
        "xaxis": {
         "title": {
          "text": "Real"
         }
        },
        "yaxis": {
         "scaleanchor": "x",
         "scaleratio": 1,
         "title": {
          "text": "Imaginary"
         }
        }
       }
      }
     },
     "metadata": {},
     "output_type": "display_data"
    }
   ],
   "source": [
    "z1 = -1 + 0.3j\n",
    "z2 = 0.8 + 0.7j\n",
    "plot_complex([z1,z2], name = ['z1', 'z2'])"
   ]
  },
  {
   "cell_type": "markdown",
   "metadata": {
    "id": "HI6f-fu7KD5a"
   },
   "source": [
    "1.2. Compute the conjugate z* and the inverse 1/z for both $z_1$ and $z_2$ and plot the results as vectors in the complex plane."
   ]
  },
  {
   "cell_type": "code",
   "execution_count": 59,
   "metadata": {
    "executionInfo": {
     "elapsed": 12,
     "status": "ok",
     "timestamp": 1702317970078,
     "user": {
      "displayName": "PEDRO RAMONEDA FRANCO",
      "userId": "10653804143244385715"
     },
     "user_tz": -60
    },
    "id": "Novsdl6JRX7z"
   },
   "outputs": [
    {
     "data": {
      "application/vnd.plotly.v1+json": {
       "config": {
        "plotlyServerURL": "https://plot.ly"
       },
       "data": [
        {
         "line": {
          "color": "rgb(150,150,150)",
          "dash": "dash",
          "shape": "linear"
         },
         "mode": "lines",
         "name": "unit circle",
         "type": "scatter",
         "x": {
          "bdata": "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",
          "dtype": "f8"
         },
         "y": {
          "bdata": "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",
          "dtype": "f8"
         }
        },
        {
         "marker": {
          "color": "#1f77b4"
         },
         "mode": "markers",
         "name": "conjugat z1",
         "type": "scatter",
         "x": [
          -1
         ],
         "y": [
          -0.3
         ]
        },
        {
         "marker": {
          "color": "#ff7f0e"
         },
         "mode": "markers",
         "name": "conjugat z2",
         "type": "scatter",
         "x": [
          0.8
         ],
         "y": [
          -0.7
         ]
        },
        {
         "marker": {
          "color": "#2ca02c"
         },
         "mode": "markers",
         "name": "invers z1",
         "type": "scatter",
         "x": [
          -0.9174311926605504
         ],
         "y": [
          -0.2752293577981651
         ]
        },
        {
         "marker": {
          "color": "#d62728"
         },
         "mode": "markers",
         "name": "invers z2",
         "type": "scatter",
         "x": [
          0.7079646017699115
         ],
         "y": [
          -0.6194690265486724
         ]
        }
       ],
       "layout": {
        "annotations": [
         {
          "arrowcolor": "#1f77b4",
          "arrowhead": 3,
          "arrowwidth": 1.5,
          "ax": 0,
          "axref": "x",
          "ay": 0,
          "ayref": "y",
          "showarrow": true,
          "text": "",
          "x": -1,
          "y": -0.3
         },
         {
          "arrowcolor": "#ff7f0e",
          "arrowhead": 3,
          "arrowwidth": 1.5,
          "ax": 0,
          "axref": "x",
          "ay": 0,
          "ayref": "y",
          "showarrow": true,
          "text": "",
          "x": 0.8,
          "y": -0.7
         },
         {
          "arrowcolor": "#2ca02c",
          "arrowhead": 3,
          "arrowwidth": 1.5,
          "ax": 0,
          "axref": "x",
          "ay": 0,
          "ayref": "y",
          "showarrow": true,
          "text": "",
          "x": -0.9174311926605504,
          "y": -0.2752293577981651
         },
         {
          "arrowcolor": "#d62728",
          "arrowhead": 3,
          "arrowwidth": 1.5,
          "ax": 0,
          "axref": "x",
          "ay": 0,
          "ayref": "y",
          "showarrow": true,
          "text": "",
          "x": 0.7079646017699115,
          "y": -0.6194690265486724
         }
        ],
        "template": {
         "data": {
          "bar": [
           {
            "error_x": {
             "color": "#2a3f5f"
            },
            "error_y": {
             "color": "#2a3f5f"
            },
            "marker": {
             "line": {
              "color": "#E5ECF6",
              "width": 0.5
             },
             "pattern": {
              "fillmode": "overlay",
              "size": 10,
              "solidity": 0.2
             }
            },
            "type": "bar"
           }
          ],
          "barpolar": [
           {
            "marker": {
             "line": {
              "color": "#E5ECF6",
              "width": 0.5
             },
             "pattern": {
              "fillmode": "overlay",
              "size": 10,
              "solidity": 0.2
             }
            },
            "type": "barpolar"
           }
          ],
          "carpet": [
           {
            "aaxis": {
             "endlinecolor": "#2a3f5f",
             "gridcolor": "white",
             "linecolor": "white",
             "minorgridcolor": "white",
             "startlinecolor": "#2a3f5f"
            },
            "baxis": {
             "endlinecolor": "#2a3f5f",
             "gridcolor": "white",
             "linecolor": "white",
             "minorgridcolor": "white",
             "startlinecolor": "#2a3f5f"
            },
            "type": "carpet"
           }
          ],
          "choropleth": [
           {
            "colorbar": {
             "outlinewidth": 0,
             "ticks": ""
            },
            "type": "choropleth"
           }
          ],
          "contour": [
           {
            "colorbar": {
             "outlinewidth": 0,
             "ticks": ""
            },
            "colorscale": [
             [
              0,
              "#0d0887"
             ],
             [
              0.1111111111111111,
              "#46039f"
             ],
             [
              0.2222222222222222,
              "#7201a8"
             ],
             [
              0.3333333333333333,
              "#9c179e"
             ],
             [
              0.4444444444444444,
              "#bd3786"
             ],
             [
              0.5555555555555556,
              "#d8576b"
             ],
             [
              0.6666666666666666,
              "#ed7953"
             ],
             [
              0.7777777777777778,
              "#fb9f3a"
             ],
             [
              0.8888888888888888,
              "#fdca26"
             ],
             [
              1,
              "#f0f921"
             ]
            ],
            "type": "contour"
           }
          ],
          "contourcarpet": [
           {
            "colorbar": {
             "outlinewidth": 0,
             "ticks": ""
            },
            "type": "contourcarpet"
           }
          ],
          "heatmap": [
           {
            "colorbar": {
             "outlinewidth": 0,
             "ticks": ""
            },
            "colorscale": [
             [
              0,
              "#0d0887"
             ],
             [
              0.1111111111111111,
              "#46039f"
             ],
             [
              0.2222222222222222,
              "#7201a8"
             ],
             [
              0.3333333333333333,
              "#9c179e"
             ],
             [
              0.4444444444444444,
              "#bd3786"
             ],
             [
              0.5555555555555556,
              "#d8576b"
             ],
             [
              0.6666666666666666,
              "#ed7953"
             ],
             [
              0.7777777777777778,
              "#fb9f3a"
             ],
             [
              0.8888888888888888,
              "#fdca26"
             ],
             [
              1,
              "#f0f921"
             ]
            ],
            "type": "heatmap"
           }
          ],
          "histogram": [
           {
            "marker": {
             "pattern": {
              "fillmode": "overlay",
              "size": 10,
              "solidity": 0.2
             }
            },
            "type": "histogram"
           }
          ],
          "histogram2d": [
           {
            "colorbar": {
             "outlinewidth": 0,
             "ticks": ""
            },
            "colorscale": [
             [
              0,
              "#0d0887"
             ],
             [
              0.1111111111111111,
              "#46039f"
             ],
             [
              0.2222222222222222,
              "#7201a8"
             ],
             [
              0.3333333333333333,
              "#9c179e"
             ],
             [
              0.4444444444444444,
              "#bd3786"
             ],
             [
              0.5555555555555556,
              "#d8576b"
             ],
             [
              0.6666666666666666,
              "#ed7953"
             ],
             [
              0.7777777777777778,
              "#fb9f3a"
             ],
             [
              0.8888888888888888,
              "#fdca26"
             ],
             [
              1,
              "#f0f921"
             ]
            ],
            "type": "histogram2d"
           }
          ],
          "histogram2dcontour": [
           {
            "colorbar": {
             "outlinewidth": 0,
             "ticks": ""
            },
            "colorscale": [
             [
              0,
              "#0d0887"
             ],
             [
              0.1111111111111111,
              "#46039f"
             ],
             [
              0.2222222222222222,
              "#7201a8"
             ],
             [
              0.3333333333333333,
              "#9c179e"
             ],
             [
              0.4444444444444444,
              "#bd3786"
             ],
             [
              0.5555555555555556,
              "#d8576b"
             ],
             [
              0.6666666666666666,
              "#ed7953"
             ],
             [
              0.7777777777777778,
              "#fb9f3a"
             ],
             [
              0.8888888888888888,
              "#fdca26"
             ],
             [
              1,
              "#f0f921"
             ]
            ],
            "type": "histogram2dcontour"
           }
          ],
          "mesh3d": [
           {
            "colorbar": {
             "outlinewidth": 0,
             "ticks": ""
            },
            "type": "mesh3d"
           }
          ],
          "parcoords": [
           {
            "line": {
             "colorbar": {
              "outlinewidth": 0,
              "ticks": ""
             }
            },
            "type": "parcoords"
           }
          ],
          "pie": [
           {
            "automargin": true,
            "type": "pie"
           }
          ],
          "scatter": [
           {
            "fillpattern": {
             "fillmode": "overlay",
             "size": 10,
             "solidity": 0.2
            },
            "type": "scatter"
           }
          ],
          "scatter3d": [
           {
            "line": {
             "colorbar": {
              "outlinewidth": 0,
              "ticks": ""
             }
            },
            "marker": {
             "colorbar": {
              "outlinewidth": 0,
              "ticks": ""
             }
            },
            "type": "scatter3d"
           }
          ],
          "scattercarpet": [
           {
            "marker": {
             "colorbar": {
              "outlinewidth": 0,
              "ticks": ""
             }
            },
            "type": "scattercarpet"
           }
          ],
          "scattergeo": [
           {
            "marker": {
             "colorbar": {
              "outlinewidth": 0,
              "ticks": ""
             }
            },
            "type": "scattergeo"
           }
          ],
          "scattergl": [
           {
            "marker": {
             "colorbar": {
              "outlinewidth": 0,
              "ticks": ""
             }
            },
            "type": "scattergl"
           }
          ],
          "scattermap": [
           {
            "marker": {
             "colorbar": {
              "outlinewidth": 0,
              "ticks": ""
             }
            },
            "type": "scattermap"
           }
          ],
          "scattermapbox": [
           {
            "marker": {
             "colorbar": {
              "outlinewidth": 0,
              "ticks": ""
             }
            },
            "type": "scattermapbox"
           }
          ],
          "scatterpolar": [
           {
            "marker": {
             "colorbar": {
              "outlinewidth": 0,
              "ticks": ""
             }
            },
            "type": "scatterpolar"
           }
          ],
          "scatterpolargl": [
           {
            "marker": {
             "colorbar": {
              "outlinewidth": 0,
              "ticks": ""
             }
            },
            "type": "scatterpolargl"
           }
          ],
          "scatterternary": [
           {
            "marker": {
             "colorbar": {
              "outlinewidth": 0,
              "ticks": ""
             }
            },
            "type": "scatterternary"
           }
          ],
          "surface": [
           {
            "colorbar": {
             "outlinewidth": 0,
             "ticks": ""
            },
            "colorscale": [
             [
              0,
              "#0d0887"
             ],
             [
              0.1111111111111111,
              "#46039f"
             ],
             [
              0.2222222222222222,
              "#7201a8"
             ],
             [
              0.3333333333333333,
              "#9c179e"
             ],
             [
              0.4444444444444444,
              "#bd3786"
             ],
             [
              0.5555555555555556,
              "#d8576b"
             ],
             [
              0.6666666666666666,
              "#ed7953"
             ],
             [
              0.7777777777777778,
              "#fb9f3a"
             ],
             [
              0.8888888888888888,
              "#fdca26"
             ],
             [
              1,
              "#f0f921"
             ]
            ],
            "type": "surface"
           }
          ],
          "table": [
           {
            "cells": {
             "fill": {
              "color": "#EBF0F8"
             },
             "line": {
              "color": "white"
             }
            },
            "header": {
             "fill": {
              "color": "#C8D4E3"
             },
             "line": {
              "color": "white"
             }
            },
            "type": "table"
           }
          ]
         },
         "layout": {
          "annotationdefaults": {
           "arrowcolor": "#2a3f5f",
           "arrowhead": 0,
           "arrowwidth": 1
          },
          "autotypenumbers": "strict",
          "coloraxis": {
           "colorbar": {
            "outlinewidth": 0,
            "ticks": ""
           }
          },
          "colorscale": {
           "diverging": [
            [
             0,
             "#8e0152"
            ],
            [
             0.1,
             "#c51b7d"
            ],
            [
             0.2,
             "#de77ae"
            ],
            [
             0.3,
             "#f1b6da"
            ],
            [
             0.4,
             "#fde0ef"
            ],
            [
             0.5,
             "#f7f7f7"
            ],
            [
             0.6,
             "#e6f5d0"
            ],
            [
             0.7,
             "#b8e186"
            ],
            [
             0.8,
             "#7fbc41"
            ],
            [
             0.9,
             "#4d9221"
            ],
            [
             1,
             "#276419"
            ]
           ],
           "sequential": [
            [
             0,
             "#0d0887"
            ],
            [
             0.1111111111111111,
             "#46039f"
            ],
            [
             0.2222222222222222,
             "#7201a8"
            ],
            [
             0.3333333333333333,
             "#9c179e"
            ],
            [
             0.4444444444444444,
             "#bd3786"
            ],
            [
             0.5555555555555556,
             "#d8576b"
            ],
            [
             0.6666666666666666,
             "#ed7953"
            ],
            [
             0.7777777777777778,
             "#fb9f3a"
            ],
            [
             0.8888888888888888,
             "#fdca26"
            ],
            [
             1,
             "#f0f921"
            ]
           ],
           "sequentialminus": [
            [
             0,
             "#0d0887"
            ],
            [
             0.1111111111111111,
             "#46039f"
            ],
            [
             0.2222222222222222,
             "#7201a8"
            ],
            [
             0.3333333333333333,
             "#9c179e"
            ],
            [
             0.4444444444444444,
             "#bd3786"
            ],
            [
             0.5555555555555556,
             "#d8576b"
            ],
            [
             0.6666666666666666,
             "#ed7953"
            ],
            [
             0.7777777777777778,
             "#fb9f3a"
            ],
            [
             0.8888888888888888,
             "#fdca26"
            ],
            [
             1,
             "#f0f921"
            ]
           ]
          },
          "colorway": [
           "#636efa",
           "#EF553B",
           "#00cc96",
           "#ab63fa",
           "#FFA15A",
           "#19d3f3",
           "#FF6692",
           "#B6E880",
           "#FF97FF",
           "#FECB52"
          ],
          "font": {
           "color": "#2a3f5f"
          },
          "geo": {
           "bgcolor": "white",
           "lakecolor": "white",
           "landcolor": "#E5ECF6",
           "showlakes": true,
           "showland": true,
           "subunitcolor": "white"
          },
          "hoverlabel": {
           "align": "left"
          },
          "hovermode": "closest",
          "mapbox": {
           "style": "light"
          },
          "paper_bgcolor": "white",
          "plot_bgcolor": "#E5ECF6",
          "polar": {
           "angularaxis": {
            "gridcolor": "white",
            "linecolor": "white",
            "ticks": ""
           },
           "bgcolor": "#E5ECF6",
           "radialaxis": {
            "gridcolor": "white",
            "linecolor": "white",
            "ticks": ""
           }
          },
          "scene": {
           "xaxis": {
            "backgroundcolor": "#E5ECF6",
            "gridcolor": "white",
            "gridwidth": 2,
            "linecolor": "white",
            "showbackground": true,
            "ticks": "",
            "zerolinecolor": "white"
           },
           "yaxis": {
            "backgroundcolor": "#E5ECF6",
            "gridcolor": "white",
            "gridwidth": 2,
            "linecolor": "white",
            "showbackground": true,
            "ticks": "",
            "zerolinecolor": "white"
           },
           "zaxis": {
            "backgroundcolor": "#E5ECF6",
            "gridcolor": "white",
            "gridwidth": 2,
            "linecolor": "white",
            "showbackground": true,
            "ticks": "",
            "zerolinecolor": "white"
           }
          },
          "shapedefaults": {
           "line": {
            "color": "#2a3f5f"
           }
          },
          "ternary": {
           "aaxis": {
            "gridcolor": "white",
            "linecolor": "white",
            "ticks": ""
           },
           "baxis": {
            "gridcolor": "white",
            "linecolor": "white",
            "ticks": ""
           },
           "bgcolor": "#E5ECF6",
           "caxis": {
            "gridcolor": "white",
            "linecolor": "white",
            "ticks": ""
           }
          },
          "title": {
           "x": 0.05
          },
          "xaxis": {
           "automargin": true,
           "gridcolor": "white",
           "linecolor": "white",
           "ticks": "",
           "title": {
            "standoff": 15
           },
           "zerolinecolor": "white",
           "zerolinewidth": 2
          },
          "yaxis": {
           "automargin": true,
           "gridcolor": "white",
           "linecolor": "white",
           "ticks": "",
           "title": {
            "standoff": 15
           },
           "zerolinecolor": "white",
           "zerolinewidth": 2
          }
         }
        },
        "xaxis": {
         "title": {
          "text": "Real"
         }
        },
        "yaxis": {
         "scaleanchor": "x",
         "scaleratio": 1,
         "title": {
          "text": "Imaginary"
         }
        }
       }
      }
     },
     "metadata": {},
     "output_type": "display_data"
    }
   ],
   "source": [
    "z1_conj = z1.conjugate()\n",
    "z1_invers = 1/z1\n",
    "\n",
    "z2_conj = z2.conjugate()\n",
    "z2_invers = 1/z2\n",
    "\n",
    "plot_complex([z1_conj, z2_conj, z1_invers, z2_invers], name=['conjugat z1', 'conjugat z2', 'invers z1', 'invers z2'])"
   ]
  },
  {
   "cell_type": "markdown",
   "metadata": {
    "id": "gjPVdnvuKD06"
   },
   "source": [
    "**2. Complex Exponentials**\n",
    "\n",
    "Now let's work with complex exponentials. In python is very easy to work with these type of signals:"
   ]
  },
  {
   "cell_type": "code",
   "execution_count": 60,
   "metadata": {
    "executionInfo": {
     "elapsed": 12,
     "status": "ok",
     "timestamp": 1702317970079,
     "user": {
      "displayName": "PEDRO RAMONEDA FRANCO",
      "userId": "10653804143244385715"
     },
     "user_tz": -60
    },
    "id": "kjkqiEqriy6R"
   },
   "outputs": [],
   "source": [
    "A = 0.1\n",
    "f0 = 1000\n",
    "fs = 44100\n",
    "phi = np.pi/2\n",
    "t = np.arange(0, .1, 1.0/fs)\n",
    "x = A * np.exp(1j*(2*f0*np.pi*t + phi))"
   ]
  },
  {
   "cell_type": "markdown",
   "metadata": {
    "id": "uUmIGLWyi9Wg"
   },
   "source": [
    "Now we can plot the real and imaginary part of this signal:\n"
   ]
  },
  {
   "cell_type": "code",
   "execution_count": 61,
   "metadata": {
    "colab": {
     "base_uri": "https://localhost:8080/",
     "height": 542
    },
    "executionInfo": {
     "elapsed": 1589,
     "status": "ok",
     "timestamp": 1702317971655,
     "user": {
      "displayName": "PEDRO RAMONEDA FRANCO",
      "userId": "10653804143244385715"
     },
     "user_tz": -60
    },
    "id": "3qRWzLQ4i86e",
    "outputId": "74ecce8b-bb7c-4a29-ee26-1b8a35492cfb"
   },
   "outputs": [
    {
     "data": {
      "application/vnd.plotly.v1+json": {
       "config": {
        "linkText": "Export to plot.ly",
        "plotlyServerURL": "https://plot.ly",
        "showLink": false
       },
       "data": [
        {
         "line": {
          "color": "#1f77b4",
          "shape": "linear"
         },
         "mode": "lines",
         "name": "real part",
         "type": "scatter",
         "x": {
          "bdata": "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",
          "dtype": "f8"
         },
         "y": {
          "bdata": "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",
          "dtype": "f8"
         }
        },
        {
         "line": {
          "color": "#ff7f0e",
          "shape": "linear"
         },
         "mode": "lines",
         "name": "imag part",
         "type": "scatter",
         "x": {
          "bdata": "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",
          "dtype": "f8"
         },
         "y": {
          "bdata": "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",
          "dtype": "f8"
         }
        }
       ],
       "layout": {
        "template": {
         "data": {
          "bar": [
           {
            "error_x": {
             "color": "#2a3f5f"
            },
            "error_y": {
             "color": "#2a3f5f"
            },
            "marker": {
             "line": {
              "color": "#E5ECF6",
              "width": 0.5
             },
             "pattern": {
              "fillmode": "overlay",
              "size": 10,
              "solidity": 0.2
             }
            },
            "type": "bar"
           }
          ],
          "barpolar": [
           {
            "marker": {
             "line": {
              "color": "#E5ECF6",
              "width": 0.5
             },
             "pattern": {
              "fillmode": "overlay",
              "size": 10,
              "solidity": 0.2
             }
            },
            "type": "barpolar"
           }
          ],
          "carpet": [
           {
            "aaxis": {
             "endlinecolor": "#2a3f5f",
             "gridcolor": "white",
             "linecolor": "white",
             "minorgridcolor": "white",
             "startlinecolor": "#2a3f5f"
            },
            "baxis": {
             "endlinecolor": "#2a3f5f",
             "gridcolor": "white",
             "linecolor": "white",
             "minorgridcolor": "white",
             "startlinecolor": "#2a3f5f"
            },
            "type": "carpet"
           }
          ],
          "choropleth": [
           {
            "colorbar": {
             "outlinewidth": 0,
             "ticks": ""
            },
            "type": "choropleth"
           }
          ],
          "contour": [
           {
            "colorbar": {
             "outlinewidth": 0,
             "ticks": ""
            },
            "colorscale": [
             [
              0,
              "#0d0887"
             ],
             [
              0.1111111111111111,
              "#46039f"
             ],
             [
              0.2222222222222222,
              "#7201a8"
             ],
             [
              0.3333333333333333,
              "#9c179e"
             ],
             [
              0.4444444444444444,
              "#bd3786"
             ],
             [
              0.5555555555555556,
              "#d8576b"
             ],
             [
              0.6666666666666666,
              "#ed7953"
             ],
             [
              0.7777777777777778,
              "#fb9f3a"
             ],
             [
              0.8888888888888888,
              "#fdca26"
             ],
             [
              1,
              "#f0f921"
             ]
            ],
            "type": "contour"
           }
          ],
          "contourcarpet": [
           {
            "colorbar": {
             "outlinewidth": 0,
             "ticks": ""
            },
            "type": "contourcarpet"
           }
          ],
          "heatmap": [
           {
            "colorbar": {
             "outlinewidth": 0,
             "ticks": ""
            },
            "colorscale": [
             [
              0,
              "#0d0887"
             ],
             [
              0.1111111111111111,
              "#46039f"
             ],
             [
              0.2222222222222222,
              "#7201a8"
             ],
             [
              0.3333333333333333,
              "#9c179e"
             ],
             [
              0.4444444444444444,
              "#bd3786"
             ],
             [
              0.5555555555555556,
              "#d8576b"
             ],
             [
              0.6666666666666666,
              "#ed7953"
             ],
             [
              0.7777777777777778,
              "#fb9f3a"
             ],
             [
              0.8888888888888888,
              "#fdca26"
             ],
             [
              1,
              "#f0f921"
             ]
            ],
            "type": "heatmap"
           }
          ],
          "histogram": [
           {
            "marker": {
             "pattern": {
              "fillmode": "overlay",
              "size": 10,
              "solidity": 0.2
             }
            },
            "type": "histogram"
           }
          ],
          "histogram2d": [
           {
            "colorbar": {
             "outlinewidth": 0,
             "ticks": ""
            },
            "colorscale": [
             [
              0,
              "#0d0887"
             ],
             [
              0.1111111111111111,
              "#46039f"
             ],
             [
              0.2222222222222222,
              "#7201a8"
             ],
             [
              0.3333333333333333,
              "#9c179e"
             ],
             [
              0.4444444444444444,
              "#bd3786"
             ],
             [
              0.5555555555555556,
              "#d8576b"
             ],
             [
              0.6666666666666666,
              "#ed7953"
             ],
             [
              0.7777777777777778,
              "#fb9f3a"
             ],
             [
              0.8888888888888888,
              "#fdca26"
             ],
             [
              1,
              "#f0f921"
             ]
            ],
            "type": "histogram2d"
           }
          ],
          "histogram2dcontour": [
           {
            "colorbar": {
             "outlinewidth": 0,
             "ticks": ""
            },
            "colorscale": [
             [
              0,
              "#0d0887"
             ],
             [
              0.1111111111111111,
              "#46039f"
             ],
             [
              0.2222222222222222,
              "#7201a8"
             ],
             [
              0.3333333333333333,
              "#9c179e"
             ],
             [
              0.4444444444444444,
              "#bd3786"
             ],
             [
              0.5555555555555556,
              "#d8576b"
             ],
             [
              0.6666666666666666,
              "#ed7953"
             ],
             [
              0.7777777777777778,
              "#fb9f3a"
             ],
             [
              0.8888888888888888,
              "#fdca26"
             ],
             [
              1,
              "#f0f921"
             ]
            ],
            "type": "histogram2dcontour"
           }
          ],
          "mesh3d": [
           {
            "colorbar": {
             "outlinewidth": 0,
             "ticks": ""
            },
            "type": "mesh3d"
           }
          ],
          "parcoords": [
           {
            "line": {
             "colorbar": {
              "outlinewidth": 0,
              "ticks": ""
             }
            },
            "type": "parcoords"
           }
          ],
          "pie": [
           {
            "automargin": true,
            "type": "pie"
           }
          ],
          "scatter": [
           {
            "fillpattern": {
             "fillmode": "overlay",
             "size": 10,
             "solidity": 0.2
            },
            "type": "scatter"
           }
          ],
          "scatter3d": [
           {
            "line": {
             "colorbar": {
              "outlinewidth": 0,
              "ticks": ""
             }
            },
            "marker": {
             "colorbar": {
              "outlinewidth": 0,
              "ticks": ""
             }
            },
            "type": "scatter3d"
           }
          ],
          "scattercarpet": [
           {
            "marker": {
             "colorbar": {
              "outlinewidth": 0,
              "ticks": ""
             }
            },
            "type": "scattercarpet"
           }
          ],
          "scattergeo": [
           {
            "marker": {
             "colorbar": {
              "outlinewidth": 0,
              "ticks": ""
             }
            },
            "type": "scattergeo"
           }
          ],
          "scattergl": [
           {
            "marker": {
             "colorbar": {
              "outlinewidth": 0,
              "ticks": ""
             }
            },
            "type": "scattergl"
           }
          ],
          "scattermap": [
           {
            "marker": {
             "colorbar": {
              "outlinewidth": 0,
              "ticks": ""
             }
            },
            "type": "scattermap"
           }
          ],
          "scattermapbox": [
           {
            "marker": {
             "colorbar": {
              "outlinewidth": 0,
              "ticks": ""
             }
            },
            "type": "scattermapbox"
           }
          ],
          "scatterpolar": [
           {
            "marker": {
             "colorbar": {
              "outlinewidth": 0,
              "ticks": ""
             }
            },
            "type": "scatterpolar"
           }
          ],
          "scatterpolargl": [
           {
            "marker": {
             "colorbar": {
              "outlinewidth": 0,
              "ticks": ""
             }
            },
            "type": "scatterpolargl"
           }
          ],
          "scatterternary": [
           {
            "marker": {
             "colorbar": {
              "outlinewidth": 0,
              "ticks": ""
             }
            },
            "type": "scatterternary"
           }
          ],
          "surface": [
           {
            "colorbar": {
             "outlinewidth": 0,
             "ticks": ""
            },
            "colorscale": [
             [
              0,
              "#0d0887"
             ],
             [
              0.1111111111111111,
              "#46039f"
             ],
             [
              0.2222222222222222,
              "#7201a8"
             ],
             [
              0.3333333333333333,
              "#9c179e"
             ],
             [
              0.4444444444444444,
              "#bd3786"
             ],
             [
              0.5555555555555556,
              "#d8576b"
             ],
             [
              0.6666666666666666,
              "#ed7953"
             ],
             [
              0.7777777777777778,
              "#fb9f3a"
             ],
             [
              0.8888888888888888,
              "#fdca26"
             ],
             [
              1,
              "#f0f921"
             ]
            ],
            "type": "surface"
           }
          ],
          "table": [
           {
            "cells": {
             "fill": {
              "color": "#EBF0F8"
             },
             "line": {
              "color": "white"
             }
            },
            "header": {
             "fill": {
              "color": "#C8D4E3"
             },
             "line": {
              "color": "white"
             }
            },
            "type": "table"
           }
          ]
         },
         "layout": {
          "annotationdefaults": {
           "arrowcolor": "#2a3f5f",
           "arrowhead": 0,
           "arrowwidth": 1
          },
          "autotypenumbers": "strict",
          "coloraxis": {
           "colorbar": {
            "outlinewidth": 0,
            "ticks": ""
           }
          },
          "colorscale": {
           "diverging": [
            [
             0,
             "#8e0152"
            ],
            [
             0.1,
             "#c51b7d"
            ],
            [
             0.2,
             "#de77ae"
            ],
            [
             0.3,
             "#f1b6da"
            ],
            [
             0.4,
             "#fde0ef"
            ],
            [
             0.5,
             "#f7f7f7"
            ],
            [
             0.6,
             "#e6f5d0"
            ],
            [
             0.7,
             "#b8e186"
            ],
            [
             0.8,
             "#7fbc41"
            ],
            [
             0.9,
             "#4d9221"
            ],
            [
             1,
             "#276419"
            ]
           ],
           "sequential": [
            [
             0,
             "#0d0887"
            ],
            [
             0.1111111111111111,
             "#46039f"
            ],
            [
             0.2222222222222222,
             "#7201a8"
            ],
            [
             0.3333333333333333,
             "#9c179e"
            ],
            [
             0.4444444444444444,
             "#bd3786"
            ],
            [
             0.5555555555555556,
             "#d8576b"
            ],
            [
             0.6666666666666666,
             "#ed7953"
            ],
            [
             0.7777777777777778,
             "#fb9f3a"
            ],
            [
             0.8888888888888888,
             "#fdca26"
            ],
            [
             1,
             "#f0f921"
            ]
           ],
           "sequentialminus": [
            [
             0,
             "#0d0887"
            ],
            [
             0.1111111111111111,
             "#46039f"
            ],
            [
             0.2222222222222222,
             "#7201a8"
            ],
            [
             0.3333333333333333,
             "#9c179e"
            ],
            [
             0.4444444444444444,
             "#bd3786"
            ],
            [
             0.5555555555555556,
             "#d8576b"
            ],
            [
             0.6666666666666666,
             "#ed7953"
            ],
            [
             0.7777777777777778,
             "#fb9f3a"
            ],
            [
             0.8888888888888888,
             "#fdca26"
            ],
            [
             1,
             "#f0f921"
            ]
           ]
          },
          "colorway": [
           "#636efa",
           "#EF553B",
           "#00cc96",
           "#ab63fa",
           "#FFA15A",
           "#19d3f3",
           "#FF6692",
           "#B6E880",
           "#FF97FF",
           "#FECB52"
          ],
          "font": {
           "color": "#2a3f5f"
          },
          "geo": {
           "bgcolor": "white",
           "lakecolor": "white",
           "landcolor": "#E5ECF6",
           "showlakes": true,
           "showland": true,
           "subunitcolor": "white"
          },
          "hoverlabel": {
           "align": "left"
          },
          "hovermode": "closest",
          "mapbox": {
           "style": "light"
          },
          "paper_bgcolor": "white",
          "plot_bgcolor": "#E5ECF6",
          "polar": {
           "angularaxis": {
            "gridcolor": "white",
            "linecolor": "white",
            "ticks": ""
           },
           "bgcolor": "#E5ECF6",
           "radialaxis": {
            "gridcolor": "white",
            "linecolor": "white",
            "ticks": ""
           }
          },
          "scene": {
           "xaxis": {
            "backgroundcolor": "#E5ECF6",
            "gridcolor": "white",
            "gridwidth": 2,
            "linecolor": "white",
            "showbackground": true,
            "ticks": "",
            "zerolinecolor": "white"
           },
           "yaxis": {
            "backgroundcolor": "#E5ECF6",
            "gridcolor": "white",
            "gridwidth": 2,
            "linecolor": "white",
            "showbackground": true,
            "ticks": "",
            "zerolinecolor": "white"
           },
           "zaxis": {
            "backgroundcolor": "#E5ECF6",
            "gridcolor": "white",
            "gridwidth": 2,
            "linecolor": "white",
            "showbackground": true,
            "ticks": "",
            "zerolinecolor": "white"
           }
          },
          "shapedefaults": {
           "line": {
            "color": "#2a3f5f"
           }
          },
          "ternary": {
           "aaxis": {
            "gridcolor": "white",
            "linecolor": "white",
            "ticks": ""
           },
           "baxis": {
            "gridcolor": "white",
            "linecolor": "white",
            "ticks": ""
           },
           "bgcolor": "#E5ECF6",
           "caxis": {
            "gridcolor": "white",
            "linecolor": "white",
            "ticks": ""
           }
          },
          "title": {
           "x": 0.05
          },
          "xaxis": {
           "automargin": true,
           "gridcolor": "white",
           "linecolor": "white",
           "ticks": "",
           "title": {
            "standoff": 15
           },
           "zerolinecolor": "white",
           "zerolinewidth": 2
          },
          "yaxis": {
           "automargin": true,
           "gridcolor": "white",
           "linecolor": "white",
           "ticks": "",
           "title": {
            "standoff": 15
           },
           "zerolinecolor": "white",
           "zerolinewidth": 2
          }
         }
        }
       }
      }
     },
     "metadata": {},
     "output_type": "display_data"
    }
   ],
   "source": [
    "plot_signals([np.real(x), np.imag(x)], fs, name=['real part', 'imag part'])"
   ]
  },
  {
   "cell_type": "markdown",
   "metadata": {
    "id": "WbmSTmpIkU9B"
   },
   "source": [
    "2.1. Define a complex exponential with the same parameters that those from Lab 1 (Ex 3.1) and plot the real part."
   ]
  },
  {
   "cell_type": "code",
   "execution_count": 62,
   "metadata": {
    "executionInfo": {
     "elapsed": 14,
     "status": "ok",
     "timestamp": 1702317971656,
     "user": {
      "displayName": "PEDRO RAMONEDA FRANCO",
      "userId": "10653804143244385715"
     },
     "user_tz": -60
    },
    "id": "o3o5lc6WkTId"
   },
   "outputs": [
    {
     "data": {
      "application/vnd.plotly.v1+json": {
       "config": {
        "linkText": "Export to plot.ly",
        "plotlyServerURL": "https://plot.ly",
        "showLink": false
       },
       "data": [
        {
         "line": {
          "color": "#1f77b4",
          "shape": "linear"
         },
         "mode": "lines",
         "name": "real part",
         "type": "scatter",
         "x": {
          "bdata": "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",
          "dtype": "f8"
         },
         "y": {
          "bdata": "mpmZmZmZub+I+kL3qF25v5h7Q8Dvqri/SBdA4rKEt7+DIVE5VPC1v8mlwFs59bO/JBi79qicsb8PkEy8PuOtvxhgEDY2Aai/Y77I0sSuob9kBC/eChOWv9+CZKdawoC/vBxDsLbfdT94fksSbTeTP46haN13TqA/PAcU89y0pj86eSV/7bCsP6cxnZFRE7E/h/3iVDZ+sz+fgQXg0o21P0+ymH6AOLc/Bdf6InF2uD/429Xy00G5P193I4Pwlrk/VIArRDh0uT9IKefLTdq4P1stpdwBzLc/Aj3cNUZOtj/j++hsFmi0Pw/KIzpXIrI/J4LbplkPrz8H5HQukkipPyWo4eJkC6M/D+A3FhLqmD8urf80XpGGP45uLlJYbGS/a2nYw9BXkL8y8FN5jtWdvxoOxHnLY6W/wu2JmqV4q78byLiWbYawvwDk7RQmA7O/lPtvo9Ymtb8ukh2Ieue2v6ShSd3cPLi/ISvW/74gub/gulHN9Y65vxXPJyl9hbm/CD57bYEEub/l8HSbXg64vwiJ006Vp7a/9Pp4qLXWtL++V7GSQKSyvx/UHe9/GrC/fAR60ayKqr/SwVuXD2Skvxc2Pp3ru5u/NZn47LBbjL8YL1ii21c3v505UbGd6Yo/rSicvfkHmz+km4XZRw6kPx3a7vanOqo/sK+snTTsrz+r1xUwIoSyP5sOaet0u7Q/fiIO1rGRtj+ScfnmPv63P52FjP5w+rg/Ava4IKuBuT9EMlQPdJG5PyC7ct+BKbk/OJaMU7tLuD8iERb0Lvy2P3rXPhAAQbU/6Q3N/0kisz8xPq0s+qmwP59d+StDx6s/xC6ATH24pT/4LqZpAYiePzeadloPEJE/JITb97NBaj+E+Z3WAR6Fv0M2Iq7GNJi/p+NODpm0or80pZysNveovyThA3PrxK6/n+bUDEUBsr+THLgJxEu0vz2N+jw4N7a/1jzkQ6S6t7+PPyrl8c64v3ximUATb7m/KN0PehqYub/vAvFwR0m5v2h910MLhLi/H/QQkAFMt7+Ec4GM36a1vyRADE9ZnLO/t6Wsuf01sb+CHFhwE/6sv5vDHEBnCKe/jrpHUt+moL83+w5Wuu6Tvy/x3q57yXi/febErAScfj86v1Oci1yVP1oU5vEGV6E/EUny9ZSupz8cAZ4NPZetP2Xsbd6perE/vctvNdvXsz+Z+g6LINi1P6HRPwEbcrc/T78hvkqeuD8A4UsKMle5P849gQdvmbk/7xNjh8tjuT/w2PW3Qre4P6QMZ4v8lrc/s+uX8D4Itj+XOaIhVRK0Pwtv+XttvrE/SmE0BN0urj/ZFDmgh1OoPz95YuRHBqI/5WqbtUDJlj/2XmQ7ezaCP+d57vGo9XK/FlhV5d9/kr+UVeRZtOufvxwfbCEHYaa/Td7uIWhjrL+3PkWfbPCwvy7AGobSX7O/6+4qhH50tb/4JrIysiS3v+BtRaaFaLi/HFZ0dAw6ub9pid9wcZW5vzzs3p8Iebm/DHurClfluL93w2NQEN23v3JIUP8JZba/jzCm8SSEtL9XQcoXLUOyv3DF0o1gWa+/iJmZmZmZqb99L7Ng8WGjvw/p5KEKn5m/7TXPhG8EiL/Nucl/cS1dPxjtGKW3Po8/rIvBT7ginT9oSHGD0g6lP62yrqusKas/8vYPC6pisD/UrLnuwuOyP6OWxd1mDLU/qiAv73nStj/Qn63KrS24P3mP+Y2oF7k/vnKBiiKMuT8uzEhQ+oi5Pw9HFqg+Drk/i1M4Ti4euD86aSRvLb22P3cmLBex8bQ/UPyT9SDEsj9dn6QAsD6wP+zZDWZZ2qo/YZ8ihJO5pD/86LY/gW+cPwSfF9hlzY0/XlQUUdGBUT++hfDzMHeJv7g7SPetU5q/laXqZz24o7+Sl43gS+qpv80ZtjH/oq+/UMeTOMZjsr8I3J8675+0vyFuoE2De7a/GeZlZs/tt79t6MJ8DfC4v5QHsUOEfbm/eBs+SJ2Tub9M0qsP8TG5v7nTAvxIWri/7Ek87pYQt78Zoy/N4lq1v97ixUcuQbO/3k2yVk/NsL//sYZahBWsv7KB9+HmDKa/+mA6zw46n7++wqIxFciRv8hWISVcC3C/Asm/PF+qgz/BlpjEKn+XP7RdpgOPXaI/urWlIoilqD86A9fpFnquP/qx2v3237E/sylFJi4vtD8INVhh4B+2P8BD4r/3qLc/zPA7fEPDuD9qvkSmmWm5P6y/xVHvmLk/rcn91WZQuT8/ZZ7bU5G4P8TNPCY1X7c/W0ZPNqS/tT/0ylsQO7qzP9n5IqRwWLE/ML3x9NhKrT/zBq/ypFunP/75imUP/6A/tSD+TsWllD/Qm3M97rJ7P0Kccz3usnu/0CD+TsWllL8L+oplD/+gv/8Gr/KkW6e/PL3x9NhKrb/f+SKkcFixv/jKWxA7urO/bEZPNqS/tb/HzTwmNV+3v0hlnttTkbi/qsn91WZQub+sv8VR75i5v2y+RKaZabm/y/A7fEPDuL+9Q+K/96i3vxI1WGHgH7a/jylFJi4vtL8Hstr99t+xvwUD1+kWeq6/CLalIoilqL93XaYDj12ivwmXmMQqf5e/yci/PF+qg7+gVSElXAtwP9nCojEVyJE/UmA6zw46nz+Qgffh5gymP2CyhlqEFaw/0E2yVk/NsD/04sVHLkGzPwCjL83iWrU/+0k87pYQtz/L0wL8SFq4P03Sqw/xMbk/eRs+SJ2TuT+UB7FDhH25P3fownwN8Lg/IOZlZs/ttz8FbqBNg3u2PxTcnzrvn7Q/OseTOMZjsj8UGrYx/6KvP4eXjeBL6qk/WaXqZz24oz+dO0j3rVOaP7uE8PMwd4k/vE8UUdGBUb88nxfYZc2Nv7Xotj+Bb5y/nJ8ihJO5pL+g2Q1mWdqqv2OfpACwPrC/ePyT9SDEsr97JiwXsfG0v0lpJG8tvba/hVM4Ti4euL8VRxaoPg65vyzMSFD6iLm/vHKBiiKMub99j/mNqBe5v8WfrcqtLbi/viAv73nStr+flsXdZgy1v62sue7C47K/7fYPC6pisL91sq6rrCmrv4lIcYPSDqW/L4vBT7ginb917hiltz6Pvwq4yX9xLV2/jzTPhG8EiD8q6eShCp+ZPywvs2DxYaM/lJmZmZmZqT/NxdKNYFmvP0tByhctQ7I/ojCm8SSEtD9pSFD/CWW2P4LDY1AQ3bc/AnurClfluD897N6fCHm5P2uJ33Bxlbk/G1Z0dAw6uT/1bUWmhWi4PwAnsjKyJLc/zO4qhH50tT86wBqG0l+zP58+RZ9s8LA/bN7uIWhjrD8QH2whB2GmP7VU5Fm0658/+ldV5d9/kj+ofO7xqPVyP2JeZDt7NoK/ZGubtUDJlr8beWLkRwaivxMVOaCHU6i/BGE0BN0urr8Qb/l7bb6xv7w5oiFVErS/t+uX8D4Itr+8DGeL/Ja3v/HY9bdCt7i/9hNjh8tjub/OPYEHb5m5v/vgSwoyV7m/VL8hvkqeuL+e0T8BG3K3v7D6Dosg2LW/uctvNdvXs7867G3eqXqxvxABng09l62/2Ejy9ZSup799FObxBlehv1a+U5yLXJW/pOfErAScfr84896ue8l4P4r6Dla67pM/m7pHUt+moD9MwxxAZwinP40cWHAT/qw/46Wsuf01sT8pQAxPWZyzP5ZzgYzfprU/F/QQkAFMtz9MfddDC4S4P+oC8XBHSbk/KN0PehqYuT90YplAE2+5P4o/KuXxzrg/5zzkQ6S6tz9Ajfo8ODe2P3gcuAnES7Q/rObUDEUBsj/w4ANz68SuP2ylnKw296g/guNODpm0oj/uNiKuxjSYP0v5ndYBHoU/bIvb97NBar9TmnZaDxCRv6cvpmkBiJ6/uS6ATH24pb/VXfkrQ8ervxk+rSz6qbC/9g3N/0kis7+i1z4QAEG1vysRFvQu/La/K5aMU7tLuL8hu3LfgSm5v0cyVA90kbm/Ava4IKuBub+WhYz+cPq4v5hx+eY+/re/byIO1rGRtr+tDmnrdLu0v53XFTAihLK/Va+snTTsr78Q2u72pzqqvw2chdlHDqS/xCicvfkHm781OFGxnemKv/aCWKLbVzc/OJr47LBbjD/PNT6d67ubP+DBW5cPZKQ/MAR60ayKqj8k1B3vfxqwP+ZXsZJApLI/+Pp4qLXWtD/tiNNOlae2P9/wdJteDrg/Dz57bYEEuT8czycpfYW5P926Uc31jrk/JyvW/74guT+hoUnd3Dy4PxSSHYh657Y/kPtvo9YmtT/i4+0UJgOzPx/IuJZthrA/N+6JmqV4qz88DsR5y2OlP7XvU3mO1Z0/U2jYw9BXkD/fbC5SWGxkP9Cr/zRekYa/KuA3FhLqmL+FqOHiZAujv/zjdC6SSKm/ZYLbplkPr78CyiM6VyKyv7j76GwWaLS/8zzcNUZOtr9iLaXcAcy3v1gp58tN2ri/VIArRDh0ub9gdyOD8Ja5v/nb1fLTQbm/+Nb6InF2uL9Usph+gDi3v42BBeDSjbW/l/3iVDZ+s7+XMZ2RUROxv215JX/tsKy/MAcU89y0pr8foWjdd06gv3Z+SxJtN5O/SSBDsLbfdb9/gmSnWsKAP+QEL94KE5Y/P77I0sSuoT9HYBA2NgGoP9yPTLw+460/Lhi79qicsT+tpcBbOfWzP4UhUTlU8LU/WxdA4rKEtz+We0PA76q4P4D6QveoXbk/mpmZmZmZuT+E+kL3qF25P6B7Q8Dvqrg/QBdA4rKEtz+XIVE5VPC1P8SlwFs59bM/Rxi79qicsT8VkEy8PuOtP9BfEDY2Aag/wr3I0sSuoT/dAy/eChOWP5iDZKdawoA/FR5DsLbfdb9+f0sSbTeTv5+haN13TqC/qAcU89y0pr80eSV/7bCsv30xnZFRE7G/gP3iVDZ+s7+ygQXg0o21v3CymH6AOLe/DNf6InF2uL/029Xy00G5v193I4Pwlrm/TYArRDh0ub9IKefLTdq4v0ktpdwBzLe/BD3cNUZOtr/O++hsFmi0vxvKIzpXIrK/+oHbplkPr7+I43Qukkipvwio4eJkC6O/Jd83FhLqmL/orP80XpGGv0J1LlJYbGQ/W2nYw9BXkD+18FN5jtWdP7YOxHnLY6U//O2JmqV4qz8FyLiWbYawPw/k7RQmA7M/tftvo9YmtT8ykh2Ieue2P7ehSd3cPLg/ICvW/74guT/hulHN9Y65PxbPJyl9hbk/AD57bYEEuT/I8HSbXg64P/6I006Vp7Y/Dft4qLXWtD+4V7GSQKSyP/DTHe9/GrA/vQN60ayKqj9kwVuXD2SkP1c2Pp3ru5s/JZj47LBbjD/cP1ii21c3P0o6UbGd6Yq/xymcvfkHm7/Mm4XZRw6kv9TZ7vanOqq/v6+snTTsr7/L1xUwIoSyv9QOaet0u7S/jiIO1rGRtr+McfnmPv63v6SFjP5w+ri/CPa4IKuBub9EMlQPdJG5vxW7ct+BKbm/NpaMU7tLuL86ERb0Lvy2v3zXPhAAQbW/yg3N/0kis7/nPa0s+qmwv2Rd+StDx6u/+S6ATH24pb+nLqZpAYiev0qZdloPEJG/CoPb97NBar9h+53WAR6FP2U2Iq7GNJg//+NODpm0oj8upZysNveoP1zhA3PrxK4/3ObUDEUBsj+gHLgJxEu0Py+N+jw4N7Y/2TzkQ6S6tz+bPyrl8c64P3ximUATb7k/Jt0PehqYuT/wAvFwR0m5P1d910MLhLg/JvQQkAFMtz9yc4GM36a1P/4/DE9ZnLM/ZaWsuf01sT8fHFhwE/6sP4vDHEBnCKc/HLpHUt+moD8U+w5Wuu6TPwjv3q57yXg/0uvErAScfr9dv1Oci1yVvzsU5vEGV6G/Tkny9ZSup79/AZ4NPZetv7bsbd6perG/5MtvNdvXs7+e+g6LINi1v7nRPwEbcre/Sr8hvkqeuL8E4UsKMle5v849gQdvmbm/7RNjh8tjub/72PW3Qre4v6EMZ4v8lre/lOuX8D4Itr9SOaIhVRK0v+Bu+XttvrG/PGE0BN0urr+dFDmgh1Oov554YuRHBqK/X2qbtUDJlr9LXGQ7ezaCv3R67vGo9XI/b1dV5d9/kj+1VeRZtOufP4gfbCEHYaY/3N7uIWhjrD/RPkWfbPCwPyPAGobSX7M/8O4qhH50tT8cJ7IysiS3P+ttRaaFaLg/JlZ0dAw6uT9qid9wcZW5Pzfs3p8Iebk/CnurClfluD9qw2NQEN23P0hIUP8JZbY/ejCm8SSEtD9jQcoXLUOyP2LF0o1gWa8/IJmZmZmZqT9sL7Ng8WGjPyXo5KEKn5k/pzXPhG8EiD/PyMl/cS1dv1/tGKW3Po+/MIzBT7ginb8ESXGD0g6lv+eyrqusKau/0vYPC6pisL/arLnuwuOyv8WWxd1mDLW/riAv73nStr/bn63KrS24v3aP+Y2oF7m/wHKBiiKMub8vzEhQ+oi5vwhHFqg+Drm/b1M4Ti4euL8raSRvLb22v48mLBex8bS/SvyT9SDEsr8vn6QAsD6wvy3ZDWZZ2qq/Ip8ihJO5pL886bY/gW+cvyidF9hlzY2/j1gUUdGBUb/QhvDzMHeJP6A8SPetU5o/1aXqZz24oz9Kl43gS+qpP9wZtjH/oq8/aMeTOMZjsj883J8675+0PyZuoE2De7Y/OOZlZs/ttz9v6MJ8DfC4P5AHsUOEfbk/dxs+SJ2TuT9B0qsP8TG5P5fTAvxIWrg/3kk87pYQtz8Uoy/N4lq1P8fixUcuQbM/nk2yVk/NsD/wsYZahBWsPxeB9+HmDKY/2GA6zw46nz/RwaIxFciRP9RXISVcC3A/4Mq/PF+qg78OmJjEKn+Xv/RdpgOPXaK/ybWlIoilqL9wA9fpFnquvzey2v3237G/uClFJi4vtL80NVhh4B+2v8RD4r/3qLe/3PA7fEPDuL9ovkSmmWm5v6u/xVHvmLm/oMn91WZQub80ZZ7bU5G4v9XNPCY1X7e/SEZPNqS/tb/NylsQO7qzv9P5IqRwWLG/zbzx9NhKrb/jBq/ypFunv4z5imUP/6C/WyH+TsWllL8SmHM97rJ7vwCgcz3usns/vCH+TsWllD+7+YplD/+gPw8Hr/KkW6c/n73x9NhKrT8w+iKkcFixPx7LWxA7urM/VUZPNqS/tT/gzTwmNV+3PzxlnttTkbg/s8n91WZQuT+sv8VR75i5P2S+RKaZabk/1fA7fEPDuD+6Q+K/96i3P/Q0WGHgH7Y/ailFJi4vtD/bsdr99t+xP0gD1+kWeq4/nrWlIoilqD8HXaYDj12iPyCWmMQqf5c/7Ma/PF+qgz9fWSElXAtwvzPCojEVyJG/N2E6zw46n7/8gffh5gymv8WyhlqEFay//U2yVk/NsL/Y4sVHLkGzv+miL83iWrW/FUo87pYQt7++0wL8SFq4v1jSqw/xMbm/eBs+SJ2Tub+YB7FDhH25v1LownwN8Li/C+ZlZs/tt78abqBNg3u2v/Dbnzrvn7S/V8eTOMZjsr9VGrYx/6Kvvx+XjeBL6qm/qKXqZz24o7+1Okj3rVOavwuG8PMwd4m/JUUUUdGBUT8XoRfYZc2NP5zptj+Bb5w/UJ8ihJO5pD8H2g1mWdqqP5GfpACwPrA/W/yT9SDEsj+dJiwXsfG0PzZpJG8tvbY/mVM4Ti4euD8iRxaoPg65PzHMSFD6iLk/uHKBiiKMuT9xj/mNqBe5P9OfrcqtLbg/dCAv73nStj98lsXdZgy1P4Ssue7C47I/v/YPC6pisD+9sq6rrCmrP2FHcYPSDqU/SIrBT7ginT+c7Biltz6PPwipyX9xLV0/bDbPhG8EiL+F6OShCp+Zv1gws2DxYaO//JmZmZmZqb8sxtKNYFmvv3VByhctQ7K/iTCm8SSEtL+4SFD/CWW2v5jDY1AQ3be/EHurClfluL9E7N6fCHm5v2mJ33Bxlbm/IlZ0dAw6ub/EbUWmhWi4v+YmsjKyJLe/q+4qhH50tb8TwBqG0l+zv78+RZ9s8LC/Xd3uIWhjrL+kHmwhB2Gmv1dV5Fm065+/DldV5d9/kr/peO7xqPVyvxBdZDt7NoI/T2ybtUDJlj+MeWLkRwaiP3wVOaCHU6g/ZGE0BN0urj/ybvl7bb6xP+A5oiFVErQ/1euX8D4Itj+rDGeL/Ja3PwHZ9bdCt7g/8BNjh8tjuT/MPYEHb5m5P/PgSwoyV7k/RL8hvkqeuD+G0T8BG3K3P5H6Dosg2LU/1MtvNdvXsz8P7G3eqXqxP68Ang09l60/I0ny9ZSupz8MFObxBlehP/y+U5yLXJU/hd3ErAScfj/49t6ue8l4v3X7Dla67pO/DbtHUt+moL+3wxxAZwinv0gcWHAT/qy/D6asuf01sb9QQAxPWZyzv4BzgYzfprW/MPQQkAFMt79efddDC4S4vwMD8XBHSbm/Kd0PehqYub95YplAE2+5v3w/KuXxzri/0DzkQ6S6t79Vjfo8ODe2v1McuAnES7S/gubUDEUBsr+Q4ANz68SuvwOlnKw296i/0ONODpm0or93NCKuxjSYv233ndYBHoW/IIbb97NBaj8/m3ZaDxCRPwUvpmkBiJ4/bC6ATH24pT86XvkrQ8erP0c+rSz6qbA/Hg7N/0kisz+K1z4QAEG1PxgRFvQu/LY/XpaMU7tLuD8su3LfgSm5P0UyVA90kbk//fW4IKuBuT+ghYz+cPq4P6dx+eY+/rc/UiIO1rGRtj+JDmnrdLu0P3PXFTAihLI/mK+snTTsrz9a2u72pzqqP+KahdlHDqQ/3SecvfkHmz+FOVGxnemKP5hYWKLbVze/6Jj47LBbjL8sNT6d67ubv03CW5cPZKS/lwR60ayKqr9T1B3vfxqwv8lXsZJApLK/4Pp4qLXWtL85idNOlae2v/TwdJteDri/Bj57bYEEub8YzycpfYW5v+C6Uc31jrm/CCvW/74gub+OoUnd3Dy4vyeSHYh657a/bvtvo9Ymtb/+4+0UJgOzv0DIuJZthrC/Je2JmqV4q7/PDcR5y2Olv1fwU3mO1Z2/+mjYw9BXkL8rci5SWGxkv9uw/zRekYY/E+E3FhLqmD83qOHiZAujP2XkdC6SSKk/IILbplkPrz/kySM6VyKyPxv86GwWaLQ/ED3cNUZOtj9TLaXcAcy3P04p58tN2rg/UIArRDh0uT9cdyOD8Ja5P/Db1fLTQbk/BNf6InF2uD87sph+gDi3P6SBBeDSjbU/sv3iVDZ+sz9rMZ2RUROxPwp5JX/tsKw/xAYU89y0pj9woWjdd06gPxx/SxJtN5M/JhZDsLbfdT9dhGSnWsKAvz4EL94KE5a/sL7I0sSuob/8XxA2NgGov5ePTLw+462/WRi79qicsb/TpcBbOfWzv6QhUTlU8LW/ShdA4rKEt7+Le0PA76q4v5X6QveoXbm/mpmZmZmZub+K+kL3qF25v5B7Q8Dvqri/URdA4rKEt794IVE5VPC1v56lwFs59bO/Gxi79qicsb+0j0y8PuOtvxtgEDY2Aai/Eb7I0sSuob/zAi/eChOWv7mBZKdawoC/cBtDsLbfdT9qgEsSbTeTPxCiaN13TqA/XAcU89y0pj+XeSV/7bCsP6oxnZFRE7E/6f3iVDZ+sz/SgQXg0o21P16ymH6AOLc/Htf6InF2uD/929Xy00G5P153I4Pwlrk/R4ArRDh0uT85KefLTdq4PzQtpdwBzLc/5jzcNUZOtj/o++hsFmi0P6jJIzpXIrI/moHbplkPrz/R43QukkipP5mn4eJkC6M/yt83FhLqmD85rv80XpGGP8J8LlJYbGS/SGrYw9BXkL+c8VN5jtWdv2gOxHnLY6W/tO2JmqV4q7+ByLiWbYawvzfk7RQmA7O/ZPtvo9Ymtb8fkh2Ieue2v6mhSd3cPLi/BCvW/74gub/kulHN9Y65vxrPJyl9hbm/CT57bYEEub/X8HSbXg64v0GJ006Vp7a/r/p4qLXWtL/VV7GSQKSyvxHUHe9/GrC/BQR60ayKqr9uwluXD2Skv+UzPp3ru5u/dJn47LBbjL/UA1ii21c3vyU8UbGd6Yo/mCecvfkHmz9+m4XZRw6kPzza7vanOqo/HbCsnTTsrz9n1xUwIoSyP38Oaet0u7Q/eiIO1rGRtj+hcfnmPv63P4WFjP5w+rg//PW4IKuBuT9GMlQPdJG5Px27ct+BKbk/ZJaMU7tLuD9MERb0Lvy2P5TXPhAAQbU/bg7N/0kisz8HPq0s+qmwP1he+StDx6s/Ri+ATH24pT9IL6ZpAYiePxmddloPEJE/invb97NBaj/h9p3WAR6Fv8A1Iq7GNJi/r+NODpm0or8xpJysNveov3TgA3PrxK6/debUDEUBsr+GHLgJxEu0v0yN+jw4N7a/ozzkQ6S6t793Pyrl8c64v3dimUATb7m/J90PehqYub8GA/FwR0m5v4B910MLhLi/OPQQkAFMt7+Jc4GM36a1vxlADE9ZnLO/G6asuf01sb8NHVhwE/6sv9fDHEBnCKe/77tHUt+moL8o+g5Wuu6TvxH43q57yXi/zeLErAScfj+3vlOci1yVPysT5vEGV6E/uEny9ZSupz+SAJ4NPZetP0zsbd6perE/yMtvNdvXsz9T+g6LINi1P3/RPwEbcrc/P78hvkqeuD//4EsKMle5P8w9gQdvmbk/ABRjh8tjuT8F2fW3Qre4P7IMZ4v8lrc/quuX8D4Itj/sOaIhVRK0P0hv+XttvrE/gGE0BN0urj9QFjmgh1OoP+54YuRHBqI/lGybtUDJlj/NYGQ7ezaCP8937vGo9XK/NlVV5d9/kr+YVuRZtOufv4QebCEHYaa/7N3uIWhjrL+yPkWfbPCwv8S/GobSX7O/oe4qhH50tb/eJrIysiS3v95tRaaFaLi/H1Z0dAw6ub9kid9wcZW5v0Xs3p8Iebm/FHurClfluL95w2NQEN23v8BIUP8JZba/0DCm8SSEtL+BQcoXLUOyv+rG0o1gWa+/aZmZmZmZqb94MLNg8WGjv1fq5KEKn5m/+DbPhG8EiL8Hi8l/cS1dPzrvGKW3Po8/BYrBT7ginT/8R3GD0g6lP6CyrqusKas/Y/YPC6pisD94rLnuwuOyP3KWxd1mDLU/myAv73nStj/Nn63KrS24P1mP+Y2oF7k/t3KBiiKMuT8yzEhQ+oi5PxBHFqg+Drk/wVM4Ti4euD9taSRvLb22P6gmLBex8bQ/Z/yT9SDEsj9Pn6QAsD6wP9LaDWZZ2qo/K6AihJO5pD/f6bY/gW+cP82kF9hlzY0/jUkUUdGBUT9SgvDzMHeJv3A6SPetU5q/h6XqZz24o79Plo3gS+qpvzoatjH/oq+/A8eTOMZjsr/l258675+0vxFuoE2De7a/4OVlZs/tt79O6MJ8DfC4v4wHsUOEfbm/eBs+SJ2Tub9s0qsP8TG5v+PTAvxIWri/HEo87pYQt78soy/N4lq1v+PixUcuQbO/WE6yVk/NsL+MsYZahBWsvxyC9+HmDKa/emE6zw46n794wqIxFciRv99gISVcC3C/vsy/PF+qgz/blZjEKn+XP6VdpgOPXaI/M7alIoilqD+IAtfpFnquP8+x2v3237E/nilFJi4vtD8eNVhh4B+2P4xD4r/3qLc/t/A7fEPDuD9jvkSmmWm5P6y/xVHvmLk/p8n91WZQuT9dZZ7bU5G4P+fNPCY1X7c/X0ZPNqS/tT9ry1sQO7qzP6f5IqRwWLE/vL3x9NhKrT8uB6/ypFunP9z5imUP/6A/kiP+TsWllD9UlHM97rJ7P/iWcz3usnu/FiH+TsWllL8s+oplD/+gvw0Gr/KkW6e/sLzx9NhKrb/G+SKkcFixvwPLWxA7urO/CUZPNqS/tb+kzTwmNV+3vzBlnttTkbi/rcn91WZQub+sv8VR75i5v3a+RKaZabm/4PA7fEPDuL/KQ+K/96i3v3A1WGHgH7a/hClFJi4vtL9Dstr99t+xv40D1+kWeq6/6LWlIoilqL/UXqYDj12ivzWVmMQqf5e/bMu/PF+qg7+7ViElXAtwPx/DojEVyJE/D186zw46nz/4gPfh5gymP9SxhlqEFaw/3U2yVk/NsD8A48VHLkGzP9KiL83iWrU/1kk87pYQtz+x0wL8SFq4P1DSqw/xMbk/cRs+SJ2TuT+cB7FDhH25P3PownwN8Lg/Y+ZlZs/ttz/9baBNg3u2P0Xcnzrvn7Q/dceTOMZjsj/3GbYx/6KvP8iYjeBL6qk/OKXqZz24oz/kPEj3rVOaP1uH8PMwd4k/J1QUUdGBUb9ymRfYZc2Nv4Lqtj+Bb5y/Ap8ihJO5pL+/2Q1mWdqqv3CfpACwPrC/+PuT9SDEsr9KJiwXsfG0vyJpJG8tvba/i1M4Ti4euL/vRhaoPg65vyfMSFD6iLm/wXKBiiKMub96j/mNqBe5v8CfrcqtLbi/5CAv73nStr/PlsXdZgy1v+asue7C47K/fPcPC6pisL9Ysq6rrCmrvyRJcYPSDqW/dIzBT7ginb/q7Riltz6Pv9DmyX9xLV2/SDjPhG8EiD/i5+ShCp+ZP0wvs2DxYaM/spmZmZmZqT+lxNKNYFmvPw9ByhctQ7I/cDCm8SSEtD9xSFD/CWW2Pz/DY1AQ3bc/73qrClfluD817N6fCHm5P2uJ33Bxlbk/GFZ0dAw6uT8PbkWmhWi4PyQnsjKyJLc/+e4qhH50tT+0wBqG0l+zP5I+RZ9s8LA/+t7uIWhjrD+oH2whB2GmP/hV5Fm0658/2lpV5d9/kj8qde7xqPVyP79bZDt7NoK/GmqbtUDJlr89eWLkRwaiv8oTOaCHU6i/emA0BN0urr/Tbvl7bb6xv4c5oiFVErS/wOuX8D4Itr9zDGeL/Ja3v9zY9bdCt7i/7BNjh8tjub/NPYEHb5m5vxbhSwoyV7m/a78hvkqeuL/A0T8BG3K3vxL7Dosg2LW/rstvNdvXs7/D7G3eqXqxv5wBng09l62/bUny9ZSup7/dFebxBlehvxG+U5yLXJW/7OzErAScfr/w7d6ue8l4P8/6Dla67pM/OblHUt+moD8ixBxAZwinPwIcWHAT/qw/o6Wsuf01sT80QAxPWZyzPzJzgYzfprU/9PMQkAFMtz9RfddDC4S4P+wC8XBHSbk/JN0PehqYuT+KYplAE2+5P58/KuXxzrg/4DzkQ6S6tz84jfo8ODe2P+kcuAnES7Q/6ObUDEUBsj944QNz68SuP7KmnKw296g/YeNODpm0oj84OCKuxjSYP+37ndYBHoU/1YDb97NBar9wl3ZaDxCRv+ovpmkBiJ6/IC6ATH24pb9HXfkrQ8ervyc+rSz6qbC/Ag7N/0kis7851z4QAEG1vwURFvQu/La/MJaMU7tLuL//unLfgSm5v0gyVA90kbm/Cfa4IKuBub+ohYz+cPq4v5Jx+eY+/re/xyIO1rGRtr9mDmnrdLu0v9fXFTAihLK/2q+snTTsr7/y2e72pzqqv6mchdlHDqS/9SacvfkHm7/VOlGxnemKvzouWKLbVzc/xJr47LBbjD+KND6d67ubP0TBW5cPZKQ/TwR60ayKqj8y1B3vfxqwP2ZXsZJApLI/yPp4qLXWtD/1iNNOlae2P+XwdJteDrg/Ez57bYEEuT8NzycpfYW5P+K6Uc31jrk/JCvW/74guT/doUnd3Dy4PwySHYh657Y/wPtvo9YmtT8b5O0UJgOzPxLIuJZthrA/x+6JmqV4qz9iDcR5y2OlP/rwU3mO1Z0/oWnYw9BXkD+qai5SWGxkPy2p/zRekYa/4d43FhLqmL/np+HiZAujvxzkdC6SSKm/gILbplkPr7/GySM6VyKyv8T76GwWaLS/+zzcNUZOtr9oLaXcAcy3vysp58tN2ri/S4ArRDh0ub9gdyOD8Ja5vxjc1fLTQbm/89b6InF2uL94sph+gDi3v7uBBeDSjbW/i/3iVDZ+s78jMp2RUROxv6d4JX/tsKy/yAcU89y0pr/AoWjdd06gvzB+SxJtN5O/kyVDsLbfdb/bf2SnWsKAP5gDL94KE5Y/Yb7I0sSuoT9mYBA2NgGoP1KPTLw+460/8Be79qicsT+4pcBbOfWzP44hUTlU8LU/ERdA4rKEtz+Ae0PA76q4P4L6QveoXbk/mpmZmZmZuT+C+kL3qF25P7d7Q8Dvqrg/YhdA4rKEtz+OIVE5VPC1PzimwFs59bM/8Be79qicsT+fkEy8PuOtP2ZgEDY2Aag/Yb7I0sSuoT+4Bi/eChOWP9t/ZKdawoA/zBhDsLbfdb8xfksSbTeTv8ChaN13TqC/WQYU89y0pr+neCV/7bCsv4sxnZFRE7G/i/3iVDZ+s79MgQXg0o21vyGymH6AOLe/89b6InF2uL/329Xy00G5v2B3I4Pwlrm/YYArRDh0ub9cKefLTdq4v2gtpdwBzLe/YD3cNUZOtr/E++hsFmi0v1fKIzpXIrK/gILbplkPr78b5HQukkipv2Op4eJkC6O/4d43FhLqmL+Kr/80XpGGv6tqLlJYbGQ/oWnYw9BXkD/q7VN5jtWdP2INxHnLY6U/be2JmqV4qz8SyLiWbYawPxvk7RQmA7M/TPtvo9YmtT8Mkh2Ieue2P5yhSd3cPLg/JCvW/74guT/XulHN9Y65Px3PJyl9hbk/Ez57bYEEuT8r8XSbXg64P/WI006Vp7Y/Pvt4qLXWtD/zV7GSQKSyPzLUHe9/GrA/rAV60ayKqj9EwVuXD2SkP4g0Pp3ru5s/xJr47LBbjD8xLlii21c3P300UbGd6Yq/9SacvfkHm7+4mYXZRw6kv/LZ7vanOqq/2q+snTTsr79K1xUwIoSyv2YOaet0u7S/BSIO1rGRtr+ScfnmPv63v6iFjP5w+ri/+PW4IKuBub9IMlQPdJG5v0q7ct+BKbm/cZaMU7tLuL8FERb0Lvy2v6zXPhAAQbW/Ag7N/0kis7/CPq0s+qmwv59e+StDx6u/IC6ATH24pb/qL6ZpAYiev5iadloPEJG/aprb97NBar+Q9Z3WAR6FPwAyIq7GNJg/YeNODpm0oj9MpZysNveoPzDgA3PrxK4/V+bUDEUBsj/wG7gJxEu0PziN+jw4N7Y/4DzkQ6S6tz9sPyrl8c64P3JimUATb7k/LN0PehqYuT8MA/FwR0m5P1F910MLhLg/SPQQkAFMtz+gc4GM36a1PzRADE9ZnLM/O6asuf01sT8CHFhwE/6sPyLEHEBnCKc/vLpHUt+moD/P+g5Wuu6TP7X63q57yXg/KODErAScfr8RvlOci1yVv1wU5vEGV6G/bUny9ZSup79NAJ4NPZetvy3sbd6perG/rstvNdvXs7+o+g6LINi1v8DRPwEbcre/M78hvkqeuL/44EsKMle5v8w9gQdvmbm/7BNjh8tjub/c2PW3Qre4v8IMZ4v8lre/wOuX8D4Itr8GOqIhVRK0v9Nu+XttvrG/emA0BN0urr8yFTmgh1Oovz15YuRHBqK/OG2btUDJlr+/W2Q7ezaCv/OB7vGo9XI/tFdV5d9/kj/4VeRZtOufPzgebCEHYaY/pN3uIWhjrD8rP0WfbPCwPy/AGobSX7M/+e4qhH50tT/MJrIysiS3P9FtRaaFaLg/O1Z0dAw6uT9rid9wcZW5PzXs3p8Iebk/HnurClfluD+Iw2NQEN23P9RIUP8JZbY/cDCm8SSEtD8PQcoXLUOyP+jF0o1gWa8/spmZmZmZqT/HMLNg8WGjP+Ln5KEKn5k/7THPhG8EiD+is8l/cS1dv+rtGKW3Po+/YonBT7ginb+vR3GD0g6lv7SzrqusKau/3/YPC6pisL/mrLnuwuOyv1qWxd1mDLW/iCAv73nStr8DoK3KrS24v3qP+Y2oF7m/wXKBiiKMub81zEhQ+oi5vxlHFqg+Drm/0FM4Ti4euL8iaSRvLb22v0omLBex8bS/hPyT9SDEsr9wn6QAsD6wvxrbDWZZ2qq/Ap8ihJO5pL9v57Y/gW+cv8efF9hlzY2/JFQUUdGBUb8CgfDzMHeJP805SPetU5o/s6bqZz24oz9ol43gS+qpP/cZtjH/oq8/5saTOMZjsj/M258675+0P19uoE2De7Y/GuZlZs/ttz9z6MJ8DfC4P4gHsUOEfbk/ehs+SJ2TuT900qsP8TG5P7HTAvxIWrg/1kk87pYQtz9Doy/N4lq1P//ixUcuQbM/eE6yVk/NsD/UsYZahBWsP/iA9+HmDKY/GmI6zw46nz8fw6IxFciRP4RjISVcC3A/bMu/PF+qg79TmJjEKn+Xv1ddpgOPXaK/6LWlIoilqL9EAtfpFnquv7Gx2v3237G/AipFJi4vtL8JNVhh4B+2v8pD4r/3qLe/rPA7fEPDuL9dvkSmmWm5v6m/xVHvmLm/rcn91WZQub8wZZ7bU5G4v/jNPCY1X7e/dUZPNqS/tb+Gy1sQO7qzv8b5IqRwWLG/sLzx9NhKrb96B6/ypFunvyz6imUP/6C/OCT+TsWllL/4lnM97rJ7vxqhcz3usns/cCD+TsWllD/c+YplD/+gP8IFr/KkW6c/bLzx9NhKrT89+iKkcFixP+jKWxA7urM/X0ZPNqS/tT+TzTwmNV+3PyRlnttTkbg/xcn91WZQuT+sv8VR75i5P2O+RKaZabk/6/A7fEPDuD/bQ+K/96i3P4U1WGHgH7Y/nilFJi4vtD/Psdr99t+xP9ID1+kWeq4/M7alIoilqD8jX6YDj12iP9uVmMQqf5c/X8a/PF+qgz8VVCElXAtwv3jCojEVyJG/bV46zw46n7+rgPfh5gymv+KyhlqEFay/vk2yVk/NsL/j4sVHLkGzv7uiL83iWrW/xEk87pYQt7/j0wL8SFq4v0jSqw/xMbm/eBs+SJ2Tub+gB7FDhH25v3zownwN8Li/cuZlZs/tt78RbqBNg3u2v+Xbnzrvn7S/kseTOMZjsr86GrYx/6KvvxKZjeBL6qm/h6XqZz24o79wOkj3rVOav6yI8PMwd4m/j0kUUdGBUT8kmBfYZc2NP9/ptj+Bb5w/K6AihJO5pD932Q1mWdqqP0+fpACwPrA/2/uT9SDEsj8yJiwXsfG0P21pJG8tvbY/fFM4Ti4euD8QRxaoPg65PyTMSFD6iLk/xHKBiiKMuT9Zj/mNqBe5P82frcqtLbg/myAv73nStj/nlsXdZgy1PwOtue7C47I/nfcPC6pisD+gsq6rrCmrP/xHcYPSDqU/FY3BT7ginT847xiltz6PP2fxyX9xLV0/+DbPhG8EiL9X6uShCp+Zv/0us2DxYaO/aZmZmZmZqb9ixNKNYFmvv/JAyhctQ7K/0DCm8SSEtL9dSFD/CWW2v3nDY1AQ3be/5HqrClfluL8w7N6fCHm5v2SJ33Bxlbm/H1Z0dAw6ub/ebUWmhWi4vzYnsjKyJLe/EO8qhH50tb/QwBqG0l+zv7I+RZ9s8LC/7N3uIWhjrL/0H2whB2Gmv5hW5Fm065+/gVtV5d9/kr/Pd+7xqPVyv81gZDt7NoI/dWmbtUDJlj/ueGLkRwaiP38TOaCHU6g/NWA0BN0urj9Ib/l7bb6xP2w5oiFVErQ/quuX8D4Itj9iDGeL/Ja3P9DY9bdCt7g/ABRjh8tjuT/OPYEHb5m5P//gSwoyV7k/d78hvkqeuD/R0T8BG3K3Pyj7Dosg2LU/yMtvNdvXsz9M7G3eqXqxP+ABng09l60/uEny9ZSupz8tFubxBlehP7e+U5yLXJU/zOLErAScfj9L696ue8l4vyn6Dla67pO/6bhHUt+moL/XwxxAZwinvw0dWHAT/qy/hKWsuf01sb8ZQAxPWZyzvxxzgYzfprW/4vMQkAFMt7+AfddDC4S4v+YC8XBHSbm/J90PehqYub+PYplAE2+5v6k/KuXxzri/ozzkQ6S6t79Mjfo8ODe2v4YcuAnES7S/B+fUDEUBsr+84QNz68Suv/ymnKw296i/r+NODpm0or/ANSKuxjSYvz79ndYBHoW/invb97NBaj/KlnZaDxCRP0gvpmkBiJ4/Ri+ATH24pT8AXfkrQ8erPwc+rSz6qbA/Xg3N/0kisz8i1z4QAEG1P0wRFvQu/LY/I5aMU7tLuD8du3LfgSm5PzwyVA90kbk/Dfa4IKuBuT+FhYz+cPq4P6Fx+eY+/rc/eiIO1rGRtj/4DmnrdLu0P/TXFTAihLI/XbGsnTTsrz882u72pzqqP36bhdlHDqQ/ryqcvfkHmz8lPFGxnemKPxA3V6LbVze/dZn47LBbjL/6Nj6d67ubv/bAW5cPZKS/BQR60ayKqr9y0x3vfxqwv0lXsZJApLK/Jvt4qLXWtL/iiNNOlae2v9fwdJteDri/3j17bYEEub8KzycpfYW5v9m6Uc31jrm/LCvW/74gub+poUnd3Dy4v3qSHYh657a/1/tvo9Ymtb/A5O0UJgOzvzPIuJZthrC/tO2JmqV4q78jD8R5y2Olv5zxU3mO1Z2/cW3Yw9BXkL/1by5SWGxkvzmu/zRekYY/PN43FhLqmD+Zp+HiZAujP23idC6SSKk/PYLbplkPrz85yiM6VyKyP6r76GwWaLQ/5jzcNUZOtj8OLaXcAcy3PyEp58tN2rg/XIArRDh0uT9hdyOD8Ja5P/3b1fLTQbk/PNf6InF2uD+Jsph+gDi3P2SBBeDSjbU/p/3iVDZ+sz+qMZ2RUROxP0B6JX/tsKw/FAgU89y0pj+Vo2jdd06gP9d+SxJtN5M/cBtDsLbfdT+JfmSnWsKAv/MCL94KE5a/kbzI0sSuob8bYBA2NgGov1qQTLw+462/0he79qicsb+epcBbOfWzvw8hUTlU8LW/ABdA4rKEt7+re0PA76q4v3z6QveoXbm/mpmZmZmZub+k+kL3qF25v8J7Q8Dvqri/IhdA4rKEt7+kIVE5VPC1v9OlwFs59bO/oxi79qicsb/kkEy8PuOtv7BgEDY2Aai/sL7I0sSuob89BC/eChOWv42HZKdawoC/JhZDsLbfdT+LfUsSbTeTP3ChaN13TqA/fAcU89y0pj9geCV/7bCsP2sxnZFRE7E/cP3iVDZ+sz82gQXg0o21P2aymH6AOLc/59b6InF2uD/w29Xy00G5P193I4Pwlrk/ZYArRDh0uT81KefLTdq4Py0tpdwBzLc/ED3cNUZOtj/d++hsFmi0P3TKIzpXIrI/xILbplkPrz8A43QukkipPzeo4eJkC6M/hd83FhLqmD/bsP80XpGGP2BlLlJYbGS/I2zYw9BXkL9X8FN5jtWdv4kOxHnLY6W/Je2JmqV4q7/yx7iWbYawv4fk7RQmA7O/qPtvo9Ymtb9Ukh2Ieue2v46hSd3cPLi/HCvW/74gub/UulHN9Y65vxDPJyl9hbm/8D17bYEEub/08HSbXg64vwmJ006Vp7a/V/t4qLXWtL+DV7GSQKSyv7PTHe9/GrC/lwR60ayKqr+RwVuXD2Skv0A4Pp3ru5u/FJz47LBbjL/Di1ei21c3v4U5UbGd6Yo/aCmcvfkHmz/imoXZRw6kP6rZ7vanOqo/2LCsnTTsrz+61xUwIoSyP8UOaet0u7Q/UiIO1rGRtj+EcfnmPv63P3OFjP5w+rg/Bva4IKuBuT9AMlQPdJG5Pyy7ct+BKbk/PpaMU7tLuD9yERb0Lvy2P1HXPhAAQbU/lg3N/0kisz9HPq0s+qmwP41d+StDx6s/4C+ATH24pT+MMKZpAYiePxeYdloPEJE/H4bb97NBaj+c+p3WAR6Fv3c0Iq7GNJi/EuNODpm0or9oppysNveovzThA3PrxK6/y+bUDEUBsr9THLgJxEu0vyKN+jw4N7a/hDzkQ6S6t7+UPyrl8c64v4RimUATb7m/Kd0PehqYub/zAvFwR0m5v5h910MLhLi/BfQQkAFMt79Jc4GM36a1v1BADE9ZnLO/w6Wsuf01sb+aHVhwE/6sv27EHEBnCKe/iblHUt+moL91+w5Wuu6Tv5Tw3q57yXi/SOrErAScfj+NwFOci1yVP44V5vEGV6E/jkry9ZSupz+kAp4NPZetPw/sbd6perE/k8tvNdvXsz9n+w6LINi1P6/RPwEbcrc/YL8hvkqeuD8Q4UsKMle5P889gQdvmbk/CxRjh8tjuT+x2PW3Qre4PzQMZ4v8lrc/1euX8D4Itj+hOaIhVRK0P/Ju+XttvrE/v2A0BN0urj8UFDmgh1OoPw14YuRHBqI/oGebtUDJlj9wY2Q7ezaCP4Vy7vGo9XK/DldV5d9/kr9XVeRZtOufv1wfbCEHYaa/tN7uIWhjrL/YPUWfbPCwv5jAGobSX7O/Uu8qhH50tb+6JrIysiS3v8RtRaaFaLi/EFZ0dAw6ub9pid9wcZW5vzns3p8Iebm/+HqrClfluL9Ow2NQEN23v+lIUP8JZba/AzGm8SSEtL+eQMoXLUOyvyzG0o1gWa+//JmZmZmZqb+aL7Ng8WGjv4Xo5KEKn5m/9D/PhG8EiL883Ml/cS1dP+/yGKW3Po8/wIjBT7ginT9hR3GD0g6lPxCyrqusKas/v/YPC6pisD/JrLnuwuOyP7eWxd1mDLU/0SAv73nStj9un63KrS24P0iP+Y2oF7k/zHKBiiKMuT84zEhQ+oi5PyJHFqg+Drk/mVM4Ti4euD82aSRvLb22P2ImLBex8bQ/FfyT9SDEsj/znqQAsD6wP2TbDWZZ2qo/xqAihJO5pD8l67Y/gW+cPxehF9hlzY0/u14UUdGBUT8LhvDzMHeJv0A8SPetU5q/cKPqZz24o7+AmI3gS+qpv/catjH/oq+/yMaTOMZjsr+0258675+0v+ltoE2De7a/C+ZlZs/tt79p6MJ8DfC4v5gHsUOEfbm/dBs+SJ2Tub980qsP8TG5v/3TAvxIWri/kEk87pYQt79aoy/N4lq1vxvjxUcuQbO//U2yVk/NsL8asoZahBWsv0SB9+HmDKa/sF86zw46n7+fwKIxFciRvypmISVcC3C/vMO/PF+qgz+QlJjEKn+XPwddpgOPXaI/nrWlIoilqD9KA9fpFnquPyWy2v3237E/7ChFJi4vtD9bNVhh4B+2PwhE4r/3qLc/ovA7fEPDuD9YvkSmmWm5P6y/xVHvmLk/s8n91WZQuT88ZZ7bU5G4P7XNPCY1X7c/IEZPNqS/tT+gy1sQO7qzP3v6IqRwWLE/p7vx9NhKrT/FB6/ypFunP3z6imUP/6A/vCH+TsWllD+dmXM97rJ7P+yEcz3usnu/7CL+TsWllL8P+4plD/+gv3cFr/KkW6e/Jbzx9NhKrb+H+SKkcFixv83KWxA7urO/SEZPNqS/tb/VzTwmNV+3v1FlnttTkbi/gsn91WZQub+ov8VR75i5v0++RKaZabm/9vA7fEPDuL/rQ+K/96i3vzQ1WGHgH7a/uClFJi4vtL/usdr99t+xv8wC1+kWeq6/FrWlIoilqL9zX6YDj12iv52ZmMQqf5e/D86/PF+qg79vUSElXAtwP9HBojEVyJE/2GA6zw46nz/Qgffh5gymP++vhlqEFaw/OE6yVk/NsD9O48VHLkGzP6OiL83iWrU/sUk87pYQtz+X0wL8SFq4P0HSqw/xMbk/dxs+SJ2TuT+QB7FDhH25P1jownwN8Lg/gOZlZs/ttz+IbqBNg3u2P4Xbnzrvn7Q/r8eTOMZjsj99GrYx/6KvP/qXjeBL6qk/1aXqZz24oz8UO0j3rVOaP6KD8PMwd4k/K3IUUdGBUb/UlhfYZc2Nvyrmtj+Bb5y/Z54ihJO5pL8t2Q1mWdqqvy+fpACwPrC/SvyT9SDEsr+PJiwXsfG0v51oJG8tvba/s1M4Ti4euL8xRxaoPg65vyDMSFD6iLm/x3KBiiKMub+Lj/mNqBe5v9ufrcqtLbi/riAv73nStr+LlsXdZgy1v5Wsue7C47K/vvcPC6pisL9CtK6rrCmrv9RGcYPSDqW/uI3BT7ginb+I8Biltz6Pv83IyX9xLV2/qDXPhG8EiD+A4+ShCp+ZPyows2DxYaM/gpqZmZmZqT8fxNKNYFmvP9NAyhctQ7I/PDCm8SSEtD9ISFD/CWW2P2rDY1AQ3bc/CnurClfluD9B7N6fCHm5P3SJ33Bxlbk/SVZ0dAw6uT+tbUWmhWi4P0gnsjKyJLc/KO8qhH50tT9mwBqG0l+zP9E+RZ9s8LA/Mt7uIWhjrD/QHmwhB2GmPzBU5Fm0658/J1xV5d9/kj89h+7xqPVyPxtZZDt7NoK/0GibtUDJlr+eeGLkRwaiv50UOaCHU6i/PGE0BN0urr8Dbvl7bb6xv9E5oiFVErS//euX8D4Itr9SDGeL/Ja3v8XY9bdCt7i/4BNjh8tjub/OPYEHb5m5vwThSwoyV7m/Sr8hvkqeuL+Q0T8BG3K3vz77Dosg2LW/ZMxvNdvXs7/V623eqXqxvyUCng09l62/BEry9ZSup7/7FObxBlehv1y/U5yLXJW/cOXErAScfr9s9d6ue8l4P6b8Dla67pM/mbhHUt+moD8dwhxAZwinP3cbWHAT/qw/ZaWsuf01sT/+PwxPWZyzP3JzgYzfprU/JvQQkAFMtz/+fNdDC4S4PwAD8XBHSbk/K90PehqYuT+UYplAE2+5P7Q/KuXxzrg/AD3kQ6S6tz9hjfo8ODe2P6AcuAnES7Q/k+bUDEUBsj+34ANz68SuP0annKw296g/e+VODpm0oj9JMyKuxjSYP5D+ndYBHoU/P3bb97NBar9KmXZaDxCRv6cupmkBiJ6/+S6ATH24pb8QXvkrQ8erv4I+rSz6qbC/Qg3N/0kis78K1z4QAEG1v+AQFvQu/La/FZaMU7tLuL8Vu3LfgSm5v0QyVA90kbm///W4IKuBub+OhYz+cPq4v/hx+eY+/re/LSIO1rGRtr8QD2nrdLu0vxLYFTAihLK/X7CsnTTsr7+E2u72pzqqv8ybhdlHDqS/PCicvfkHm78dN1GxnemKv0ymWKLbVzc/z5H47LBbjD9EMz6d67ubP5jDW5cPZKQ/vQN60ayKqj/w0x3vfxqwP7hXsZJApLI/Dft4qLXWtD8tidNOlae2Pw7xdJteDrg/LD57bYEEuT8GzycpfYW5P+e6Uc31jrk/5irW/74guT+3oUnd3Dy4PzKSHYh657Y/fPtvo9YmtT/K4+0UJgOzP+/IuJZthrA/ouyJmqV4qz+IDMR5y2OlPz3yU3mO1Z0/72rYw9BXkD9AdS5SWGxkP+is/zRekYa/s+A3FhLqmL/HqOHiZAujv+zkdC6SSKm/tIDbplkPr7+LySM6VyKyv4j86GwWaLS/0jzcNUZOtr9JLaXcAcy3v0gp58tN2ri/WIArRDh0ub9cdyOD8Ja5v+Pb1fLTQbm/0Nb6InF2uL+csph+gDi3v+iBBeDSjbW/wv3iVDZ+s7/KMZ2RUROxvzR5JX/tsKy/8AYU89y0pr/coGjdd06gv6KCSxJtN5O/TBFDsLbfdb/5iWSnWsKAP00CL94KE5Y/wr3I0sSuoT/QXxA2NgGoPxWQTLw+460/Rxi79qicsT8EpsBbOfWzP8whUTlU8LU/8BZA4rKEtz9pe0PA76q4P676QveoXbk/mpmZmZmZuT+N+kL3qF25P5Z7Q8Dvqrg/MxdA4rKEtz8jIlE5VPC1P22lwFs59bM/mRe79qicsT8okUy8PuOtP/xgEDY2Aag//77I0sSuoT/jBC/eChOWP3+CZKdawoA/SSBDsLbfdb8IgEsSbTeTv5ufaN13TqC/wQUU89y0pr/AeiV/7bCsv0sxnZFRE7G/VP3iVDZ+s7+NgQXg0o21v1SymH6AOLe/Ftf6InF2uL8K3NXy00G5v2N3I4Pwlrm/aoArRDh0ub9wKefLTdq4v/EspdwBzLe/JD3cNUZOtr/3++hsFmi0vwLKIzpXIrK/woHbplkPr78T5nQukkipvwmn4eJkC6O/D903FhLqmL8ssv80XpGGvxRgLlJYbGQ/U2jYw9BXkD+171N5jtWdPzwOxHnLY6U/N+6JmqV4qz9uyLiWbYawP1jj7RQmA7M/HPtvo9YmtT+dkh2Ieue2P4ChSd3cPLg/FCvW/74guT/dulHN9Y65PxTPJyl9hbk/+T17bYEEuT+88HSbXg64P72I006Vp7Y/cPt4qLXWtD8sWLGSQKSyP3TUHe9/GrA/3wR60ayKqj/gwVuXD2SkP881Pp3ru5s/DZf47LBbjD+5T1mi21c3P40+UbGd6Yq/2iucvfkHm7+UmoXZRw6kv2DZ7vanOqq/Va+snTTsr7+d1xUwIoSyv60Oaet0u7S/nyIO1rGRtr+8cfnmPv63v2mFjP5w+ri/8PW4IKuBub84MlQPdJG5vzS7ct+BKbm/S5aMU7tLuL8rERb0Lvy2v2jXPhAAQbW/wg7N/0kis7/LPa0s+qmwv31c+StDx6u/LDCATH24pb8tMaZpAYiev+ebdloPEJG/aovb97NBar9M+Z3WAR6FP+82Iq7GNJg/QORODpm0oj9To5ysNveoP6jfA3PrxK4/PufUDEUBsj85HLgJxEu0Pw2N+jw4N7Y/wDzkQ6S6tz+KPyrl8c64P4BimUATb7k/Jd0PehqYuT/aAvFwR0m5P6V910MLhLg/bPQQkAFMtz/ycoGM36a1P2tADE9ZnLM/46Wsuf01sT+NHFhwE/6sP0zDHEBnCKc/4LxHUt+moD/4+A5Wuu6TP3Hm3q57yXg/4NrErAScfr/GvFOci1yVv7wT5vEGV6G/2Ejy9ZSup78QAZ4NPZetv4Xsbd6perG/+stvNdvXs78Q+g6LINi1v0zRPwEbcre/jL8hvkqeuL/s4EsKMle5v809gQdvmbm/9hNjh8tjub/x2PW3Qre4v5QMZ4v8lre/g+uX8D4Itr88OaIhVRK0v6Nv+XttvrG/TWI0BN0urr/HFTmgh1Oov9t5YuRHBqK/ZGubtUDJlr9iXmQ7ezaCv6l87vGo9XI/QlNV5d9/kj/AV+RZtOufP4AgbCEHYaY/F93uIWhjrD9SPkWfbPCwP/e/GobSX7M/zO4qhH50tT8AJ7IysiS3P/VtRaaFaLg/LFZ0dAw6uT9gid9wcZW5P1Ls3p8Iebk/03qrClfluD+ow2NQEN23P5tIUP8JZbY/ojCm8SSEtD9LQcoXLUOyP7LH0o1gWa8/4piZmZmZqT9tLrNg8WGjP0Ls5KEKn5k/6TrPhG8EiD90nsl/cS1dv0zrGKW3Po+/L4vBT7ginb+KSHGD0g6lvySzrqusKau/APYPC6pisL8jrLnuwuOyvxSXxd1mDLW/YSAv73nStr+kn63KrS24v2mP+Y2oF7m/vHKBiiKMub8szEhQ+oi5vwBHFqg+Drm/Y1M4Ti4euL+oaSRvLb22v/AmLBex8bS/p/uT9SDEsr+yn6QAsD6wv0/aDWZZ2qq/nJ8ihJO5pL+16LY/gW+cv7qoF9hlzY2/ITYUUdGBUb8Ui/DzMHeJP4U4SPetU5o/nKTqZz24oz/Vlo3gS+qpP3IZtjH/oq8/OseTOMZjsj8U3J8675+0PzduoE2De7Y/s+VlZs/ttz8x6MJ8DfC4P6cHsUOEfbk/fhs+SJ2TuT9f0qsP8TG5P8vTAvxIWrg/+0k87pYQtz8Aoy/N4lq1P7DixUcuQbM/g02yVk/NsD+3s4ZahBWsPwKD9+HmDKY/XWM6zw46nz9sxKIxFciRPwRcISVcC3A/ysi/PF+qg78Jl5jEKn+XvzpbpgOPXaK/u7alIoilqL9PBNfpFnquv3Sx2v3237G/UClFJi4vtL/fNFhh4B+2v6pD4r/3qLe/y/A7fEPDuL9svkSmmWm5v6u/xVHvmLm/2Mn91WZQub+BZZ7bU5G4v3TNPCY1X7e/okZPNqS/tb85y1sQO7qzvwT6IqRwWLG/PL3x9NhKrb99Ca/ypFunv0r5imUP/6C/Px/+TsWllL8HqXM97rJ7vwyPcz3usns/JB/+TsWllD88+YplD/+gP5gGr/KkW6c/ML3x9NhKrT//+SKkcFixPzDKWxA7urM/xkVPNqS/tT8YzjwmNV+3PwxlnttTkbg/msn91WZQuT+qv8VR75i5P22+RKaZabk/zPA7fEPDuD+sQ+K/96i3P+I0WGHgH7Y/UCpFJi4vtD+fstr99t+xP8cB1+kWeq4/x7alIoilqD9DXqYDj12iPySXmMQqf5c/Acm/PF+qgz8AQiElXAtwv1HEojEVyJG/QmM6zw46n78SgPfh5gymv/+whlqEFay/fk2yVk/NsL+s4sVHLkGzv/yiL83iWrW/+Ek87pYQt7/J0wL8SFq4vxXSqw/xMbm/bBs+SJ2Tub+BB7FDhH25v5DownwN8Li/R+ZlZs/tt786bqBNg3u2vxjcnzrvn7S/P8eTOMZjsr99GbYx/6Kvv+KWjeBL6qm/nafqZz24o7/QPkj3rVOav0yL8PMwd4m/YTQUUdGBUT/amxfYZc2NP5rotj+Bb5w/kJ8ihJO5pD+I1w1mWdqqP6yfpACwPrA/ufyT9SDEsj8BJiwXsfG0P+hoJG8tvbY/YFM4Ti4euD//RhaoPg65PyzMSFD6iLk/vHKBiiKMuT9qj/mNqBe5PyygrcqtLbg/HiEv73nStj8ulsXdZgy1Pzutue7C47I/QfcPC6pisD8vs66rrCmrP5ZIcYPSDqU/SovBT7ginT+E6xiltz6PPzSgyX9xLV0/sjrPhG8EiL/15eShCp+Zv2Aus2DxYaO/1piZmZmZqb8gxdKNYFmvv0ZByhctQ7K/njCm8SSEtL+XSFD/CWW2vxDDY1AQ3be/MHurClfluL9R7N6fCHm5v2+J33Bxlbm/LVZ0dAw6ub/4bUWmhWi4vwMnsjKyJLe/z+4qhH50tb/8vxqG0l+zv1c+RZ9s8LC/zd/uIWhjrL+sHWwhB2Gmv8dR5Fm065+/qFlV5d9/kr8Zfe7xqPVyvypeZDt7NoI/SWubtUDJlj/PeWLkRwaiP7sVOaCHU6g/QmI0BN0urj93bvl7bb6xPzg5oiFVErQ/UOyX8D4Itj+QDGeL/Ja3P/DY9bdCt7g/9RNjh8tjuT/NPYEHb5m5PyjhSwoyV7k/Hb8hvkqeuD9P0T8BG3K3P+n6Dosg2LU//stvNdvXsz+K7G3eqXqxPxwBng09l60/5Ejy9ZSupz/KE+bxBlehP+G8U5yLXJU/2PTErAScfj8B5t6ue8l4vyT/Dla67pO/zLlHUt+moL9AwxxAZwinv4IcWHAT/qy/3aWsuf01sb9mQAxPWZyzv8lzgYzfprW/afQQkAFMt78tfddDC4S4v9gC8XBHSbm/Jd0PehqYub+AYplAE2+5v4w/KuXxzri/wzzkQ6S6t78Qjfo8ODe2vzcduAnES7S/H+bUDEUBsr+03wNz68SuvyumnKw296i/TeRODpm0or8KNyKuxjSYv4P5ndYBHoW/iorb97NBaj/Lm3ZaDxCRPxIxpmkBiJ4/Oi2ATH24pT9yXPkrQ8erP/0+rSz6qbA/rg3N/0kisz9l1z4QAEG1PygRFvQu/LY/SJaMU7tLuD/ounLfgSm5P0wyVA90kbk/8fW4IKuBuT/EhYz+cPq4P79x+eY+/rc/oiIO1rGRtj+xDmnrdLu0P6LXFTAihLI/YK+snTTsrz9t2e72pzqqP5OdhdlHDqQ/yCWcvfkHmz8VMlGxnemKPyGvV6LbVze/1Zb47LBbjL+0NT6d67ubv9PBW5cPZKS/1AR60ayKqr9v1B3vfxqwvydYsZJApLK/ffp4qLXWtL+6iNNOlae2v0XxdJteDri/+D17bYEEub8TzycpfYW5v966Uc31jrm/FSvW/74gub8Hoknd3Dy4v+mRHYh657a/IPtvo9Ymtb9v5O0UJgOzv3PIuJZthrC/RO6JmqV4q79IDsR5y2Olv9DvU3mO1Z2/bmjYw9BXkL/0YC5SWGxkvzul/zRekYY/9Nw3FhLqmD/0qeHiZAujPz7jdC6SSKk/t4HbplkPrz/9ySM6VyKyP/L76GwWaLQ/IT3cNUZOtj+FLaXcAcy3P28p58tN2rg/PYArRDh0uT9kdyOD8Ja5Pwvc1fLTQbk/GNf6InF2uD9Xsph+gDi3P5GBBeDSjbU/Wf3iVDZ+sz+CMp2RUROxPyV4JX/tsKw/zQUU89y0pj+xomjdd06gPySASxJtN5M/uSBDsLbfdT9HgmSnWsKAv8gEL94KE5a/877I0sSuob/vYBA2NgGov4SOTLw+462/lBe79qicsb9ppsBbOfWzv0whUTlU8LW/MBdA4rKEt7+Ue0PA76q4v4z6QveoXbm/mpmZmZmZub94+kL3qF25v2t7Q8Dvqri/lBdA4rKEt7/QIVE5VPC1vwimwFs59bO/TBi79qicsb8gkEy8PuOtv9xfEDY2Aai/z73I0sSuob+oCC/eChOWv299ZKdawoC/bSpDsLbfdT89fEsSbTeTP8+gaN13TqA/5AYU89y0pj8neSV/7bCsP8QxnZFRE7E/vf3iVDZ+sz/lgQXg0o21P+yxmH6AOLc/zdb6InF2uD8k3NXy00G5P1x3I4Pwlrk/WIArRDh0uT9JKefLTdq4P0wtpdwBzLc/nj3cNUZOtj+U++hsFmi0P4/JIzpXIrI/SoPbplkPrz/45HQukkipP9Oo4eJkC6M/zuA3FhLqmD8grf80XpGGP2B0LlJYbGS/1GrYw9BXkL8E7FN5jtWdv3sMxHnLY6W/Su+JmqV4q7+xx7iWbYawv8Xj7RQmA7O/ePtvo9Ymtb8vkh2Ieue2v7ShSd3cPLi/MyvW/74gub/nulHN9Y65vyfPJyl9hbm/LT57bYEEub8Q8XSbXg64vzCJ006Vp7a/Eft4qLXWtL+9V7GSQKSyv/bTHe9/GrC/hQZ60ayKqr+1wFuXD2Skv10zPp3ru5u/tJ747LBbjL9LrVii21c3v+U2UbGd6Yo/ICicvfkHmz/Am4XZRw6kP3ja7vanOqo/VLCsnTTsrz/y1hUwIoSyPxwOaet0u7Q/7CIO1rGRtj9mcfnmPv63P4yFjP5w+rg///W4IKuBuT9EMlQPdJG5P2K7ct+BKbk/GJaMU7tLuD/jEBb0Lvy2P/PXPhAAQbU/Vw7N/0kisz+HPq0s+qmwPxxe+StDx6s/Bi+ATH24pT/ALqZpAYieP2aZdloPEJE/TKrb97NBaj9Y/p3WAR6Fv2Y5Iq7GNJi/dOJODpm0or9vpJysNveov63gA3PrxK6/jubUDEUBsr+cHLgJxEu0v16N+jw4N7a//TzkQ6S6t79NPyrl8c64v2RimUATb7m/It0PehqYub8AA/FwR0m5v3Z910MLhLi/KPQQkAFMt792c4GM36a1vwpBDE9ZnLO/aqWsuf01sb+CG1hwE/6svwXFHEBnCKe/rbtHUt+moL/C/A5Wuu6Tv9z13q57yXi/AOXErAScfj9Bv1Oci1yVP+4U5vEGV6E/IUfy9ZSupz99/50NPZetP/vsbd6perE/XctvNdvXsz87+w6LINi1PzHSPwEbcrc/SL8hvkqeuD8E4UsKMle5P849gQdvmbk/4RNjh8tjuT8y2fW3Qre4P/QMZ4v8lrc/AOyX8D4Itj/VOaIhVRK0P1Zw+XttvrE/sl40BN0urj+pFDmgh1OoP6t4YuRHBqI/62ibtUDJlj9TWWQ7ezaCPztt7vGo9XK/wFVV5d9/kr8VVORZtOufv8QebCEHYaa/fNvuIWhjrL+ZPUWfbPCwv2HAGobSX7O/JO8qhH50tb9FJ7IysiS3vyduRaaFaLi/AlZ0dAw6ub9mid9wcZW5v0Ls3p8Iebm/DHurClfluL8BxGNQEN23vxJJUP8JZba/NjGm8SSEtL/ZQMoXLUOyvyrE0o1gWa+/yZeZmZmZqb83MLNg8WGjv83p5KEKn5m/3zXPhG8EiL8Nx8l/cS1dP6rjGKW3Po8/fIfBT7ginT/HRnGD0g6lP4CxrqusKas/uPcPC6pisD+lrbnuwuOyP4eWxd1mDLU/qyAv73nStj/Yn63KrS24P4mP+Y2oF7k/rHKBiiKMuT8+zEhQ+oi5PzNHFqg+Drk/tVM4Ti4euD8ZaiRvLb22P6glLBex8bQ/T/yT9SDEsj80n6QAsD6wPzrZDWZZ2qo/dJ4ihJO5pD9q7LY/gW+cP7WjF9hlzY0/63MUUdGBUT9rg/DzMHeJv8o0SPetU5q/1KLqZz24o7/tl43gS+qpv3IatjH/oq+/q8eTOMZjsr903J8675+0v8BtoE2De7a/7OVlZs/tt79W6MJ8DfC4v5AHsUOEfbm/iBs+SJ2Tub+L0qsP8TG5vxjUAvxIWri/tEk87pYQt7+noi/N4lq1v0XixUcuQbO/PU6yVk/NsL+nsoZahBWsv9yB9+HmDKa/8mA6zw46n7/twaIxFciRv3RrISVcC3C/GsG/PF+qgz9Hk5jEKn+XP2ZfpgOPXaI/2LelIoilqD/AAtfpFnquP+ix2v3237E/tClFJi4vtD8wNVhh4B+2P+hD4r/3qLc/jPA7fEPDuD9OvkSmmWm5P66/xVHvmLk/wMn91WZQuT/gZJ7bU5G4P9jNPCY1X7c/TEZPNqS/tT/RylsQO7qzP435IqRwWLE/Mrzx9NhKrT9cCK/ypFunPxv7imUP/6A/CCP+TsWllD/lnnM97rJ7P6J/cz3usnu/oCH+TsWllL9v+oplD/+gv7gHr/KkW6e/Or7x9NhKrb93+iKkcFixv5fKWxA7urO/HEZPNqS/tb+zzTwmNV+3vzplnttTkbi/dcn91WZQub+nv8VR75i5v1m+RKaZabm/pPA7fEPDuL9vQ+K/96i3v5A0WGHgH7a/7ClFJi4vtL8qstr99t+xv1QD1+kWeq6/qrWlIoilqL8RYKYDj12iv+eamMQqf5e/stC/PF+qg7+6ZSElXAtwP9HGojEVyJE/rWU6zw46nz83gffh5gymPw+yhlqEFaw/+E2yVk/NsD8W48VHLkGzP3SiL83iWrU/jEk87pYQtz980wL8SFq4P3vSqw/xMbk/hBs+SJ2TuT9yB7FDhH25P2vownwN8Lg/DeZlZs/ttz/sbaBNg3u2P7jbnzrvn7Q/68eTOMZjsj8CG7Yx/6KvP4yYjeBL6qk/cabqZz24oz8tNkj3rVOaP5B58PMwd4k//FwUUdGBUb/foBfYZc2Nvwrrtj+Bb5y/uaAihJO5pL+d2A1mWdqqv+2epACwPrC/EPyT9SDEsr9eJiwXsfG0v3ZoJG8tvba/IFQ4Ti4euL8gRxaoPg65vzjMSFD6iLm/snKBiiKMub9Kj/mNqBe5v/efrcqtLbi/1CAv73nStr+7lsXdZgy1v86sue7C47K///cPC6pisL/StK6rrCmrv25HcYPSDqW/2ojBT7ginb9/5hiltz6Pv5h3yX9xLV2/BjPPhG8EiD9q6OShCp+ZP40vs2DxYaM/8JmZmZmZqT+Yw9KNYFmvP5hAyhctQ7I/CjCm8SSEtD/mSFD/CWW2P+DDY1AQ3bc/VnurClfluD847N6fCHm5P2mJ33Bxlbk/ElZ0dAw6uT/HbUWmhWi4P2wnsjKyJLc/Vu8qhH50tT+dwBqG0l+zPxE/RZ9s8LA/FdzuIWhjrD+IHGwhB2GmP3JV5Fm0658/KVdV5d9/kj/1cu7xqPVyPzhjZDt7NoK/hWebtUDJlr//d2LkRwaivwgUOaCHU6i/tGA0BN0urr/Fbfl7bb6xv5s6oiFVErS/0uuX8D4Itr/QDGeL/Ja3vxrZ9bdCt7i/ChRjh8tjub/PPYEHb5m5vxDhSwoyV7m/Yb8hvkqeuL+y0T8BG3K3v2v7Dosg2LW/msxvNdvXs78T7G3eqXqxvxQAng09l62/xEfy9ZSup7+YEubxBlehv6jAU5yLXJW/uOrErAScfr8k8N6ue8l4P1r7Dla67pM/+bdHUt+moD+GwRxAZwinP+oaWHAT/qw/Vaasuf01sT/PQAxPWZyzPyB0gYzfprU/A/QQkAFMtz9cfddDC4S4P/IC8XBHSbk/KN0PehqYuT+dYplAE2+5P8k/KuXxzrg/ID3kQ6S6tz+Mjfo8ODe2P9obuAnES7Q/rOXUDEUBsj8/4QNz68SuPw+lnKw296g/H+NODpm0oj+SNCKuxjSYPzIBntYBHoU/qmvb97NBar/8l3ZaDxCRv2QtpmkBiJ6/eiuATH24pb8yYPkrQ8erv0I+rSz6qbC/GQ7N/0kis7/A1z4QAEG1v28RFvQu/La/+5WMU7tLuL8Fu3LfgSm5v0AyVA90kbm/B/a4IKuBub/7hYz+cPq4vxRy+eY+/re/VSIO1rGRtr9RDmnrdLu0vzHXFTAihLK/Yq6snTTsr78V2+72pzqqv2ichdlHDqS/gimcvfkHm7+9OVGxnemKv/e3VqLbVzc/L4/47LBbjD/9MT6d67ubP/zCW5cPZKQ/6AV60ayKqj/t1B3vfxqwP35XsZJApLI/3Pp4qLXWtD8GidNOlae2P/HwdJteDrg/wz17bYEEuT8AzycpfYW5P+y6Uc31jrk/9irW/74guT9OoUnd3Dy4P6CRHYh657Y/rPtvo9YmtT8D5O0UJgOzP/fHuJZthrA/MO2JmqV4qz8KEMR5y2OlP4LzU3mO1Z0/PmzYw9BXkD/Yfy5SWGxkPwC3/zRekYa/oOU3FhLqmL8pqOHiZAujv1jkdC6SSKm/uILbplkPr79vyiM6VyKyv1376GwWaLS/qDzcNUZOtr8qLaXcAcy3vzQp58tN2ri/I4ArRDh0ub9TdyOD8Ja5v/Db1fLTQbm/6Nb6InF2uL8Tsph+gDi3vzmBBeDSjbW/+f3iVDZ+s78JMp2RUROxv795JX/tsKy/iAcU89y0pr+GpGjdd06gv++DSxJtN5O/lhZDsLbfdb9Wh2SnWsKAP0IHL94KE5Y/I8DI0sSuoT87XxA2NgGoP4yPTLw+460/Chi79qicsT/PpcBbOfWzP80gUTlU8LU/zhZA4rKEtz9Se0PA76q4P6L6QveoXbk/mpmZmZmZuT9h+kL3qF25P617Q8Dvqrg/VBdA4rKEtz98IVE5VPC1P6KlwFs59bM/ABm79qicsT+ykUy8PuOtP5FhEDY2Aag/n7/I0sSuoT/u/y7eChOWP2B4ZKdawoA/ABtDsLbfdb+8fksSbTeTvwOiaN13TqC/CAgU89y0pr+NdyV/7bCsvwwxnZFRE7G/Hf3iVDZ+s79ggQXg0o21v4SxmH6AOLe/dtf6InF2uL/829Xy00G5v2B3I4Pwlrm/R4ArRDh0ub8jKefLTdq4v6gtpdwBzLe/Tj3cNUZOtr8p/OhsFmi0vz7KIzpXIrK/1ITbplkPr7+m5nQukkipv6an4eJkC6O/WN43FhLqmL8UqP80XpGGv62ILlJYbGQ/BGfYw9BXkD9w7lN5jtWdP6INxHnLY6U/qO2JmqV4qz/0xriWbYawPyDj7RQmA7M/7Ppvo9YmtT93kh2Ieue2P+mhSd3cPLg/UivW/74guT/YulHN9Y65PxrPJyl9hbk/Cz57bYEEuT/Z8HSbXg64P6SJ006Vp7Y/oft4qLXWtD9nWLGSQKSyP7bUHe9/GrA/tAJ60ayKqj+Mv1uXD2SkPxU3Pp3ru5s/rJn47LBbjD/cClii21c3P+07UbGd6Yq/ZyScvfkHm7/4mYXZRw6kv8/Y7vanOqq/0q6snTTsr79H1hUwIoSyv2wPaet0u7S/dyIO1rGRtr+fcfnmPv63v7CFjP5w+ri/DPa4IKuBub9QMlQPdJG5v0S7ct+BKbm/ZpaMU7tLuL9QERb0Lvy2v3zYPhAAQbW/+w7N/0kis78LPq0s+qmwvwxd+StDx6u/4C2ATH24pb9VLKZpAYievzSddloPEJG/AJbb97NBar+p9p3WAR6FP6U1Iq7GNJg/qOBODpm0oj+/opysNveoPyLfA3PrxK4/AufUDEUBsj//HLgJxEu0P6+N+jw4N7Y/oDzkQ6S6tz91Pyrl8c64P3ZimUATb7k/KN0PehqYuT8nA/FwR0m5P71910MLhLg/j/QQkAFMtz8gc4GM36a1P5o/DE9ZnLM/8qSsuf01sT8aHVhwE/6sP+PDHEBnCKc/erpHUt+moD9E+g5Wuu6TP0gF3657yXg/mNXErAScfr97u1Oci1yVvx0T5vEGV6G/GEvy9ZSup78kA54NPZetv0fsbd6perG/xMtvNdvXs7+5+g6LINi1v87RPwEbcre/BL8hvkqeuL/g4EsKMle5v8w9gQdvmbm/ARRjh8tjub8I2fW3Qre4vxUMZ4v8lre/ruuX8D4Itr9wOaIhVRK0v7pu+XttvrG/QGA0BN0urr+MEzmgh1Oov3p6YuRHBqK/r2ybtUDJlr8FYWQ7ezaCv1937vGo9XI/9FFV5d9/kj9/VuRZtOufP+gfbCEHYaY/NN/uIWhjrD9GP0WfbPCwP8zAGobSX7M/ne4qhH50tT/cJrIysiS3P9xtRaaFaLg/HlZ0dAw6uT9did9wcZW5P1rs3p8Iebk/5nqrClfluD8yw2NQEN23P/1HUP8JZbY/4C+m8SSEtD+GQcoXLUOyP7DF0o1gWa8/dZmZmZmZqT8LL7Ng8WGjP4zt5KEKn5k/iz3PhG8EiD9Ficl/cS1dv1X1GKW3Po+/DZDBT7ginb/aSnGD0g6lv5SyrqusKau/+/YPC6pisL/+rLnuwuOyv+OWxd1mDLW/OyAv73nStr+In63KrS24v1iP+Y2oF7m/tnKBiiKMub8VzEhQ+oi5v75GFqg+Drm/f1M4Ti4euL8SaSRvLb22vzYmLBex8bS/4PuT9SDEsr/zn6QAsD6wv9/aDWZZ2qq/OKAihJO5pL/66bY/gW+cv1qrF9hlzY2/6+QTUdGBUb90iPDzMHeJP209SPetU5o/9KbqZz24oz8FmY3gS+qpP+0YtjH/oq8//8aTOMZjsj/h258675+0Pw5uoE2De7Y/lOVlZs/ttz8e6MJ8DfC4P58HsUOEfbk/cBs+SJ2TuT8l0qsP8TG5P2fTAvxIWrg/IEo87pYQtz8woy/N4lq1P+jixUcuQbM/w02yVk/NsD9FtIZahBWsP5uD9+HmDKY/oGQ6zw46nz9tv6IxFciRP7tHISVcC3A/5NK/PF+qg7/AlZjEKn+Xv5hdpgOPXaK/JralIoilqL/HA9fpFnquvzex2v3237G/HClFJi4vtL+0NFhh4B+2v4pD4r/3qLe/HfE7fEPDuL+UvkSmmWm5v6y/xVHvmLm/qMn91WZQub8mZZ7bU5G4v5bNPCY1X7e/z0ZPNqS/tb9vy1sQO7qzv0P6IqRwWLG/x73x9NhKrb8UCq/ypFunv+X2imUP/6C/iyD+TsWllL/ElHM97rJ7v02jcz3usns/HCT+TsWllD+c+IplD/+gPwAGr/KkW6c/pbzx9NhKrT/B+SKkcFixP/nJWxA7urM/mUVPNqS/tT/1zTwmNV+3P2hlnttTkbg/ysn91WZQuT+vv8VR75i5P3e+RKaZabk/4vA7fEPDuD/NQ+K/96i3Pww1WGHgH7Y/hCpFJi4vtD/bstr99t+xP08C1+kWeq4/jrSlIoilqD/lW6YDj12iPzSSmMQqf5c/pMu/PF+qgz9KViElXAtwvwPDojEVyJG/AGI6zw46n795f/fh5gymv3CwhlqEFay/Pk2yVk/NsL+B48VHLkGzv7CjL83iWrW/hEo87pYQt7+v0wL8SFq4v0/Sqw/xMbm/ehs+SJ2Tub+JB7FDhH25v6PownwN8Li/ZeZlZs/tt79jbqBNg3u2v0rcnzrvn7S/XMaTOMZjsr9/F7Yx/6Kvv3SXjeBL6qm/RaXqZz24o7/oOUj3rVOavzmB8PMwd4m/Mx8UUdGBUT88mRfYZc2NP1Tntj+Bb5w/9Z4ihJO5pD/41g1mWdqqP6egpACwPrA/f/yT9SDEsj+8JiwXsfG0P31pJG8tvbY/zVM4Ti4euD/tRhaoPg65PybMSFD6iLk/wXKBiiKMuT97j/mNqBe5P0igrcqtLbg/RCEv73nStj9elsXdZgy1P2Gsue7C47I/R/YPC6pisD8Isa6rrCmrPzBJcYPSDqU/j4zBT7ginT8i7hiltz6PP2C1yX9xLV0/WivPhG8EiL+t5OShCp+Zv8Qts2DxYaO/CJuZmZmZqb8ix9KNYFmvvylCyhctQ7K/bDCm8SSEtL9uSFD/CWW2v4bDY1AQ3be/HHurClfluL8g7N6fCHm5v3KJ33Bxlbm/PFZ0dAw6ub8RbkWmhWi4v3gmsjKyJLe/Hu4qhH50tb8zwBqG0l+zv5c+RZ9s8LC/sN3uIWhjrL9EHmwhB2Gmvx1Z5Fm065+/9lpV5d9/kr9jgu7xqPVyv4dbZDt7NoI/wWObtUDJlj8vfGLkRwaiPyYVOaCHU6g/umE0BN0urj9ib/l7bb6xPwE6oiFVErQ/VOuX8D4Itj9wDGeL/Ja3P9nY9bdCt7g/6hNjh8tjuT/QPYEHb5m5PzThSwoyV7k/Nb8hvkqeuD9w0T8BG3K3P0D6Dosg2LU/MMtvNdvXsz/I7G3eqXqxP6cBng09l60/ekny9ZSupz9pFObxBlehP2/EU5yLXJU/IPrErAScfj+44N6ue8l4v9f9Dla67pO/M7xHUt+moL+ExRxAZwinv/cbWHAT/qy/n6Wsuf01sb8wQAxPWZyzv5xzgYzfprW/nPMQkAFMt78UfddDC4S4v8wC8XBHSbm/JN0PehqYub9cYplAE2+5vzw/KuXxzri/4zzkQ6S6t787jfo8ODe2v3AcuAnES7S/XObUDEUBsr/K4gNz68Suv7+mnKw296i/6+RODpm0or9TOCKuxjSYv+AIntYBHoW/ILPb97NBaj98mnZaDxCRP88vpmkBiJ4/hi+ATH24pT+UXvkrQ8erP4Y9rSz6qbA/dQ3N/0kisz821z4QAEG1PwIRFvQu/LY/rZWMU7tLuD/YunLfgSm5P0gyVA90kbk/+PW4IKuBuT99hYz+cPq4P01x+eY+/rc/yiIO1rGRtj/jDmnrdLu0P9zXFTAihLI/5a+snTTsrz+/3O72pzqqPy+ehdlHDqQ/ECecvfkHmz+1NFGxnemKP/7zWKLbVze/5KD47LBbjL9vND6d67ubvzfBW5cPZKS/QgR60ayKqr8s1B3vfxqwv9VWsZJApLK/TPp4qLXWtL+TiNNOlae2vyjxdJteDri/PD57bYEEub8szycpfYW5v+O6Uc31jrm/JSvW/74gub+eoUnd3Dy4vw+SHYh657a/N/xvo9Ymtb+o5O0UJgOzv7TIuJZthrC/0u6JmqV4q7/6C8R5y2Olv/XqU3mO1Z2/vWnYw9BXkL+Lay5SWGxkv1Kv/zRekYY/4OE3FhLqmD9fpuHiZAujP6vidC6SSKk/MIHbplkPrz/BySM6VyKyP8j66GwWaLQ/wD3cNUZOtj9mLaXcAcy3P1sp58tN2rg/YIArRDh0uT9adyOD8Ja5Pxnc1fLTQbk/Mdf6InF2uD97sph+gDi3P7+BBeDSjbU/mf7iVDZ+sz/BMp2RUROxP7J4JX/tsKw/ZQYU89y0pj9JoGjdd06gPyh7SxJtN5M/AyZDsLbfdT+jf2SnWsKAv3wDL94KE5a/U77I0sSuob+GXRA2NgGov/qNTLw+462/Vxe79qicsb80psBbOfWzv/QhUTlU8LW/sBdA4rKEt79+e0PA76q4v4H6QveoXbm/mpmZmZmZub+D+kL3qF25v+97Q8Dvqri/tRdA4rKEt7/7IVE5VPC1vz2mwFs59bO/YBe79qicsb8Qjky8PuOtv3JgEDY2Aai/br7I0sSuob+0Ay/eChOWvxOAZKdawoC/kwtDsLbfdT/weksSbTeTPy+gaN13TqA/TAYU89y0pj+aeCV/7bCsP7cynZFRE7E/h/3iVDZ+sz+4gQXg0o21P3SymH6AOLc/Ldf6InF2uD/U29Xy00G5P1p3I4Pwlrk/YYArRDh0uT9eKefLTdq4P2wtpdwBzLc/yD3cNUZOtj/I++hsFmi0P8vJIzpXIrI/R4HbplkPrz/D4nQukkipP3Gp4eJkC6M/F+I3FhLqmD/Cr/80XpGGP8ppLlJYbGS/hWnYw9BXkL+/6lN5jtWdv+ALxHnLY6W/uu6JmqV4q7+pyLiWbYawv5/k7RQmA7O/SPtvo9Ymtb8Ikh2Ieue2v5mhSd3cPLi/IyvW/74gub/iulHN9Y65vy7PJyl9hbm/QD57bYEEub8t8XSbXg64v5mI006Vp7a/VPp4qLXWtL/fVrGSQKSyvzfUHe9/GrC/WgR60ayKqr9QwVuXD2Skv6Q0Pp3ru5u/UqH47LBbjL8GAlmi21c3v0U0UbGd6Yo/2iacvfkHmz8VnoXZRw6kP6Xc7vanOqo/z6+snTTsrz/T1xUwIoSyP9sOaet0u7Q/xCIO1rGRtj9IcfnmPv63P3qFjP5w+rg/+PW4IKuBuT9IMlQPdJG5P3G7ct+BKbk/sZWMU7tLuD8IERb0Lvy2Pz3XPhAAQbU/fw3N/0kisz+QPa0s+qmwP6pe+StDx6s/oC+ATH24pT8FMKZpAYieP7SadloPEJE/4rTb97NBaj9xCJ7WAR6Fvxw4Iq7GNJi/0eRODpm0or+mppysNveov7TiA3PrxK6/UubUDEUBsr9oHLgJxEu0vzSN+jw4N7a/3TzkQ6S6t784Pyrl8c64v1pimUATb7m/JN0PehqYub/OAvFwR0m5vxh910MLhLi/ovMQkAFMt7+kc4GM36a1vzhADE9ZnLO/qaWsuf01sb8NHFhwE/6sv5zFHEBnCKe/TbxHUt+moL8O/g5Wuu6Tv5jh3q57yXi/QPnErAScfj84xFOci1yVP08U5vEGV6E/YUny9ZSupz+QAZ4NPZetP77sbd6perE/KMtvNdvXsz84+g6LINi1P2vRPwEbcrc/Mb8hvkqeuD8y4UsKMle5P9A9gQdvmbk/7BNjh8tjuT/d2PW3Qre4P3UMZ4v8lrc/XOuX8D4Itj8KOqIhVRK0P2tv+XttvrE/0GE0BN0urj8+FTmgh1OoP0l8YuRHBqI/+GObtUDJlj/3W2Q7ezaCP4OB7vGo9XK/v1pV5d9/kr/oWORZtOufvywebCEHYaa/mN3uIWhjrL+MPkWfbPCwvyrAGobSX7O/Fu4qhH50tb9yJrIysiS3vw1uRaaFaLi/OlZ0dAw6ub9xid9wcZW5vyHs3p8Iebm/IHurClfluL+Mw2NQEN23v3RIUP8JZba/dDCm8SSEtL8zQsoXLUOyvzfH0o1gWa+/IpuZmZmZqb/eLbNg8WGjv+Tk5KEKn5m/yivPhG8EiL/fscl/cS1dP7LtGKW3Po8/WIzBT7ginT8YSXGD0g6lP/CwrqusKas/PPYPC6pisD9XrLnuwuOyP1eWxd1mDLU/PiEv73nStj9EoK3KrS24P3iP+Y2oF7k/wHKBiiKMuT8nzEhQ+oi5P/BGFqg+Drk/0lM4Ti4euD+EaSRvLb22P8QmLBex8bQ/ifyT9SDEsj+yoKQAsD6wPxDXDWZZ2qo/D58ihJO5pD+K57Y/gW+cP6qZF9hlzY0/tCIUUdGBUT/KgPDzMHeJv7I5SPetU5q/LKXqZz24o79cl43gS+qpv2gXtjH/oq+/U8aTOMZjsr9B3J8675+0v1xuoE2De7a/YOZlZs/tt7+g6MJ8DfC4v4gHsUOEfbm/exs+SJ2Tub9R0qsP8TG5v7PTAvxIWri/i0o87pYQt7+4oy/N4lq1v4vjxUcuQbO/SE2yVk/NsL+IsIZahBWsv5J/9+HmDKa/NWI6zw46n787w6IxFciRvytXISVcC3C/NMu/PF+qgz/9kZjEKn+XP8tbpgOPXaI/dbSlIoilqD84AtfpFnquP9Gy2v3237E/fCpFJi4vtD8FNVhh4B+2P8hD4r/3qLc/3/A7fEPDuD91vkSmmWm5P6+/xVHvmLk/zMn91WZQuT9sZZ7bU5G4P/vNPCY1X7c/UEdPNqS/tT8DylsQO7qzP8v5IqRwWLE/vbzx9NhKrT8aBq/ypFunP7f4imUP/6A/VCT+TsWllD8tpHM97rJ7P+STcz3usnu/VCD+TsWllL/K9oplD/+gv/sJr/KkW6e/sL3x9NhKrb84+iKkcFixv2bLWxA7urO/x0ZPNqS/tb+QzTwmNV+3vyJlnttTkbi/pcn91WZQub+xv8VR75i5v2S+RKaZabm/IPE7fEPDuL+PQ+K/96i3v+wzWGHgH7a/JClFJi4vtL8csNr99t+xv0oB1+kWeq6/P7alIoilqL+2WqYDj12iv/aVmMQqf5e/VNO/PF+qg79vYCElXAtwPza/ojEVyJE/amQ6zw46nz9khvfh5gymPy20hlqEFaw/uE2yVk/NsD/s48VHLkGzPyijL83iWrU/zEo87pYQtz/h0wL8SFq4PyPSqw/xMbk/Xhs+SJ2TuT+gB7FDhH25PyHownwN8Lg/LOZlZs/ttz9RbaBNg3u2P+nbnzrvn7Q/JciTOMZjsj8EGbYx/6KvPx+ZjeBL6qk/GaTqZz24oz+kPUj3rVOaP5eV8PMwd4k/zUcUUdGBUb/qqhfYZc2Nv8Tptj+Bb5y/C6MihJO5pL/H2g1mWdqqv6uepACwPrC/7vyT9SDEsr8uJiwXsfG0v1BoJG8tvba/elM4Ti4euL+7RhaoPg65vzLMSFD6iLm/nXKBiiKMub9bj/mNqBe5vxOgrcqtLbi/QSAv73nStr/rlsXdZgy1v/Orue7C47K/BfcPC6pisL9ita6rrCmrvwhIcYPSDqW/QpDBT7ginb9qAhmltz6Pv2UmyX9xLV2/Gz3PhG8EiD8i5+ShCp+ZP+cxs2DxYaM/XZmZmZmZqT8Uw9KNYFmvP3xByhctQ7I/2C+m8SSEtD+9SFD/CWW2PyzDY1AQ3bc/hHqrClfluD8w7N6fCHm5P12J33Bxlbk/IFZ0dAw6uT9kbUWmhWi4P+EmsjKyJLc/hO8qhH50tT/JvxqG0l+zP1A/RZ9s8LA/9eHuIWhjrD8BIGwhB2GmP8hc5Fm0658/d1hV5d9/kj+sXu7xqPVyP5VgZDt7NoK/O2abtUDJlr9femLkRwaiv3MTOaCHU6i/wGI0BN0urr+vbvl7bb6xv2o4oiFVErS/p+uX8D4Itr8QDGeL/Ja3vwTZ9bdCt7i/NBRjh8tjub/MPYEHb5m5vxzhSwoyV7m/CL8hvkqeuL/U0T8BG3K3v5f7Dosg2LW/zctvNdvXs7997W3eqXqxv50Ang09l62/MEvy9ZSup783E+bxBlehv/TBU5yLXJW/eNbErAScfr/a6t6ue8l4P1QAD1a67pM/X7pHUt+moD/vwBxAZwinPwIdWHAT/qw/56Ssuf01sT+JPgxPWZyzPxhzgYzfprU/ifQQkAFMtz9EfddDC4S4PyQD8XBHSbk/J90PehqYuT+nYplAE2+5P3g/KuXxzrg/QD3kQ6S6tz/qjPo8ODe2PwgduAnES7Q/L+jUDEUBsj/H4QNz68SuP9iinKw296g/veNODpm0oj+kLyKuxjSYPxj3ndYBHoU/FGHb97NBar/9nHZaDxCRvx8spmkBiJ6/4CqATH24pb/0XPkrQ8erv8o8rSz6qbC/4Q3N/0kis7902D4QAEG1v0oRFvQu/La/4JWMU7tLuL9Bu3LfgSm5vzsyVA90kbm/6/W4IKuBub+0hYz+cPq4vzJy+eY+/re/fSIO1rGRtr90D2nrdLu0v2vXFTAihLK/Z6ysnTTsr7/n2O72pzqqvwSdhdlHDqS/nSScvfkHm79dPFGxnemKvztjVqLbVzc/PZn47LBbjD+3MD6d67ubP2HCW5cPZKQ/nAJ60ayKqj+r1B3vfxqwP0RXsZJApLI/mPt4qLXWtD/fiNNOlae2P2DxdJteDrg/CD57bYEEuT/5zicpfYW5P9m6Uc31jrk/VCvW/74guT9poUnd3Dy4P32SHYh657Y/9Ppvo9YmtT875O0UJgOzP//GuJZthrA/wO2JmqV4qz/TCsR5y2OlP6fuU3mO1Z0/jW3Yw9BXkD8/Vy5SWGxkP6Wn/zRekYa/7Nc3FhLqmL+Mp+HiZAujv43mdC6SSKm/MoLbplkPr79VyyM6VyKyvyH86GwWaLS/fzzcNUZOtr+iLaXcAcy3vx8p58tN2ri/cYArRDh0ub9hdyOD8Ja5v0Hc1fLTQbm/Adf6InF2uL+KsZh+gDi3v2iBBeDSjbW/HfziVDZ+s78XMZ2RUROxv0x6JX/tsKy/QgUU89y0pr8eomjdd06gvzyFSxJtN5O/4BtDsLbfdb/wd2SnWsKAP/gFL94KE5Y/hcLI0sSuoT94YRA2NgGoPwKPTLw+460/9hi79qicsT+ZpcBbOfWzP0giUTlU8LU/TxdA4rKEtz88e0PA76q4P5f6QveoXbk/mpmZmZmZuT/c+kL3qF25P+h6Q8Dvqrg/1BZA4rKEtz+oIVE5VPC1P9ekwFs59bM/FBi79qicsT88kky8PuOtP1RfEDY2Aag/PsDI0sSuoT85AS/eChOWP8aHZKdawoA/JvxCsLbfdb9vfUsSbTeTv2ukaN13TqC/cAcU89y0pr9PfCV/7bCsv/8xnZFRE7G/5vziVDZ+s78PggXg0o21vwyymH6AOLe/bNb6InF2uL/v29Xy00G5v1N3I4Pwlrm/UIArRDh0ub/UKOfLTdq4vzAtpdwBzLe/eD3cNUZOtr9l++hsFmi0v3rKIzpXIrK/RIDbplkPr79x5HQukkipvzur4eJkC6O/oN83FhLqmL9vt/80XpGGvxd+LlJYbGQ/WHLYw9BXkD9M81N5jtWdPwgNxHnLY6U/ze+JmqV4qz/sx7iWbYawP+fi7RQmA7M/pPtvo9YmtT+akR2Ieue2P86hSd3cPLg/8yrW/74guT/rulHN9Y65PyHPJyl9hbk/xj17bYEEuT/28HSbXg64P06I006Vp7Y/5Pp4qLXWtD+gWLGSQKSyP7nTHe9/GrA/AAZ60ayKqj8GxluXD2SkP1w4Pp3ru5s/nY/47LBbjD+YX1ii21c3P/9FUbGd6Yq/TSmcvfkHm79cmYXZRw6kv/3a7vanOqq/Ta6snTTsr79D2BUwIoSyv0kOaet0u7S/jSEO1rGRtr+BcfnmPv63v/iFjP5w+ri/Bfa4IKuBub8sMlQPdJG5vwi7ct+BKbm/gJaMU7tLuL/AEBb0Lvy2v8jXPhAAQbW/Mw/N/0kis79MPq0s+qmwv0pg+StDx6u/eS6ATH24pb99J6ZpAYievzOYdloPEJG/l6Db97NBar/CAJ7WAR6FP1w0Iq7GNJg//+VODpm0oj/3pJysNveoP5reA3PrxK4/xubUDEUBsj/SG7gJxEu0P4SN+jw4N7Y/tD3kQ6S6tz/FPyrl8c64P2ximUATb7k/IN0PehqYuT/0AvFwR0m5P9Z910MLhLg/CPQQkAFMtz8ndIGM36a1P9A/DE9ZnLM/X6asuf01sT8CG1hwE/6sP3vEHEBnCKc/E7hHUt+moD+R+w5Wuu6TP3bX3q57yXg/2OnErAScfr8vulOci1yVv4AV5vEGV6G/q0fy9ZSup79g/Z0NPZetvwnsbd6perG/kcxvNdvXs7+N+g6LINi1v1HSPwEbcre/Xb8hvkqeuL/U4EsKMle5v889gQdvmbm/DBRjh8tjub+z2PW3Qre4v9UMZ4v8lre/qeyX8D4Itr+lOaIhVRK0v89t+XttvrG/ymA0BN0urr9QETmgh1Oovxp4YuRHBqK/+W2btUDJlr/oVmQ7ezaCvxRy7vGo9XI/p1BV5d9/kj88VeRZtOufP28cbCEHYaY/p97uIWhjrD85QEWfbPCwP5TAGobSX7M/b+4qhH50tT9mJ7IysiS3P8NtRaaFaLg/VVZ0dAw6uT9oid9wcZW5P2Ps3p8Iebk/+nqrClfluD/kw2NQEN23P7NJUP8JZbY/HS+m8SSEtD+jQMoXLUOyPzfG0o1gWa8/Q5eZmZmZqT+oL7Ng8WGjP9Tu5KEKn5k/dTPPhG8EiD8XdMl/cS1dv7fyGKW3Po+/pYjBT7ginb9qRHGD0g6lvwSyrqusKau/8/cPC6pisL/ErLnuwuOyv5yXxd1mDLW/ziAv73nStr9sn63KrS24v5iP+Y2oF7m/sHKBiiKMub9WzEhQ+oi5vyNHFqg+Drm/JFQ4Ti4euL85aSRvLb22v3slLBex8bS/GvyT9SDEsr81oKQAsD6wv7XYDWZZ2qq/06AihJO5pL8a5bY/gW+cv0+hF9hlzY2/48YUUdGBUb/UhfDzMHeJP/c1SPetU5o/WKbqZz24oz83m43gS+qpP+watjH/oq8/xMaTOMZjsj+i3J8675+0P+VtoE2De7Y/d+VlZs/ttz9o6MJ8DfC4P3EHsUOEfbk/dBs+SJ2TuT990qsP8TG5P4HTAvxIWrg/REo87pYQtz98oi/N4lq1PyDjxUcuQbM/zkyyVk/NsD8lsoZahBWsPzSE9+HmDKY/yl86zw46nz8Ix6IxFciRPy+AISVcC3A/AN2/PF+qg7+wmpjEKn+Xv/pcpgOPXaK/YLilIoilqL89A9fpFnquv/uw2v3237G/5ClFJi4vtL+JNFhh4B+2vwZE4r/3qLe/oPA7fEPDuL8mvkSmmWm5v62/xVHvmLm/d8n91WZQub8+ZZ7bU5G4vxHNPCY1X7e/I0ZPNqS/tb+ly1sQO7qzv1P5IqRwWLG/Ur7x9NhKrb+rCq/ypFunv4n6imUP/6C/HCj+TsWllL8NmnM97rJ7v5C3cz3usns/0CL+TsWllD/894plD/+gP0MIr/KkW6c/Grzx9NhKrT+v+iKkcFixP8jKWxA7urM/bEVPNqS/tT/SzTwmNV+3P9xknttTkbg/vsn91WZQuT+0v8VR75i5P1C+RKaZabk/+PA7fEPDuD9RQ+K/96i3Pzg1WGHgH7Y/uCpFJi4vtD/zsdr99t+xP2oF1+kWeq4/IrWlIoilqD+AX6YDj12iP32TmMQqf5c/R86/PF+qgz+UaiElXAtwv7bBojEVyJG/1WY6zw46n7/Egffh5gymv+SvhlqEFay/M06yVk/NsL884sVHLkGzv72hL83iWrW/rkk87pYQt78T1AL8SFq4v0DSqw/xMbm/iBs+SJ2Tub+RB7FDhH25v7bownwN8Li/8uVlZs/tt7+LbqBNg3u2v4nbnzrvn7S/tMeTOMZjsr8MHbYx/6KvvwWYjeBL6qm/7qLqZz24o78vO0j3rVOavyd38PMwd4m/aHAUUdGBUT+clhfYZc2NPzTstj+Bb5w/Wp4ihJO5pD9o1g1mWdqqPymfpACwPrA/L/uT9SDEsj+LJiwXsfG0PxNqJG8tvbY/sFM4Ti4euD/cRhaoPg65Pz3MSFD6iLk/x3KBiiKMuT87j/mNqBe5P92frcqtLbg/ayEv73nStj+PlsXdZgy1P66tue7C47I/iPYPC6pisD/irq6rrCmrP+BGcYPSDqU/1I3BT7ginT8Y5Biltz6PP4/KyX9xLV0/uSjPhG8EiL+X6eShCp+Zvycts2DxYaO/d5qZmZmZqb8UxNKNYFmvv7A/yhctQ7K/ODCm8SSEtL8MSVD/CWW2v2jDY1AQ3be/aHurClfluL9A7N6fCHm5v3WJ33Bxlbm/BFZ0dAw6ub8rbkWmhWi4v5wmsjKyJLe/LO8qhH50tb93wRqG0l+zv9c+RZ9s8LC/lNvuIWhjrL/dHmwhB2Gmv19a5Fm065+/91VV5d9/kr+uh+7xqPVyv6NlZDt7NoI/tGibtUDJlj+TdWLkRwaiP5AUOaCHU6g/nF40BN0urj8lb/l7bb6xP8s6oiFVErQ/+euX8D4Itj9PDGeL/Ja3Py7Z9bdCt7g/4BNjh8tjuT/MPYEHb5m5PwbhSwoyV7k/vL8hvkqeuD+T0T8BG3K3P0L7Dosg2LU/ZstvNdvXsz+v6m3eqXqxP5T/nQ09l60/EEry9ZSupz8GEubxBlehP3i/U5yLXJU/aP/ErAScfj/89N6ue8l4v0T2Dla67pO/k7tHUt+moL/IxxxAZwinvw0eWHAT/qy/X6Wsuf01sb8AQQxPWZyzv29zgYzfprW/zPQQkAFMt79yfddDC4S4v74C8XBHSbm/Kt0PehqYub+UYplAE2+5vxtAKuXxzri/zzvkQ6S6t7+ZjPo8ODe2v6QcuAnES7S/deXUDEUBsr/E4ANz68Suv1OnnKw296i/j+JODpm0or+cOSKuxjSYvwzyndYBHoW/X3Xb97NBaj/fknZaDxCRP4wupmkBiJ4/0jGATH24pT8FXvkrQ8erP7M/rSz6qbA/TQ7N/0kisz8G1z4QAEG1P5ERFvQu/LY/FJaMU7tLuD/IunLfgSm5P0QyVA90kbk/I/a4IKuBuT+QhYz+cPq4P9xw+eY+/rc/MSIO1rGRtj8UD2nrdLu0P/vWFTAihLI/arCsnTTsrz/Q1+72pzqqP9mbhdlHDqQ/hC6cvfkHmz9VN1GxnemKP6oFV6LbVze/RJ747LBbjL96Pz6d67ubv4vDW5cPZKS/sAN60ayKqr8p1R3vfxqwv7NXsZJApLK/G/p4qLXWtL8qidNOlae2v4DwdJteDri/Kz57bYEEub8GzycpfYW5v9C6Uc31jrm/NSvW/74gub81oUnd3Dy4vzSSHYh657a/mfpvo9Ymtb/P4+0UJgOzv/XIuJZthrC/reyJmqV4q798D8R5y2Olv3j4U3mO1Z2/C2vYw9BXkL/zQi5SWGxkv7Cs/zRekYY/zOY3FhLqmD+6qOHiZAujPxjidC6SSKk/NIPbplkPrz+GySM6VyKyP4T86GwWaLQ/zjzcNUZOtj+wLKXcAcy3P0Yp58tN2rg/g4ArRDh0uT9cdyOD8Ja5P6Hb1fLTQbk/0tb6InF2uD+esph+gDi3PxCBBeDSjbU/x/3iVDZ+sz8AM52RUROxPz95JX/tsKw/3AkU89y0pj/qoGjdd06gPyx2SxJtN5M/vBFDsLbfdT//fGSnWsKAv3IIL94KE5a/tL3I0sSuob+YYhA2NgGovwqQTLw+462/GRe79qicsb//pcBbOfWzv/UgUTlU8LW/SxZA4rKEt79CfEPA76q4v636QveoXbm/",
          "dtype": "f8"
         }
        }
       ],
       "layout": {
        "template": {
         "data": {
          "bar": [
           {
            "error_x": {
             "color": "#2a3f5f"
            },
            "error_y": {
             "color": "#2a3f5f"
            },
            "marker": {
             "line": {
              "color": "#E5ECF6",
              "width": 0.5
             },
             "pattern": {
              "fillmode": "overlay",
              "size": 10,
              "solidity": 0.2
             }
            },
            "type": "bar"
           }
          ],
          "barpolar": [
           {
            "marker": {
             "line": {
              "color": "#E5ECF6",
              "width": 0.5
             },
             "pattern": {
              "fillmode": "overlay",
              "size": 10,
              "solidity": 0.2
             }
            },
            "type": "barpolar"
           }
          ],
          "carpet": [
           {
            "aaxis": {
             "endlinecolor": "#2a3f5f",
             "gridcolor": "white",
             "linecolor": "white",
             "minorgridcolor": "white",
             "startlinecolor": "#2a3f5f"
            },
            "baxis": {
             "endlinecolor": "#2a3f5f",
             "gridcolor": "white",
             "linecolor": "white",
             "minorgridcolor": "white",
             "startlinecolor": "#2a3f5f"
            },
            "type": "carpet"
           }
          ],
          "choropleth": [
           {
            "colorbar": {
             "outlinewidth": 0,
             "ticks": ""
            },
            "type": "choropleth"
           }
          ],
          "contour": [
           {
            "colorbar": {
             "outlinewidth": 0,
             "ticks": ""
            },
            "colorscale": [
             [
              0,
              "#0d0887"
             ],
             [
              0.1111111111111111,
              "#46039f"
             ],
             [
              0.2222222222222222,
              "#7201a8"
             ],
             [
              0.3333333333333333,
              "#9c179e"
             ],
             [
              0.4444444444444444,
              "#bd3786"
             ],
             [
              0.5555555555555556,
              "#d8576b"
             ],
             [
              0.6666666666666666,
              "#ed7953"
             ],
             [
              0.7777777777777778,
              "#fb9f3a"
             ],
             [
              0.8888888888888888,
              "#fdca26"
             ],
             [
              1,
              "#f0f921"
             ]
            ],
            "type": "contour"
           }
          ],
          "contourcarpet": [
           {
            "colorbar": {
             "outlinewidth": 0,
             "ticks": ""
            },
            "type": "contourcarpet"
           }
          ],
          "heatmap": [
           {
            "colorbar": {
             "outlinewidth": 0,
             "ticks": ""
            },
            "colorscale": [
             [
              0,
              "#0d0887"
             ],
             [
              0.1111111111111111,
              "#46039f"
             ],
             [
              0.2222222222222222,
              "#7201a8"
             ],
             [
              0.3333333333333333,
              "#9c179e"
             ],
             [
              0.4444444444444444,
              "#bd3786"
             ],
             [
              0.5555555555555556,
              "#d8576b"
             ],
             [
              0.6666666666666666,
              "#ed7953"
             ],
             [
              0.7777777777777778,
              "#fb9f3a"
             ],
             [
              0.8888888888888888,
              "#fdca26"
             ],
             [
              1,
              "#f0f921"
             ]
            ],
            "type": "heatmap"
           }
          ],
          "histogram": [
           {
            "marker": {
             "pattern": {
              "fillmode": "overlay",
              "size": 10,
              "solidity": 0.2
             }
            },
            "type": "histogram"
           }
          ],
          "histogram2d": [
           {
            "colorbar": {
             "outlinewidth": 0,
             "ticks": ""
            },
            "colorscale": [
             [
              0,
              "#0d0887"
             ],
             [
              0.1111111111111111,
              "#46039f"
             ],
             [
              0.2222222222222222,
              "#7201a8"
             ],
             [
              0.3333333333333333,
              "#9c179e"
             ],
             [
              0.4444444444444444,
              "#bd3786"
             ],
             [
              0.5555555555555556,
              "#d8576b"
             ],
             [
              0.6666666666666666,
              "#ed7953"
             ],
             [
              0.7777777777777778,
              "#fb9f3a"
             ],
             [
              0.8888888888888888,
              "#fdca26"
             ],
             [
              1,
              "#f0f921"
             ]
            ],
            "type": "histogram2d"
           }
          ],
          "histogram2dcontour": [
           {
            "colorbar": {
             "outlinewidth": 0,
             "ticks": ""
            },
            "colorscale": [
             [
              0,
              "#0d0887"
             ],
             [
              0.1111111111111111,
              "#46039f"
             ],
             [
              0.2222222222222222,
              "#7201a8"
             ],
             [
              0.3333333333333333,
              "#9c179e"
             ],
             [
              0.4444444444444444,
              "#bd3786"
             ],
             [
              0.5555555555555556,
              "#d8576b"
             ],
             [
              0.6666666666666666,
              "#ed7953"
             ],
             [
              0.7777777777777778,
              "#fb9f3a"
             ],
             [
              0.8888888888888888,
              "#fdca26"
             ],
             [
              1,
              "#f0f921"
             ]
            ],
            "type": "histogram2dcontour"
           }
          ],
          "mesh3d": [
           {
            "colorbar": {
             "outlinewidth": 0,
             "ticks": ""
            },
            "type": "mesh3d"
           }
          ],
          "parcoords": [
           {
            "line": {
             "colorbar": {
              "outlinewidth": 0,
              "ticks": ""
             }
            },
            "type": "parcoords"
           }
          ],
          "pie": [
           {
            "automargin": true,
            "type": "pie"
           }
          ],
          "scatter": [
           {
            "fillpattern": {
             "fillmode": "overlay",
             "size": 10,
             "solidity": 0.2
            },
            "type": "scatter"
           }
          ],
          "scatter3d": [
           {
            "line": {
             "colorbar": {
              "outlinewidth": 0,
              "ticks": ""
             }
            },
            "marker": {
             "colorbar": {
              "outlinewidth": 0,
              "ticks": ""
             }
            },
            "type": "scatter3d"
           }
          ],
          "scattercarpet": [
           {
            "marker": {
             "colorbar": {
              "outlinewidth": 0,
              "ticks": ""
             }
            },
            "type": "scattercarpet"
           }
          ],
          "scattergeo": [
           {
            "marker": {
             "colorbar": {
              "outlinewidth": 0,
              "ticks": ""
             }
            },
            "type": "scattergeo"
           }
          ],
          "scattergl": [
           {
            "marker": {
             "colorbar": {
              "outlinewidth": 0,
              "ticks": ""
             }
            },
            "type": "scattergl"
           }
          ],
          "scattermap": [
           {
            "marker": {
             "colorbar": {
              "outlinewidth": 0,
              "ticks": ""
             }
            },
            "type": "scattermap"
           }
          ],
          "scattermapbox": [
           {
            "marker": {
             "colorbar": {
              "outlinewidth": 0,
              "ticks": ""
             }
            },
            "type": "scattermapbox"
           }
          ],
          "scatterpolar": [
           {
            "marker": {
             "colorbar": {
              "outlinewidth": 0,
              "ticks": ""
             }
            },
            "type": "scatterpolar"
           }
          ],
          "scatterpolargl": [
           {
            "marker": {
             "colorbar": {
              "outlinewidth": 0,
              "ticks": ""
             }
            },
            "type": "scatterpolargl"
           }
          ],
          "scatterternary": [
           {
            "marker": {
             "colorbar": {
              "outlinewidth": 0,
              "ticks": ""
             }
            },
            "type": "scatterternary"
           }
          ],
          "surface": [
           {
            "colorbar": {
             "outlinewidth": 0,
             "ticks": ""
            },
            "colorscale": [
             [
              0,
              "#0d0887"
             ],
             [
              0.1111111111111111,
              "#46039f"
             ],
             [
              0.2222222222222222,
              "#7201a8"
             ],
             [
              0.3333333333333333,
              "#9c179e"
             ],
             [
              0.4444444444444444,
              "#bd3786"
             ],
             [
              0.5555555555555556,
              "#d8576b"
             ],
             [
              0.6666666666666666,
              "#ed7953"
             ],
             [
              0.7777777777777778,
              "#fb9f3a"
             ],
             [
              0.8888888888888888,
              "#fdca26"
             ],
             [
              1,
              "#f0f921"
             ]
            ],
            "type": "surface"
           }
          ],
          "table": [
           {
            "cells": {
             "fill": {
              "color": "#EBF0F8"
             },
             "line": {
              "color": "white"
             }
            },
            "header": {
             "fill": {
              "color": "#C8D4E3"
             },
             "line": {
              "color": "white"
             }
            },
            "type": "table"
           }
          ]
         },
         "layout": {
          "annotationdefaults": {
           "arrowcolor": "#2a3f5f",
           "arrowhead": 0,
           "arrowwidth": 1
          },
          "autotypenumbers": "strict",
          "coloraxis": {
           "colorbar": {
            "outlinewidth": 0,
            "ticks": ""
           }
          },
          "colorscale": {
           "diverging": [
            [
             0,
             "#8e0152"
            ],
            [
             0.1,
             "#c51b7d"
            ],
            [
             0.2,
             "#de77ae"
            ],
            [
             0.3,
             "#f1b6da"
            ],
            [
             0.4,
             "#fde0ef"
            ],
            [
             0.5,
             "#f7f7f7"
            ],
            [
             0.6,
             "#e6f5d0"
            ],
            [
             0.7,
             "#b8e186"
            ],
            [
             0.8,
             "#7fbc41"
            ],
            [
             0.9,
             "#4d9221"
            ],
            [
             1,
             "#276419"
            ]
           ],
           "sequential": [
            [
             0,
             "#0d0887"
            ],
            [
             0.1111111111111111,
             "#46039f"
            ],
            [
             0.2222222222222222,
             "#7201a8"
            ],
            [
             0.3333333333333333,
             "#9c179e"
            ],
            [
             0.4444444444444444,
             "#bd3786"
            ],
            [
             0.5555555555555556,
             "#d8576b"
            ],
            [
             0.6666666666666666,
             "#ed7953"
            ],
            [
             0.7777777777777778,
             "#fb9f3a"
            ],
            [
             0.8888888888888888,
             "#fdca26"
            ],
            [
             1,
             "#f0f921"
            ]
           ],
           "sequentialminus": [
            [
             0,
             "#0d0887"
            ],
            [
             0.1111111111111111,
             "#46039f"
            ],
            [
             0.2222222222222222,
             "#7201a8"
            ],
            [
             0.3333333333333333,
             "#9c179e"
            ],
            [
             0.4444444444444444,
             "#bd3786"
            ],
            [
             0.5555555555555556,
             "#d8576b"
            ],
            [
             0.6666666666666666,
             "#ed7953"
            ],
            [
             0.7777777777777778,
             "#fb9f3a"
            ],
            [
             0.8888888888888888,
             "#fdca26"
            ],
            [
             1,
             "#f0f921"
            ]
           ]
          },
          "colorway": [
           "#636efa",
           "#EF553B",
           "#00cc96",
           "#ab63fa",
           "#FFA15A",
           "#19d3f3",
           "#FF6692",
           "#B6E880",
           "#FF97FF",
           "#FECB52"
          ],
          "font": {
           "color": "#2a3f5f"
          },
          "geo": {
           "bgcolor": "white",
           "lakecolor": "white",
           "landcolor": "#E5ECF6",
           "showlakes": true,
           "showland": true,
           "subunitcolor": "white"
          },
          "hoverlabel": {
           "align": "left"
          },
          "hovermode": "closest",
          "mapbox": {
           "style": "light"
          },
          "paper_bgcolor": "white",
          "plot_bgcolor": "#E5ECF6",
          "polar": {
           "angularaxis": {
            "gridcolor": "white",
            "linecolor": "white",
            "ticks": ""
           },
           "bgcolor": "#E5ECF6",
           "radialaxis": {
            "gridcolor": "white",
            "linecolor": "white",
            "ticks": ""
           }
          },
          "scene": {
           "xaxis": {
            "backgroundcolor": "#E5ECF6",
            "gridcolor": "white",
            "gridwidth": 2,
            "linecolor": "white",
            "showbackground": true,
            "ticks": "",
            "zerolinecolor": "white"
           },
           "yaxis": {
            "backgroundcolor": "#E5ECF6",
            "gridcolor": "white",
            "gridwidth": 2,
            "linecolor": "white",
            "showbackground": true,
            "ticks": "",
            "zerolinecolor": "white"
           },
           "zaxis": {
            "backgroundcolor": "#E5ECF6",
            "gridcolor": "white",
            "gridwidth": 2,
            "linecolor": "white",
            "showbackground": true,
            "ticks": "",
            "zerolinecolor": "white"
           }
          },
          "shapedefaults": {
           "line": {
            "color": "#2a3f5f"
           }
          },
          "ternary": {
           "aaxis": {
            "gridcolor": "white",
            "linecolor": "white",
            "ticks": ""
           },
           "baxis": {
            "gridcolor": "white",
            "linecolor": "white",
            "ticks": ""
           },
           "bgcolor": "#E5ECF6",
           "caxis": {
            "gridcolor": "white",
            "linecolor": "white",
            "ticks": ""
           }
          },
          "title": {
           "x": 0.05
          },
          "xaxis": {
           "automargin": true,
           "gridcolor": "white",
           "linecolor": "white",
           "ticks": "",
           "title": {
            "standoff": 15
           },
           "zerolinecolor": "white",
           "zerolinewidth": 2
          },
          "yaxis": {
           "automargin": true,
           "gridcolor": "white",
           "linecolor": "white",
           "ticks": "",
           "title": {
            "standoff": 15
           },
           "zerolinecolor": "white",
           "zerolinewidth": 2
          }
         }
        }
       }
      }
     },
     "metadata": {},
     "output_type": "display_data"
    }
   ],
   "source": [
    "A = 0.1\n",
    "f0 = 950\n",
    "fs = 44100\n",
    "phi = np.pi\n",
    "t = np.arange(0, .1, 1.0/fs)\n",
    "x = A * np.exp(1j*(2*f0*np.pi*t + phi))\n",
    "\n",
    "# Codi per representar només la part real\n",
    "plot_signals([np.real(x)], fs, name=['real part'])"
   ]
  },
  {
   "cell_type": "markdown",
   "metadata": {
    "id": "bU3RpE-gxOtj"
   },
   "source": [
    "**3. Harmonic signals**\n",
    "\n",
    "Now, we will work with harmonic signals. Until now, we have been working with simple sinusoids signals but most musical instruments sounds are harmonic. This means that they are formed by a sinusoid of the fundamental frequency plus sinusoids with frequencies multiples of it. For instance, we can define the following signal formed by the fundamental frequency plus the second and the third harmonic (note that each wave has a different phase).\n",
    "\n"
   ]
  },
  {
   "cell_type": "markdown",
   "metadata": {
    "id": "33AJ43U-yuv6"
   },
   "source": [
    "3.1. Load your reference audio signal and plot some periods (5-10) where the amplitude is stable. For instance see Ex. 2.3 from Lab 1."
   ]
  },
  {
   "cell_type": "code",
   "execution_count": 63,
   "metadata": {
    "executionInfo": {
     "elapsed": 13,
     "status": "ok",
     "timestamp": 1702317971657,
     "user": {
      "displayName": "PEDRO RAMONEDA FRANCO",
      "userId": "10653804143244385715"
     },
     "user_tz": -60
    },
    "id": "KRd70D8Ayt26"
   },
   "outputs": [
    {
     "data": {
      "application/vnd.plotly.v1+json": {
       "config": {
        "linkText": "Export to plot.ly",
        "plotlyServerURL": "https://plot.ly",
        "showLink": false
       },
       "data": [
        {
         "line": {
          "color": "#1f77b4",
          "shape": "linear"
         },
         "mode": "lines",
         "name": "Senyal de referència 0",
         "type": "scatter",
         "x": {
          "bdata": "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",
          "dtype": "f8"
         },
         "y": {
          "bdata": "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",
          "dtype": "f8"
         }
        }
       ],
       "layout": {
        "template": {
         "data": {
          "bar": [
           {
            "error_x": {
             "color": "#2a3f5f"
            },
            "error_y": {
             "color": "#2a3f5f"
            },
            "marker": {
             "line": {
              "color": "#E5ECF6",
              "width": 0.5
             },
             "pattern": {
              "fillmode": "overlay",
              "size": 10,
              "solidity": 0.2
             }
            },
            "type": "bar"
           }
          ],
          "barpolar": [
           {
            "marker": {
             "line": {
              "color": "#E5ECF6",
              "width": 0.5
             },
             "pattern": {
              "fillmode": "overlay",
              "size": 10,
              "solidity": 0.2
             }
            },
            "type": "barpolar"
           }
          ],
          "carpet": [
           {
            "aaxis": {
             "endlinecolor": "#2a3f5f",
             "gridcolor": "white",
             "linecolor": "white",
             "minorgridcolor": "white",
             "startlinecolor": "#2a3f5f"
            },
            "baxis": {
             "endlinecolor": "#2a3f5f",
             "gridcolor": "white",
             "linecolor": "white",
             "minorgridcolor": "white",
             "startlinecolor": "#2a3f5f"
            },
            "type": "carpet"
           }
          ],
          "choropleth": [
           {
            "colorbar": {
             "outlinewidth": 0,
             "ticks": ""
            },
            "type": "choropleth"
           }
          ],
          "contour": [
           {
            "colorbar": {
             "outlinewidth": 0,
             "ticks": ""
            },
            "colorscale": [
             [
              0,
              "#0d0887"
             ],
             [
              0.1111111111111111,
              "#46039f"
             ],
             [
              0.2222222222222222,
              "#7201a8"
             ],
             [
              0.3333333333333333,
              "#9c179e"
             ],
             [
              0.4444444444444444,
              "#bd3786"
             ],
             [
              0.5555555555555556,
              "#d8576b"
             ],
             [
              0.6666666666666666,
              "#ed7953"
             ],
             [
              0.7777777777777778,
              "#fb9f3a"
             ],
             [
              0.8888888888888888,
              "#fdca26"
             ],
             [
              1,
              "#f0f921"
             ]
            ],
            "type": "contour"
           }
          ],
          "contourcarpet": [
           {
            "colorbar": {
             "outlinewidth": 0,
             "ticks": ""
            },
            "type": "contourcarpet"
           }
          ],
          "heatmap": [
           {
            "colorbar": {
             "outlinewidth": 0,
             "ticks": ""
            },
            "colorscale": [
             [
              0,
              "#0d0887"
             ],
             [
              0.1111111111111111,
              "#46039f"
             ],
             [
              0.2222222222222222,
              "#7201a8"
             ],
             [
              0.3333333333333333,
              "#9c179e"
             ],
             [
              0.4444444444444444,
              "#bd3786"
             ],
             [
              0.5555555555555556,
              "#d8576b"
             ],
             [
              0.6666666666666666,
              "#ed7953"
             ],
             [
              0.7777777777777778,
              "#fb9f3a"
             ],
             [
              0.8888888888888888,
              "#fdca26"
             ],
             [
              1,
              "#f0f921"
             ]
            ],
            "type": "heatmap"
           }
          ],
          "histogram": [
           {
            "marker": {
             "pattern": {
              "fillmode": "overlay",
              "size": 10,
              "solidity": 0.2
             }
            },
            "type": "histogram"
           }
          ],
          "histogram2d": [
           {
            "colorbar": {
             "outlinewidth": 0,
             "ticks": ""
            },
            "colorscale": [
             [
              0,
              "#0d0887"
             ],
             [
              0.1111111111111111,
              "#46039f"
             ],
             [
              0.2222222222222222,
              "#7201a8"
             ],
             [
              0.3333333333333333,
              "#9c179e"
             ],
             [
              0.4444444444444444,
              "#bd3786"
             ],
             [
              0.5555555555555556,
              "#d8576b"
             ],
             [
              0.6666666666666666,
              "#ed7953"
             ],
             [
              0.7777777777777778,
              "#fb9f3a"
             ],
             [
              0.8888888888888888,
              "#fdca26"
             ],
             [
              1,
              "#f0f921"
             ]
            ],
            "type": "histogram2d"
           }
          ],
          "histogram2dcontour": [
           {
            "colorbar": {
             "outlinewidth": 0,
             "ticks": ""
            },
            "colorscale": [
             [
              0,
              "#0d0887"
             ],
             [
              0.1111111111111111,
              "#46039f"
             ],
             [
              0.2222222222222222,
              "#7201a8"
             ],
             [
              0.3333333333333333,
              "#9c179e"
             ],
             [
              0.4444444444444444,
              "#bd3786"
             ],
             [
              0.5555555555555556,
              "#d8576b"
             ],
             [
              0.6666666666666666,
              "#ed7953"
             ],
             [
              0.7777777777777778,
              "#fb9f3a"
             ],
             [
              0.8888888888888888,
              "#fdca26"
             ],
             [
              1,
              "#f0f921"
             ]
            ],
            "type": "histogram2dcontour"
           }
          ],
          "mesh3d": [
           {
            "colorbar": {
             "outlinewidth": 0,
             "ticks": ""
            },
            "type": "mesh3d"
           }
          ],
          "parcoords": [
           {
            "line": {
             "colorbar": {
              "outlinewidth": 0,
              "ticks": ""
             }
            },
            "type": "parcoords"
           }
          ],
          "pie": [
           {
            "automargin": true,
            "type": "pie"
           }
          ],
          "scatter": [
           {
            "fillpattern": {
             "fillmode": "overlay",
             "size": 10,
             "solidity": 0.2
            },
            "type": "scatter"
           }
          ],
          "scatter3d": [
           {
            "line": {
             "colorbar": {
              "outlinewidth": 0,
              "ticks": ""
             }
            },
            "marker": {
             "colorbar": {
              "outlinewidth": 0,
              "ticks": ""
             }
            },
            "type": "scatter3d"
           }
          ],
          "scattercarpet": [
           {
            "marker": {
             "colorbar": {
              "outlinewidth": 0,
              "ticks": ""
             }
            },
            "type": "scattercarpet"
           }
          ],
          "scattergeo": [
           {
            "marker": {
             "colorbar": {
              "outlinewidth": 0,
              "ticks": ""
             }
            },
            "type": "scattergeo"
           }
          ],
          "scattergl": [
           {
            "marker": {
             "colorbar": {
              "outlinewidth": 0,
              "ticks": ""
             }
            },
            "type": "scattergl"
           }
          ],
          "scattermap": [
           {
            "marker": {
             "colorbar": {
              "outlinewidth": 0,
              "ticks": ""
             }
            },
            "type": "scattermap"
           }
          ],
          "scattermapbox": [
           {
            "marker": {
             "colorbar": {
              "outlinewidth": 0,
              "ticks": ""
             }
            },
            "type": "scattermapbox"
           }
          ],
          "scatterpolar": [
           {
            "marker": {
             "colorbar": {
              "outlinewidth": 0,
              "ticks": ""
             }
            },
            "type": "scatterpolar"
           }
          ],
          "scatterpolargl": [
           {
            "marker": {
             "colorbar": {
              "outlinewidth": 0,
              "ticks": ""
             }
            },
            "type": "scatterpolargl"
           }
          ],
          "scatterternary": [
           {
            "marker": {
             "colorbar": {
              "outlinewidth": 0,
              "ticks": ""
             }
            },
            "type": "scatterternary"
           }
          ],
          "surface": [
           {
            "colorbar": {
             "outlinewidth": 0,
             "ticks": ""
            },
            "colorscale": [
             [
              0,
              "#0d0887"
             ],
             [
              0.1111111111111111,
              "#46039f"
             ],
             [
              0.2222222222222222,
              "#7201a8"
             ],
             [
              0.3333333333333333,
              "#9c179e"
             ],
             [
              0.4444444444444444,
              "#bd3786"
             ],
             [
              0.5555555555555556,
              "#d8576b"
             ],
             [
              0.6666666666666666,
              "#ed7953"
             ],
             [
              0.7777777777777778,
              "#fb9f3a"
             ],
             [
              0.8888888888888888,
              "#fdca26"
             ],
             [
              1,
              "#f0f921"
             ]
            ],
            "type": "surface"
           }
          ],
          "table": [
           {
            "cells": {
             "fill": {
              "color": "#EBF0F8"
             },
             "line": {
              "color": "white"
             }
            },
            "header": {
             "fill": {
              "color": "#C8D4E3"
             },
             "line": {
              "color": "white"
             }
            },
            "type": "table"
           }
          ]
         },
         "layout": {
          "annotationdefaults": {
           "arrowcolor": "#2a3f5f",
           "arrowhead": 0,
           "arrowwidth": 1
          },
          "autotypenumbers": "strict",
          "coloraxis": {
           "colorbar": {
            "outlinewidth": 0,
            "ticks": ""
           }
          },
          "colorscale": {
           "diverging": [
            [
             0,
             "#8e0152"
            ],
            [
             0.1,
             "#c51b7d"
            ],
            [
             0.2,
             "#de77ae"
            ],
            [
             0.3,
             "#f1b6da"
            ],
            [
             0.4,
             "#fde0ef"
            ],
            [
             0.5,
             "#f7f7f7"
            ],
            [
             0.6,
             "#e6f5d0"
            ],
            [
             0.7,
             "#b8e186"
            ],
            [
             0.8,
             "#7fbc41"
            ],
            [
             0.9,
             "#4d9221"
            ],
            [
             1,
             "#276419"
            ]
           ],
           "sequential": [
            [
             0,
             "#0d0887"
            ],
            [
             0.1111111111111111,
             "#46039f"
            ],
            [
             0.2222222222222222,
             "#7201a8"
            ],
            [
             0.3333333333333333,
             "#9c179e"
            ],
            [
             0.4444444444444444,
             "#bd3786"
            ],
            [
             0.5555555555555556,
             "#d8576b"
            ],
            [
             0.6666666666666666,
             "#ed7953"
            ],
            [
             0.7777777777777778,
             "#fb9f3a"
            ],
            [
             0.8888888888888888,
             "#fdca26"
            ],
            [
             1,
             "#f0f921"
            ]
           ],
           "sequentialminus": [
            [
             0,
             "#0d0887"
            ],
            [
             0.1111111111111111,
             "#46039f"
            ],
            [
             0.2222222222222222,
             "#7201a8"
            ],
            [
             0.3333333333333333,
             "#9c179e"
            ],
            [
             0.4444444444444444,
             "#bd3786"
            ],
            [
             0.5555555555555556,
             "#d8576b"
            ],
            [
             0.6666666666666666,
             "#ed7953"
            ],
            [
             0.7777777777777778,
             "#fb9f3a"
            ],
            [
             0.8888888888888888,
             "#fdca26"
            ],
            [
             1,
             "#f0f921"
            ]
           ]
          },
          "colorway": [
           "#636efa",
           "#EF553B",
           "#00cc96",
           "#ab63fa",
           "#FFA15A",
           "#19d3f3",
           "#FF6692",
           "#B6E880",
           "#FF97FF",
           "#FECB52"
          ],
          "font": {
           "color": "#2a3f5f"
          },
          "geo": {
           "bgcolor": "white",
           "lakecolor": "white",
           "landcolor": "#E5ECF6",
           "showlakes": true,
           "showland": true,
           "subunitcolor": "white"
          },
          "hoverlabel": {
           "align": "left"
          },
          "hovermode": "closest",
          "mapbox": {
           "style": "light"
          },
          "paper_bgcolor": "white",
          "plot_bgcolor": "#E5ECF6",
          "polar": {
           "angularaxis": {
            "gridcolor": "white",
            "linecolor": "white",
            "ticks": ""
           },
           "bgcolor": "#E5ECF6",
           "radialaxis": {
            "gridcolor": "white",
            "linecolor": "white",
            "ticks": ""
           }
          },
          "scene": {
           "xaxis": {
            "backgroundcolor": "#E5ECF6",
            "gridcolor": "white",
            "gridwidth": 2,
            "linecolor": "white",
            "showbackground": true,
            "ticks": "",
            "zerolinecolor": "white"
           },
           "yaxis": {
            "backgroundcolor": "#E5ECF6",
            "gridcolor": "white",
            "gridwidth": 2,
            "linecolor": "white",
            "showbackground": true,
            "ticks": "",
            "zerolinecolor": "white"
           },
           "zaxis": {
            "backgroundcolor": "#E5ECF6",
            "gridcolor": "white",
            "gridwidth": 2,
            "linecolor": "white",
            "showbackground": true,
            "ticks": "",
            "zerolinecolor": "white"
           }
          },
          "shapedefaults": {
           "line": {
            "color": "#2a3f5f"
           }
          },
          "ternary": {
           "aaxis": {
            "gridcolor": "white",
            "linecolor": "white",
            "ticks": ""
           },
           "baxis": {
            "gridcolor": "white",
            "linecolor": "white",
            "ticks": ""
           },
           "bgcolor": "#E5ECF6",
           "caxis": {
            "gridcolor": "white",
            "linecolor": "white",
            "ticks": ""
           }
          },
          "title": {
           "x": 0.05
          },
          "xaxis": {
           "automargin": true,
           "gridcolor": "white",
           "linecolor": "white",
           "ticks": "",
           "title": {
            "standoff": 15
           },
           "zerolinecolor": "white",
           "zerolinewidth": 2
          },
          "yaxis": {
           "automargin": true,
           "gridcolor": "white",
           "linecolor": "white",
           "ticks": "",
           "title": {
            "standoff": 15
           },
           "zerolinecolor": "white",
           "zerolinewidth": 2
          }
         }
        }
       }
      }
     },
     "metadata": {},
     "output_type": "display_data"
    }
   ],
   "source": [
    "# Tornem a càrregar el senyal de referència (Lab 1)\n",
    "filepath = \"./audio/Guitar-string-plucked-at-headstock.wav\"\n",
    "ref, fs = load_audio(filepath)\n",
    "\n",
    "# Freqüència i període fonamental del senyal\n",
    "f0 = 950     \n",
    "T = 1 / f0      \n",
    "\n",
    "# Seleccionem un fragment amb amplitud estable (es manté més o menys contínua en el temps)\n",
    "t_start = 0.1\n",
    "t_end = t_start + 10 * T    # mostra uns 10 períodes\n",
    "\n",
    "# Representació del senyal en aquest interval de temps\n",
    "plot_signals(ref, fs, t_start=t_start, t_end=t_end, name='Senyal de referència')"
   ]
  },
  {
   "cell_type": "markdown",
   "metadata": {
    "id": "Q9q9DSPkzkKi"
   },
   "source": [
    "3.2. Now, define a harmonic signal, `y` whose fundamental frequency is the defined in Lab 1. Go step by step adding a new harmonic in each step. Plot both signals (the reference and the synthesized) and try to reproduce the shape of the reference signal.\n",
    "\n",
    "**Note 1**: in order to have a similar shape, we need to select the amplitudes and phases carefully. One way to do this is to define the harmonic signal as follows:\n",
    "\n",
    "$$y(t) = \\sum_{k=1}^K A_k\\cos\\left(2\\pi kf_0 t + k \\phi - (k-1)\\pi/2 \\right), $$\n",
    "\n",
    "where $K$ is the number of harmonics, $f_0$ is the fundamental frequency, $A_k$ is the amplitude (weight) of each harmonic and $\\phi$ is the phase of the signal (defined in Lab1 Ex 2.4).\n",
    "\n",
    "**Note 2**:\n",
    "Define the $A_k$ values relative to the fundamental frequency. This means to define $A_1=1$ and the others less than 1. You can use Audacity to plot the spectrum of the fragment selected of the reference audio and measure the relative amplitudes of the harmonics.\n",
    "\n",
    "**Note 3**: Normalize the amplitude of the signal by the same amplitude of the reference. For instance, if the amplitude of the reference signal is 0.33, you can normalize the syntesized signal by first dividing by its maximum and then multiplyng by 0.33:\n",
    "\n",
    "```\n",
    "y = 0.33 * y / np.amax(y)\n",
    "```"
   ]
  },
  {
   "cell_type": "code",
   "execution_count": 64,
   "metadata": {
    "executionInfo": {
     "elapsed": 13,
     "status": "ok",
     "timestamp": 1702317971657,
     "user": {
      "displayName": "PEDRO RAMONEDA FRANCO",
      "userId": "10653804143244385715"
     },
     "user_tz": -60
    },
    "id": "-1LHtBuyZ9q6"
   },
   "outputs": [
    {
     "data": {
      "application/vnd.plotly.v1+json": {
       "config": {
        "linkText": "Export to plot.ly",
        "plotlyServerURL": "https://plot.ly",
        "showLink": false
       },
       "data": [
        {
         "line": {
          "color": "#1f77b4",
          "shape": "linear"
         },
         "mode": "lines",
         "name": "Referència",
         "type": "scatter",
         "x": {
          "bdata": "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",
          "dtype": "f8"
         },
         "y": {
          "bdata": "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",
          "dtype": "f8"
         }
        },
        {
         "line": {
          "color": "#ff7f0e",
          "shape": "linear"
         },
         "mode": "lines",
         "name": "Senyal harmònic",
         "type": "scatter",
         "x": {
          "bdata": "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",
          "dtype": "f8"
         },
         "y": {
          "bdata": "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",
          "dtype": "f8"
         }
        }
       ],
       "layout": {
        "template": {
         "data": {
          "bar": [
           {
            "error_x": {
             "color": "#2a3f5f"
            },
            "error_y": {
             "color": "#2a3f5f"
            },
            "marker": {
             "line": {
              "color": "#E5ECF6",
              "width": 0.5
             },
             "pattern": {
              "fillmode": "overlay",
              "size": 10,
              "solidity": 0.2
             }
            },
            "type": "bar"
           }
          ],
          "barpolar": [
           {
            "marker": {
             "line": {
              "color": "#E5ECF6",
              "width": 0.5
             },
             "pattern": {
              "fillmode": "overlay",
              "size": 10,
              "solidity": 0.2
             }
            },
            "type": "barpolar"
           }
          ],
          "carpet": [
           {
            "aaxis": {
             "endlinecolor": "#2a3f5f",
             "gridcolor": "white",
             "linecolor": "white",
             "minorgridcolor": "white",
             "startlinecolor": "#2a3f5f"
            },
            "baxis": {
             "endlinecolor": "#2a3f5f",
             "gridcolor": "white",
             "linecolor": "white",
             "minorgridcolor": "white",
             "startlinecolor": "#2a3f5f"
            },
            "type": "carpet"
           }
          ],
          "choropleth": [
           {
            "colorbar": {
             "outlinewidth": 0,
             "ticks": ""
            },
            "type": "choropleth"
           }
          ],
          "contour": [
           {
            "colorbar": {
             "outlinewidth": 0,
             "ticks": ""
            },
            "colorscale": [
             [
              0,
              "#0d0887"
             ],
             [
              0.1111111111111111,
              "#46039f"
             ],
             [
              0.2222222222222222,
              "#7201a8"
             ],
             [
              0.3333333333333333,
              "#9c179e"
             ],
             [
              0.4444444444444444,
              "#bd3786"
             ],
             [
              0.5555555555555556,
              "#d8576b"
             ],
             [
              0.6666666666666666,
              "#ed7953"
             ],
             [
              0.7777777777777778,
              "#fb9f3a"
             ],
             [
              0.8888888888888888,
              "#fdca26"
             ],
             [
              1,
              "#f0f921"
             ]
            ],
            "type": "contour"
           }
          ],
          "contourcarpet": [
           {
            "colorbar": {
             "outlinewidth": 0,
             "ticks": ""
            },
            "type": "contourcarpet"
           }
          ],
          "heatmap": [
           {
            "colorbar": {
             "outlinewidth": 0,
             "ticks": ""
            },
            "colorscale": [
             [
              0,
              "#0d0887"
             ],
             [
              0.1111111111111111,
              "#46039f"
             ],
             [
              0.2222222222222222,
              "#7201a8"
             ],
             [
              0.3333333333333333,
              "#9c179e"
             ],
             [
              0.4444444444444444,
              "#bd3786"
             ],
             [
              0.5555555555555556,
              "#d8576b"
             ],
             [
              0.6666666666666666,
              "#ed7953"
             ],
             [
              0.7777777777777778,
              "#fb9f3a"
             ],
             [
              0.8888888888888888,
              "#fdca26"
             ],
             [
              1,
              "#f0f921"
             ]
            ],
            "type": "heatmap"
           }
          ],
          "histogram": [
           {
            "marker": {
             "pattern": {
              "fillmode": "overlay",
              "size": 10,
              "solidity": 0.2
             }
            },
            "type": "histogram"
           }
          ],
          "histogram2d": [
           {
            "colorbar": {
             "outlinewidth": 0,
             "ticks": ""
            },
            "colorscale": [
             [
              0,
              "#0d0887"
             ],
             [
              0.1111111111111111,
              "#46039f"
             ],
             [
              0.2222222222222222,
              "#7201a8"
             ],
             [
              0.3333333333333333,
              "#9c179e"
             ],
             [
              0.4444444444444444,
              "#bd3786"
             ],
             [
              0.5555555555555556,
              "#d8576b"
             ],
             [
              0.6666666666666666,
              "#ed7953"
             ],
             [
              0.7777777777777778,
              "#fb9f3a"
             ],
             [
              0.8888888888888888,
              "#fdca26"
             ],
             [
              1,
              "#f0f921"
             ]
            ],
            "type": "histogram2d"
           }
          ],
          "histogram2dcontour": [
           {
            "colorbar": {
             "outlinewidth": 0,
             "ticks": ""
            },
            "colorscale": [
             [
              0,
              "#0d0887"
             ],
             [
              0.1111111111111111,
              "#46039f"
             ],
             [
              0.2222222222222222,
              "#7201a8"
             ],
             [
              0.3333333333333333,
              "#9c179e"
             ],
             [
              0.4444444444444444,
              "#bd3786"
             ],
             [
              0.5555555555555556,
              "#d8576b"
             ],
             [
              0.6666666666666666,
              "#ed7953"
             ],
             [
              0.7777777777777778,
              "#fb9f3a"
             ],
             [
              0.8888888888888888,
              "#fdca26"
             ],
             [
              1,
              "#f0f921"
             ]
            ],
            "type": "histogram2dcontour"
           }
          ],
          "mesh3d": [
           {
            "colorbar": {
             "outlinewidth": 0,
             "ticks": ""
            },
            "type": "mesh3d"
           }
          ],
          "parcoords": [
           {
            "line": {
             "colorbar": {
              "outlinewidth": 0,
              "ticks": ""
             }
            },
            "type": "parcoords"
           }
          ],
          "pie": [
           {
            "automargin": true,
            "type": "pie"
           }
          ],
          "scatter": [
           {
            "fillpattern": {
             "fillmode": "overlay",
             "size": 10,
             "solidity": 0.2
            },
            "type": "scatter"
           }
          ],
          "scatter3d": [
           {
            "line": {
             "colorbar": {
              "outlinewidth": 0,
              "ticks": ""
             }
            },
            "marker": {
             "colorbar": {
              "outlinewidth": 0,
              "ticks": ""
             }
            },
            "type": "scatter3d"
           }
          ],
          "scattercarpet": [
           {
            "marker": {
             "colorbar": {
              "outlinewidth": 0,
              "ticks": ""
             }
            },
            "type": "scattercarpet"
           }
          ],
          "scattergeo": [
           {
            "marker": {
             "colorbar": {
              "outlinewidth": 0,
              "ticks": ""
             }
            },
            "type": "scattergeo"
           }
          ],
          "scattergl": [
           {
            "marker": {
             "colorbar": {
              "outlinewidth": 0,
              "ticks": ""
             }
            },
            "type": "scattergl"
           }
          ],
          "scattermap": [
           {
            "marker": {
             "colorbar": {
              "outlinewidth": 0,
              "ticks": ""
             }
            },
            "type": "scattermap"
           }
          ],
          "scattermapbox": [
           {
            "marker": {
             "colorbar": {
              "outlinewidth": 0,
              "ticks": ""
             }
            },
            "type": "scattermapbox"
           }
          ],
          "scatterpolar": [
           {
            "marker": {
             "colorbar": {
              "outlinewidth": 0,
              "ticks": ""
             }
            },
            "type": "scatterpolar"
           }
          ],
          "scatterpolargl": [
           {
            "marker": {
             "colorbar": {
              "outlinewidth": 0,
              "ticks": ""
             }
            },
            "type": "scatterpolargl"
           }
          ],
          "scatterternary": [
           {
            "marker": {
             "colorbar": {
              "outlinewidth": 0,
              "ticks": ""
             }
            },
            "type": "scatterternary"
           }
          ],
          "surface": [
           {
            "colorbar": {
             "outlinewidth": 0,
             "ticks": ""
            },
            "colorscale": [
             [
              0,
              "#0d0887"
             ],
             [
              0.1111111111111111,
              "#46039f"
             ],
             [
              0.2222222222222222,
              "#7201a8"
             ],
             [
              0.3333333333333333,
              "#9c179e"
             ],
             [
              0.4444444444444444,
              "#bd3786"
             ],
             [
              0.5555555555555556,
              "#d8576b"
             ],
             [
              0.6666666666666666,
              "#ed7953"
             ],
             [
              0.7777777777777778,
              "#fb9f3a"
             ],
             [
              0.8888888888888888,
              "#fdca26"
             ],
             [
              1,
              "#f0f921"
             ]
            ],
            "type": "surface"
           }
          ],
          "table": [
           {
            "cells": {
             "fill": {
              "color": "#EBF0F8"
             },
             "line": {
              "color": "white"
             }
            },
            "header": {
             "fill": {
              "color": "#C8D4E3"
             },
             "line": {
              "color": "white"
             }
            },
            "type": "table"
           }
          ]
         },
         "layout": {
          "annotationdefaults": {
           "arrowcolor": "#2a3f5f",
           "arrowhead": 0,
           "arrowwidth": 1
          },
          "autotypenumbers": "strict",
          "coloraxis": {
           "colorbar": {
            "outlinewidth": 0,
            "ticks": ""
           }
          },
          "colorscale": {
           "diverging": [
            [
             0,
             "#8e0152"
            ],
            [
             0.1,
             "#c51b7d"
            ],
            [
             0.2,
             "#de77ae"
            ],
            [
             0.3,
             "#f1b6da"
            ],
            [
             0.4,
             "#fde0ef"
            ],
            [
             0.5,
             "#f7f7f7"
            ],
            [
             0.6,
             "#e6f5d0"
            ],
            [
             0.7,
             "#b8e186"
            ],
            [
             0.8,
             "#7fbc41"
            ],
            [
             0.9,
             "#4d9221"
            ],
            [
             1,
             "#276419"
            ]
           ],
           "sequential": [
            [
             0,
             "#0d0887"
            ],
            [
             0.1111111111111111,
             "#46039f"
            ],
            [
             0.2222222222222222,
             "#7201a8"
            ],
            [
             0.3333333333333333,
             "#9c179e"
            ],
            [
             0.4444444444444444,
             "#bd3786"
            ],
            [
             0.5555555555555556,
             "#d8576b"
            ],
            [
             0.6666666666666666,
             "#ed7953"
            ],
            [
             0.7777777777777778,
             "#fb9f3a"
            ],
            [
             0.8888888888888888,
             "#fdca26"
            ],
            [
             1,
             "#f0f921"
            ]
           ],
           "sequentialminus": [
            [
             0,
             "#0d0887"
            ],
            [
             0.1111111111111111,
             "#46039f"
            ],
            [
             0.2222222222222222,
             "#7201a8"
            ],
            [
             0.3333333333333333,
             "#9c179e"
            ],
            [
             0.4444444444444444,
             "#bd3786"
            ],
            [
             0.5555555555555556,
             "#d8576b"
            ],
            [
             0.6666666666666666,
             "#ed7953"
            ],
            [
             0.7777777777777778,
             "#fb9f3a"
            ],
            [
             0.8888888888888888,
             "#fdca26"
            ],
            [
             1,
             "#f0f921"
            ]
           ]
          },
          "colorway": [
           "#636efa",
           "#EF553B",
           "#00cc96",
           "#ab63fa",
           "#FFA15A",
           "#19d3f3",
           "#FF6692",
           "#B6E880",
           "#FF97FF",
           "#FECB52"
          ],
          "font": {
           "color": "#2a3f5f"
          },
          "geo": {
           "bgcolor": "white",
           "lakecolor": "white",
           "landcolor": "#E5ECF6",
           "showlakes": true,
           "showland": true,
           "subunitcolor": "white"
          },
          "hoverlabel": {
           "align": "left"
          },
          "hovermode": "closest",
          "mapbox": {
           "style": "light"
          },
          "paper_bgcolor": "white",
          "plot_bgcolor": "#E5ECF6",
          "polar": {
           "angularaxis": {
            "gridcolor": "white",
            "linecolor": "white",
            "ticks": ""
           },
           "bgcolor": "#E5ECF6",
           "radialaxis": {
            "gridcolor": "white",
            "linecolor": "white",
            "ticks": ""
           }
          },
          "scene": {
           "xaxis": {
            "backgroundcolor": "#E5ECF6",
            "gridcolor": "white",
            "gridwidth": 2,
            "linecolor": "white",
            "showbackground": true,
            "ticks": "",
            "zerolinecolor": "white"
           },
           "yaxis": {
            "backgroundcolor": "#E5ECF6",
            "gridcolor": "white",
            "gridwidth": 2,
            "linecolor": "white",
            "showbackground": true,
            "ticks": "",
            "zerolinecolor": "white"
           },
           "zaxis": {
            "backgroundcolor": "#E5ECF6",
            "gridcolor": "white",
            "gridwidth": 2,
            "linecolor": "white",
            "showbackground": true,
            "ticks": "",
            "zerolinecolor": "white"
           }
          },
          "shapedefaults": {
           "line": {
            "color": "#2a3f5f"
           }
          },
          "ternary": {
           "aaxis": {
            "gridcolor": "white",
            "linecolor": "white",
            "ticks": ""
           },
           "baxis": {
            "gridcolor": "white",
            "linecolor": "white",
            "ticks": ""
           },
           "bgcolor": "#E5ECF6",
           "caxis": {
            "gridcolor": "white",
            "linecolor": "white",
            "ticks": ""
           }
          },
          "title": {
           "x": 0.05
          },
          "xaxis": {
           "automargin": true,
           "gridcolor": "white",
           "linecolor": "white",
           "ticks": "",
           "title": {
            "standoff": 15
           },
           "zerolinecolor": "white",
           "zerolinewidth": 2
          },
          "yaxis": {
           "automargin": true,
           "gridcolor": "white",
           "linecolor": "white",
           "ticks": "",
           "title": {
            "standoff": 15
           },
           "zerolinecolor": "white",
           "zerolinewidth": 2
          }
         }
        }
       }
      }
     },
     "metadata": {},
     "output_type": "display_data"
    }
   ],
   "source": [
    "# Paràmetres inicials (matexos que els del Lab 1)\n",
    "phi = 0       # fase inicial \n",
    "A_ref = 0.1      # amplitud inicial de referència\n",
    "duration = 1     # 1 segon d'audió\n",
    "t = np.linspace(0, duration, int(fs * duration))\n",
    "\n",
    "# Definim els paràmetres dels harmònics\n",
    "K = 5       # nombre d'harmònics\n",
    "Ak = [1.0, 0.5, 0.3, 0.15, 0.1]    # amplituds relatives (A1 és la fonamental)\n",
    "y = np.zeros_like(t)\n",
    "\n",
    "# Construcció del senyal harmònic (fórmula esmentada anteriorment)\n",
    "for k in range(1, K + 1):\n",
    "    y += Ak[k - 1] * np.cos(2 * np.pi * k * f0 * t + k * phi - (k - 1) * np.pi / 2)\n",
    "\n",
    "# Per millorar el senyal, simulem la decadència de l'amplitud\n",
    "decay_rate = 11  # controla la velocitat de decadència\n",
    "decay = np.exp(-decay_rate * t)\n",
    "y *= decay\n",
    "\n",
    "# Normalitzem per tenir la mateixa amplitud màxima que la referència\n",
    "y = A_ref * y / np.max(y)\n",
    "\n",
    "# Representem el senyal de referència i el sintetitzat en un cert interval\n",
    "plot_signals([ref[:len(y)], y], fs, t_start=0.1, t_end=t_start + 10*T,\n",
    "             name=['Referència', 'Senyal harmònic'])\n",
    "\n"
   ]
  },
  {
   "cell_type": "markdown",
   "metadata": {
    "id": "FFOPYFkn3fmh"
   },
   "source": [
    "3.3. Listen to the synthtesis and remark what are the main differences between the reference and synthesis."
   ]
  },
  {
   "cell_type": "code",
   "execution_count": 65,
   "metadata": {
    "colab": {
     "base_uri": "https://localhost:8080/",
     "height": 176
    },
    "executionInfo": {
     "elapsed": 13,
     "status": "error",
     "timestamp": 1702317971657,
     "user": {
      "displayName": "PEDRO RAMONEDA FRANCO",
      "userId": "10653804143244385715"
     },
     "user_tz": -60
    },
    "id": "Jztm9rOd3etP",
    "outputId": "97312be1-7d6a-4034-e147-9fcac5de1e7c"
   },
   "outputs": [
    {
     "data": {
      "text/html": [
       "\n",
       "                <audio  controls=\"controls\" >\n",
       "                    <source src=\"data:audio/wav;base64,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\" type=\"audio/wav\" />\n",
       "                    Your browser does not support the audio element.\n",
       "                </audio>\n",
       "              "
      ],
      "text/plain": [
       "<IPython.lib.display.Audio object>"
      ]
     },
     "execution_count": 65,
     "metadata": {},
     "output_type": "execute_result"
    }
   ],
   "source": [
    "# Escoltem l'audio sintetitzat\n",
    "Audio(y,rate=fs)"
   ]
  },
  {
   "cell_type": "code",
   "execution_count": 66,
   "metadata": {},
   "outputs": [],
   "source": [
    "# Guardem l'audio del senyal harmònic\n",
    "save_audio(\"audio/harmonic_synth.wav\", y, fs)"
   ]
  },
  {
   "cell_type": "markdown",
   "metadata": {
    "id": "2S9SR2Ev3lZn"
   },
   "source": [
    "Comparant el so de referència i l'audio sintetitzat, es pot observar que són bastant similars, però que tenen vàries diferències. Per exemple, en l'audio del senyal harmònic no hi ha tanta vibració i el so és menys greu. A més, tot i que s'han afegit harmònics al so sintetitzat, el so de referència té més soroll i més ressonàncies. Finalment, la decadència de l'amplitud que s'ha volgut simular no és tant natural com la del so original."
   ]
  }
 ],
 "metadata": {
  "colab": {
   "provenance": []
  },
  "kernelspec": {
   "display_name": ".venv",
   "language": "python",
   "name": "python3"
  },
  "language_info": {
   "codemirror_mode": {
    "name": "ipython",
    "version": 3
   },
   "file_extension": ".py",
   "mimetype": "text/x-python",
   "name": "python",
   "nbconvert_exporter": "python",
   "pygments_lexer": "ipython3",
   "version": "3.12.0"
  }
 },
 "nbformat": 4,
 "nbformat_minor": 0
}
